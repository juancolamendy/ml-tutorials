{
 "cells": [
  {
   "cell_type": "code",
   "execution_count": 1,
   "id": "81eeb491-0c36-47a5-8992-3284a67cc9ad",
   "metadata": {},
   "outputs": [
    {
     "name": "stdout",
     "output_type": "stream",
     "text": [
      "SGDRegressor()\n"
     ]
    }
   ],
   "source": [
    "import numpy as np\n",
    "from sklearn.linear_model import SGDRegressor\n",
    "\n",
    "# Number of training points (for a large dataset simulation)\n",
    "num_samples = 100000\n",
    "num_features = 10\n",
    "\n",
    "# Synthetic data generation function\n",
    "def generate_synthetic_data(num_samples, num_features):\n",
    "    X = np.random.rand(num_samples, num_features)\n",
    "    y = np.random.rand(num_samples)\n",
    "    return X, y\n",
    "\n",
    "# Function to provide chunks one by one\n",
    "def iter_minibatches(X, y, chunksize):\n",
    "    start = 0\n",
    "    while start < num_samples:\n",
    "        end = min(start + chunksize, num_samples)\n",
    "        X_chunk, y_chunk = X[start:end], y[start:end]\n",
    "        yield X_chunk, y_chunk\n",
    "        start += chunksize\n",
    "\n",
    "def train_model(num_samples, num_features):\n",
    "    # Generate synthetic data\n",
    "    X, y = generate_synthetic_data(num_samples, num_features)\n",
    "\n",
    "    batcherator = iter_minibatches(X, y, chunksize=32)\n",
    "    model = SGDRegressor()\n",
    "\n",
    "    # Train model\n",
    "    for X_chunk, y_chunk in batcherator:\n",
    "        model.partial_fit(X_chunk, y_chunk)\n",
    "\n",
    "    # Model is now trained on the synthetic dataset\n",
    "    return model\n",
    "\n",
    "# Train the model using the main function\n",
    "trained_model = train_model(num_samples, num_features)\n",
    "\n",
    "print(trained_model)"
   ]
  }
 ],
 "metadata": {
  "kernelspec": {
   "display_name": "Python 3 (ipykernel)",
   "language": "python",
   "name": "python3"
  },
  "language_info": {
   "codemirror_mode": {
    "name": "ipython",
    "version": 3
   },
   "file_extension": ".py",
   "mimetype": "text/x-python",
   "name": "python",
   "nbconvert_exporter": "python",
   "pygments_lexer": "ipython3",
   "version": "3.9.6"
  }
 },
 "nbformat": 4,
 "nbformat_minor": 5
}
