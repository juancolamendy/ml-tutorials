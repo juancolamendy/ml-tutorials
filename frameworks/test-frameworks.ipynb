{
 "cells": [
  {
   "cell_type": "markdown",
   "id": "14452e75-7cee-4e43-9e1f-37bddd44a323",
   "metadata": {},
   "source": [
    "# Torch Test"
   ]
  },
  {
   "cell_type": "code",
   "execution_count": 1,
   "id": "1764f2ed-7db1-43f3-81ad-a7c520187552",
   "metadata": {},
   "outputs": [
    {
     "name": "stdout",
     "output_type": "stream",
     "text": [
      "2.2.2\n"
     ]
    }
   ],
   "source": [
    "import torch\n",
    "\n",
    "print(torch.__version__)"
   ]
  },
  {
   "cell_type": "code",
   "execution_count": 2,
   "id": "b846781e-2366-4936-9272-22491c0ae5ae",
   "metadata": {},
   "outputs": [],
   "source": [
    "import torch\n",
    "\n",
    "def create_torch_tensors(device):\n",
    "    x = torch.rand((10000, 10000), dtype=torch.float32)\n",
    "    y = torch.rand((10000, 10000), dtype=torch.float32)\n",
    "    x = x.to(device)\n",
    "    y = y.to(device)\n",
    "\n",
    "    return x, y"
   ]
  },
  {
   "cell_type": "code",
   "execution_count": 3,
   "id": "4c1f601e-fa87-40d6-b513-23963cd40e3c",
   "metadata": {},
   "outputs": [],
   "source": [
    "device = torch.device(\"cpu\")\n",
    "x, y = create_torch_tensors(device)"
   ]
  },
  {
   "cell_type": "code",
   "execution_count": 4,
   "id": "1b3ea46d-639f-4f72-8ad9-efadedd44ed8",
   "metadata": {},
   "outputs": [
    {
     "name": "stdout",
     "output_type": "stream",
     "text": [
      "25.4 ms ± 1.33 ms per loop (mean ± std. dev. of 7 runs, 1 loop each)\n"
     ]
    }
   ],
   "source": [
    "%%timeit\n",
    "x * y"
   ]
  },
  {
   "cell_type": "code",
   "execution_count": 5,
   "id": "cd6a80d8-f0d5-4c8a-843f-f935a8173373",
   "metadata": {},
   "outputs": [],
   "source": [
    "device = torch.device(\"mps\")\n",
    "x, y = create_torch_tensors(device)"
   ]
  },
  {
   "cell_type": "code",
   "execution_count": 7,
   "id": "c7fd864e-f9f9-45eb-a843-e0a0f47dbbe5",
   "metadata": {},
   "outputs": [
    {
     "name": "stdout",
     "output_type": "stream",
     "text": [
      "6.86 ms ± 108 µs per loop (mean ± std. dev. of 7 runs, 100 loops each)\n"
     ]
    }
   ],
   "source": [
    "%%timeit\n",
    "x * y"
   ]
  },
  {
   "cell_type": "markdown",
   "id": "5be917fe-2c69-4424-894a-db374c6785f5",
   "metadata": {},
   "source": [
    "# Tensorflow"
   ]
  },
  {
   "cell_type": "code",
   "execution_count": 8,
   "id": "54732bd1-0eca-46cc-842a-63bf0a7ba28d",
   "metadata": {},
   "outputs": [
    {
     "name": "stderr",
     "output_type": "stream",
     "text": [
      "/Users/jcolamendy/python/tutorials/ml-tutorials/venv/lib/python3.9/site-packages/urllib3/__init__.py:35: NotOpenSSLWarning: urllib3 v2 only supports OpenSSL 1.1.1+, currently the 'ssl' module is compiled with 'LibreSSL 2.8.3'. See: https://github.com/urllib3/urllib3/issues/3020\n",
      "  warnings.warn(\n"
     ]
    },
    {
     "name": "stdout",
     "output_type": "stream",
     "text": [
      "2.16.1\n"
     ]
    }
   ],
   "source": [
    "import tensorflow\n",
    "\n",
    "print(tensorflow.__version__)"
   ]
  },
  {
   "cell_type": "code",
   "execution_count": 9,
   "id": "c0f9bf1c-953f-4b67-b498-e0f332dbed51",
   "metadata": {},
   "outputs": [],
   "source": [
    "import tensorflow as tf\n",
    "\n",
    "def create_tf_tensors():\n",
    "    x = tf.random.uniform((10000, 10000), dtype=tf.float32)\n",
    "    y = tf.random.uniform((10000, 10000), dtype=tf.float32)\n",
    "\n",
    "    return x, y\n",
    "\n",
    "x, y = create_tf_tensors()"
   ]
  },
  {
   "cell_type": "code",
   "execution_count": 10,
   "id": "f6d4f7eb-21da-40a8-9563-bac5e060bcc8",
   "metadata": {},
   "outputs": [
    {
     "name": "stdout",
     "output_type": "stream",
     "text": [
      "29.4 ms ± 3.75 ms per loop (mean ± std. dev. of 7 runs, 1 loop each)\n"
     ]
    }
   ],
   "source": [
    "%%timeit\n",
    "\n",
    "with tf.device(\"/CPU:0\"):\n",
    "    x * y"
   ]
  },
  {
   "cell_type": "code",
   "execution_count": 12,
   "id": "9b17f0fa-a520-4c22-a366-08d93c5c91eb",
   "metadata": {},
   "outputs": [
    {
     "name": "stdout",
     "output_type": "stream",
     "text": [
      "6.79 ms ± 147 µs per loop (mean ± std. dev. of 7 runs, 100 loops each)\n"
     ]
    }
   ],
   "source": [
    "%%timeit\n",
    "\n",
    "with tf.device(\"/GPU:0\"):\n",
    "    x * y"
   ]
  },
  {
   "cell_type": "markdown",
   "id": "abfbb7df-0738-4e6c-844c-12ab98c0fa3a",
   "metadata": {},
   "source": [
    "# JAX"
   ]
  },
  {
   "cell_type": "code",
   "execution_count": 13,
   "id": "a6bed048-563b-47b2-a3b9-0342f825cda5",
   "metadata": {},
   "outputs": [
    {
     "name": "stdout",
     "output_type": "stream",
     "text": [
      "0.4.26\n"
     ]
    }
   ],
   "source": [
    "import jax\n",
    "\n",
    "print(jax.__version__)"
   ]
  },
  {
   "cell_type": "code",
   "execution_count": 15,
   "id": "1556c80c-8457-4972-b532-46c5b662a866",
   "metadata": {},
   "outputs": [
    {
     "name": "stderr",
     "output_type": "stream",
     "text": [
      "objc[74949]: Class MetalStreamWrapper is implemented in both /Users/jcolamendy/python/tutorials/ml-tutorials/venv/lib/python3.9/site-packages/tensorflow-plugins/libmetal_plugin.dylib (0x3ae43d638) and /Users/jcolamendy/python/tutorials/ml-tutorials/venv/lib/python3.9/site-packages/jax_plugins/metal_plugin/pjrt_plugin_metal_14.dylib (0x46aee51f8). One of the two will be used. Which one is undefined.\n",
      "Platform 'METAL' is experimental and not all JAX functionality may be correctly supported!\n",
      "WARNING: All log messages before absl::InitializeLog() is called are written to STDERR\n",
      "W0000 00:00:1716489511.186145 3855892 mps_client.cc:510] WARNING: JAX Apple GPU support is experimental and not all JAX functionality is correctly supported!\n",
      "I0000 00:00:1716489511.188432 3855892 service.cc:145] XLA service 0x600001750300 initialized for platform METAL (this does not guarantee that XLA will be used). Devices:\n",
      "I0000 00:00:1716489511.188455 3855892 service.cc:153]   StreamExecutor device (0): Metal, <undefined>\n",
      "I0000 00:00:1716489511.190299 3855892 mps_client.cc:406] Using Simple allocator.\n",
      "I0000 00:00:1716489511.190312 3855892 mps_client.cc:384] XLA backend will use up to 8105328640 bytes on device 0 for SimpleAllocator.\n"
     ]
    },
    {
     "name": "stdout",
     "output_type": "stream",
     "text": [
      "Metal device set to: Apple M1 Pro\n"
     ]
    }
   ],
   "source": [
    "import jax\n",
    "import jax.numpy as jnp\n",
    "\n",
    "\n",
    "def create_jax_tensors():\n",
    "    x = jax.random.uniform(jax.random.PRNGKey(0), (10000, 10000), dtype=jnp.float32)\n",
    "    y = jax.random.uniform(jax.random.PRNGKey(1), (10000, 10000), dtype=jnp.float32)\n",
    "\n",
    "    return x, y\n",
    "\n",
    "\n",
    "x, y = create_jax_tensors()"
   ]
  },
  {
   "cell_type": "code",
   "execution_count": 17,
   "id": "56c247ad-4114-4f71-b3f8-0b1ccf421ac3",
   "metadata": {},
   "outputs": [
    {
     "name": "stdout",
     "output_type": "stream",
     "text": [
      "6.78 ms ± 128 µs per loop (mean ± std. dev. of 7 runs, 100 loops each)\n"
     ]
    }
   ],
   "source": [
    "%%timeit\n",
    "x * y"
   ]
  }
 ],
 "metadata": {
  "kernelspec": {
   "display_name": "Python 3 (ipykernel)",
   "language": "python",
   "name": "python3"
  },
  "language_info": {
   "codemirror_mode": {
    "name": "ipython",
    "version": 3
   },
   "file_extension": ".py",
   "mimetype": "text/x-python",
   "name": "python",
   "nbconvert_exporter": "python",
   "pygments_lexer": "ipython3",
   "version": "3.9.6"
  }
 },
 "nbformat": 4,
 "nbformat_minor": 5
}
