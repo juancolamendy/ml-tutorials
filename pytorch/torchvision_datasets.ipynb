{
 "cells": [
  {
   "cell_type": "code",
   "execution_count": 1,
   "id": "ecca3781-0254-4b27-926a-e190e3263919",
   "metadata": {},
   "outputs": [],
   "source": [
    "import torchvision.datasets\n",
    "from torch.utils.data import Dataset\n",
    "\n",
    "import matplotlib.pyplot as plt"
   ]
  },
  {
   "cell_type": "code",
   "execution_count": 3,
   "id": "967e1860-2927-407c-a59b-9a8eb14af9e6",
   "metadata": {},
   "outputs": [
    {
     "name": "stdout",
     "output_type": "stream",
     "text": [
      "Downloading http://yann.lecun.com/exdb/mnist/train-images-idx3-ubyte.gz\n",
      "Downloading http://yann.lecun.com/exdb/mnist/train-images-idx3-ubyte.gz to local_training_data/MNIST/raw/train-images-idx3-ubyte.gz\n"
     ]
    },
    {
     "name": "stderr",
     "output_type": "stream",
     "text": [
      "100%|█████████████████████████████████████████████████████████████████████████████████████████████████████████████████████████████████████████████████████████████████| 9912422/9912422 [00:00<00:00, 46262881.33it/s]\n"
     ]
    },
    {
     "name": "stdout",
     "output_type": "stream",
     "text": [
      "Extracting local_training_data/MNIST/raw/train-images-idx3-ubyte.gz to local_training_data/MNIST/raw\n",
      "\n",
      "Downloading http://yann.lecun.com/exdb/mnist/train-labels-idx1-ubyte.gz\n",
      "Downloading http://yann.lecun.com/exdb/mnist/train-labels-idx1-ubyte.gz to local_training_data/MNIST/raw/train-labels-idx1-ubyte.gz\n"
     ]
    },
    {
     "name": "stderr",
     "output_type": "stream",
     "text": [
      "100%|█████████████████████████████████████████████████████████████████████████████████████████████████████████████████████████████████████████████████████████████████████| 28881/28881 [00:00<00:00, 12555523.82it/s]"
     ]
    },
    {
     "name": "stdout",
     "output_type": "stream",
     "text": [
      "Extracting local_training_data/MNIST/raw/train-labels-idx1-ubyte.gz to local_training_data/MNIST/raw\n",
      "\n",
      "Downloading http://yann.lecun.com/exdb/mnist/t10k-images-idx3-ubyte.gz\n"
     ]
    },
    {
     "name": "stderr",
     "output_type": "stream",
     "text": [
      "\n"
     ]
    },
    {
     "name": "stdout",
     "output_type": "stream",
     "text": [
      "Downloading http://yann.lecun.com/exdb/mnist/t10k-images-idx3-ubyte.gz to local_training_data/MNIST/raw/t10k-images-idx3-ubyte.gz\n"
     ]
    },
    {
     "name": "stderr",
     "output_type": "stream",
     "text": [
      "100%|█████████████████████████████████████████████████████████████████████████████████████████████████████████████████████████████████████████████████████████████████| 1648877/1648877 [00:00<00:00, 15103860.10it/s]\n"
     ]
    },
    {
     "name": "stdout",
     "output_type": "stream",
     "text": [
      "Extracting local_training_data/MNIST/raw/t10k-images-idx3-ubyte.gz to local_training_data/MNIST/raw\n",
      "\n",
      "Downloading http://yann.lecun.com/exdb/mnist/t10k-labels-idx1-ubyte.gz\n",
      "Downloading http://yann.lecun.com/exdb/mnist/t10k-labels-idx1-ubyte.gz to local_training_data/MNIST/raw/t10k-labels-idx1-ubyte.gz\n"
     ]
    },
    {
     "name": "stderr",
     "output_type": "stream",
     "text": [
      "100%|████████████████████████████████████████████████████████████████████████████████████████████████████████████████████████████████████████████████████████████████████████| 4542/4542 [00:00<00:00, 6318583.34it/s]"
     ]
    },
    {
     "name": "stdout",
     "output_type": "stream",
     "text": [
      "Extracting local_training_data/MNIST/raw/t10k-labels-idx1-ubyte.gz to local_training_data/MNIST/raw\n",
      "\n",
      "True\n"
     ]
    },
    {
     "name": "stderr",
     "output_type": "stream",
     "text": [
      "\n"
     ]
    }
   ],
   "source": [
    "image_path = 'local_training_data'\n",
    "mnist_dataset = torchvision.datasets.MNIST(image_path, 'train', download=True)\n",
    "print( isinstance(mnist_dataset, Dataset) )"
   ]
  },
  {
   "cell_type": "code",
   "execution_count": 4,
   "id": "a9e3712d-381e-42d9-b4bb-9dd5fd44dee8",
   "metadata": {},
   "outputs": [
    {
     "name": "stdout",
     "output_type": "stream",
     "text": [
      "Dataset MNIST\n",
      "    Number of datapoints: 60000\n",
      "    Root location: local_training_data\n",
      "    Split: Test\n"
     ]
    }
   ],
   "source": [
    "print(mnist_dataset)"
   ]
  },
  {
   "cell_type": "code",
   "execution_count": 6,
   "id": "9da44bd5-9834-4dcf-b5e1-dc1d4cf47701",
   "metadata": {},
   "outputs": [
    {
     "name": "stdout",
     "output_type": "stream",
     "text": [
      "(<PIL.Image.Image image mode=L size=28x28 at 0x137ABD7F0>, 5)\n"
     ]
    }
   ],
   "source": [
    "example = next(iter(mnist_dataset))\n",
    "print(example)  # This will print the details of the example like image object and the label"
   ]
  },
  {
   "cell_type": "code",
   "execution_count": 9,
   "id": "99452510-ab89-474b-bde6-0646b65ac939",
   "metadata": {},
   "outputs": [
    {
     "name": "stdout",
     "output_type": "stream",
     "text": [
      "<class 'PIL.Image.Image'>\n",
      "<PIL.Image.Image image mode=L size=28x28 at 0x137ABD7F0>\n"
     ]
    }
   ],
   "source": [
    "print(type(example[0]))\n",
    "print(example[0])"
   ]
  },
  {
   "cell_type": "code",
   "execution_count": 13,
   "id": "420be1c0-5153-4737-b931-817e495acdbd",
   "metadata": {},
   "outputs": [
    {
     "name": "stdout",
     "output_type": "stream",
     "text": [
      "<PIL.Image.Image image mode=L size=28x28 at 0x144185C40>\n",
      "5\n",
      "<PIL.Image.Image image mode=L size=28x28 at 0x1441909A0>\n",
      "0\n",
      "<PIL.Image.Image image mode=L size=28x28 at 0x1441C89D0>\n",
      "4\n",
      "<PIL.Image.Image image mode=L size=28x28 at 0x1441D1F40>\n",
      "1\n",
      "<PIL.Image.Image image mode=L size=28x28 at 0x144335D00>\n",
      "9\n",
      "<PIL.Image.Image image mode=L size=28x28 at 0x144371D60>\n",
      "2\n",
      "<PIL.Image.Image image mode=L size=28x28 at 0x1443ACEB0>\n",
      "1\n",
      "<PIL.Image.Image image mode=L size=28x28 at 0x1443E5F10>\n",
      "3\n",
      "<PIL.Image.Image image mode=L size=28x28 at 0x144420C10>\n",
      "1\n",
      "<PIL.Image.Image image mode=L size=28x28 at 0x14445FC40>\n",
      "4\n"
     ]
    },
    {
     "data": {
      "image/png": "[encoded data removed]",
      "text/plain": [
       "<Figure size 1500x600 with 10 Axes>"
      ]
     },
     "metadata": {},
     "output_type": "display_data"
    }
   ],
   "source": [
    "max_img = 10\n",
    "fig = plt.figure(figsize=(15, 6))\n",
    "for i, (image, label) in enumerate(mnist_dataset):\n",
    "    if i >= max_img:\n",
    "        break\n",
    "    print(image)\n",
    "    print(label)\n",
    "    ax = fig.add_subplot(2, 5, i+1)\n",
    "    ax.imshow(image, cmap='gray_r')\n",
    "    ax.set_title(f'{label}', size=15)\n",
    "plt.show()"
   ]
  }
 ],
 "metadata": {
  "kernelspec": {
   "display_name": "Python 3 (ipykernel)",
   "language": "python",
   "name": "python3"
  },
  "language_info": {
   "codemirror_mode": {
    "name": "ipython",
    "version": 3
   },
   "file_extension": ".py",
   "mimetype": "text/x-python",
   "name": "python",
   "nbconvert_exporter": "python",
   "pygments_lexer": "ipython3",
   "version": "3.9.6"
  }
 },
 "nbformat": 4,
 "nbformat_minor": 5
}
