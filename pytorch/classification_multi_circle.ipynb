{
 "cells": [
  {
   "cell_type": "code",
   "execution_count": 13,
   "id": "dd3238f7-d0fa-44f9-a8db-7d43cdf045a6",
   "metadata": {},
   "outputs": [],
   "source": [
    "# Dependencies\n",
    "from sklearn.datasets import make_blobs\n",
    "from sklearn.model_selection import train_test_split\n",
    "\n",
    "import torch\n",
    "from torch import nn\n",
    "\n",
    "import matplotlib.pyplot as plt\n",
    "\n",
    "import numpy as np"
   ]
  },
  {
   "cell_type": "code",
   "execution_count": 15,
   "id": "74ed1f77-1fbe-4c56-96e9-ae30fb4b0dc7",
   "metadata": {},
   "outputs": [],
   "source": [
    "# make the dataset\n",
    "# Set the hyperparameters for data creation\n",
    "NUM_CLASSES = 4\n",
    "NUM_FEATURES = 2\n",
    "RANDOM_SEED = 42\n",
    "\n",
    "# 1. Create multi-class data\n",
    "X, y = make_blobs(n_samples=1000,\n",
    "    n_features=NUM_FEATURES, # X features\n",
    "    centers=NUM_CLASSES, # y labels \n",
    "    cluster_std=1.5, # give the clusters a little shake up (try changing this to 1.0, the default)\n",
    "    random_state=RANDOM_SEED\n",
    ")"
   ]
  },
  {
   "cell_type": "code",
   "execution_count": 16,
   "id": "4d65ba1c-6492-429d-9de9-49e71ddb4101",
   "metadata": {},
   "outputs": [
    {
     "name": "stdout",
     "output_type": "stream",
     "text": [
      "<class 'numpy.ndarray'> (1000, 2)\n",
      "<class 'numpy.ndarray'> (1000,)\n",
      "First 5 X features:\n",
      "[[-8.41339595  6.93516545]\n",
      " [-5.76648413 -6.43117072]\n",
      " [-6.04213682 -6.76610151]\n",
      " [ 3.95083749  0.69840313]\n",
      " [ 4.25049181 -0.28154475]]\n",
      "\n",
      "First 5 y labels:\n",
      "[3 2 2 1 1]\n"
     ]
    }
   ],
   "source": [
    "print(type(X), X.shape)\n",
    "print(type(y), y.shape)\n",
    "print(f\"First 5 X features:\\n{X[:5]}\")\n",
    "print(f\"\\nFirst 5 y labels:\\n{y[:5]}\")"
   ]
  },
  {
   "cell_type": "code",
   "execution_count": 17,
   "id": "c7239e92-3882-42ab-8142-17e9bb39877a",
   "metadata": {},
   "outputs": [
    {
     "data": {
      "text/html": [
       "<div>\n",
       "<style scoped>\n",
       "    .dataframe tbody tr th:only-of-type {\n",
       "        vertical-align: middle;\n",
       "    }\n",
       "\n",
       "    .dataframe tbody tr th {\n",
       "        vertical-align: top;\n",
       "    }\n",
       "\n",
       "    .dataframe thead th {\n",
       "        text-align: right;\n",
       "    }\n",
       "</style>\n",
       "<table border=\"1\" class=\"dataframe\">\n",
       "  <thead>\n",
       "    <tr style=\"text-align: right;\">\n",
       "      <th></th>\n",
       "      <th>X1</th>\n",
       "      <th>X2</th>\n",
       "      <th>label</th>\n",
       "    </tr>\n",
       "  </thead>\n",
       "  <tbody>\n",
       "    <tr>\n",
       "      <th>0</th>\n",
       "      <td>-8.413396</td>\n",
       "      <td>6.935165</td>\n",
       "      <td>3</td>\n",
       "    </tr>\n",
       "    <tr>\n",
       "      <th>1</th>\n",
       "      <td>-5.766484</td>\n",
       "      <td>-6.431171</td>\n",
       "      <td>2</td>\n",
       "    </tr>\n",
       "    <tr>\n",
       "      <th>2</th>\n",
       "      <td>-6.042137</td>\n",
       "      <td>-6.766102</td>\n",
       "      <td>2</td>\n",
       "    </tr>\n",
       "    <tr>\n",
       "      <th>3</th>\n",
       "      <td>3.950837</td>\n",
       "      <td>0.698403</td>\n",
       "      <td>1</td>\n",
       "    </tr>\n",
       "    <tr>\n",
       "      <th>4</th>\n",
       "      <td>4.250492</td>\n",
       "      <td>-0.281545</td>\n",
       "      <td>1</td>\n",
       "    </tr>\n",
       "    <tr>\n",
       "      <th>5</th>\n",
       "      <td>-6.794108</td>\n",
       "      <td>-6.477221</td>\n",
       "      <td>2</td>\n",
       "    </tr>\n",
       "    <tr>\n",
       "      <th>6</th>\n",
       "      <td>5.210176</td>\n",
       "      <td>2.889048</td>\n",
       "      <td>1</td>\n",
       "    </tr>\n",
       "    <tr>\n",
       "      <th>7</th>\n",
       "      <td>-5.505136</td>\n",
       "      <td>-6.360377</td>\n",
       "      <td>2</td>\n",
       "    </tr>\n",
       "    <tr>\n",
       "      <th>8</th>\n",
       "      <td>-6.543756</td>\n",
       "      <td>-4.833899</td>\n",
       "      <td>2</td>\n",
       "    </tr>\n",
       "    <tr>\n",
       "      <th>9</th>\n",
       "      <td>6.449642</td>\n",
       "      <td>0.747766</td>\n",
       "      <td>1</td>\n",
       "    </tr>\n",
       "  </tbody>\n",
       "</table>\n",
       "</div>"
      ],
      "text/plain": [
       "         X1        X2  label\n",
       "0 -8.413396  6.935165      3\n",
       "1 -5.766484 -6.431171      2\n",
       "2 -6.042137 -6.766102      2\n",
       "3  3.950837  0.698403      1\n",
       "4  4.250492 -0.281545      1\n",
       "5 -6.794108 -6.477221      2\n",
       "6  5.210176  2.889048      1\n",
       "7 -5.505136 -6.360377      2\n",
       "8 -6.543756 -4.833899      2\n",
       "9  6.449642  0.747766      1"
      ]
     },
     "execution_count": 17,
     "metadata": {},
     "output_type": "execute_result"
    }
   ],
   "source": [
    "# Make DataFrame of circle data\n",
    "import pandas as pd\n",
    "\n",
    "circles = pd.DataFrame({\n",
    "    \"X1\": X[:, 0],\n",
    "    \"X2\": X[:, 1],\n",
    "    \"label\": y\n",
    "})\n",
    "circles.head(10)"
   ]
  },
  {
   "cell_type": "code",
   "execution_count": 18,
   "id": "7101c970-4048-4cc7-99f2-7bd4c19e6b2a",
   "metadata": {},
   "outputs": [
    {
     "name": "stdout",
     "output_type": "stream",
     "text": [
      "label\n",
      "3    250\n",
      "2    250\n",
      "1    250\n",
      "0    250\n",
      "Name: count, dtype: int64\n"
     ]
    }
   ],
   "source": [
    "# Check different labels\n",
    "print(circles.label.value_counts())"
   ]
  },
  {
   "cell_type": "code",
   "execution_count": 19,
   "id": "8e96455f-514a-4fd9-8373-ee39d4c79236",
   "metadata": {},
   "outputs": [
    {
     "data": {
      "image/png": "[encoded data removed]",
      "text/plain": [
       "<Figure size 640x480 with 1 Axes>"
      ]
     },
     "metadata": {},
     "output_type": "display_data"
    }
   ],
   "source": [
    "# plot the data\n",
    "plt.scatter(x=X[:, 0], \n",
    "            y=X[:, 1], \n",
    "            c=y, \n",
    "            cmap=plt.cm.RdYlBu);"
   ]
  },
  {
   "cell_type": "code",
   "execution_count": 20,
   "id": "650b3263-3a61-4dd3-92da-9ca844a82602",
   "metadata": {},
   "outputs": [],
   "source": [
    "# Split data into train and test sets\n",
    "X_train, X_test, y_train, y_test = train_test_split(X, \n",
    "                                                    y, \n",
    "                                                    test_size=0.2, # 20% test, 80% train\n",
    "                                                    random_state=RANDOM_SEED) # make the random split reproducible"
   ]
  },
  {
   "cell_type": "code",
   "execution_count": 21,
   "id": "191c2c76-72a7-485e-9ca7-ed5e4d3f435e",
   "metadata": {},
   "outputs": [
    {
     "name": "stdout",
     "output_type": "stream",
     "text": [
      "<class 'numpy.ndarray'> (800, 2)\n",
      "<class 'numpy.ndarray'> (800,)\n",
      "[[ 5.04045424  3.30761588]\n",
      " [-2.62485019  9.52601409]\n",
      " [-8.52403982 -9.04018592]\n",
      " [-6.02615257 -4.43751466]\n",
      " [-3.33967158  7.21746929]]\n",
      "[1 0 2 2 0]\n"
     ]
    }
   ],
   "source": [
    "print(type(X_train), X_train.shape)\n",
    "print(type(y_train), y_train.shape)\n",
    "print(X_train[:5])\n",
    "print(y_train[:5])"
   ]
  },
  {
   "cell_type": "code",
   "execution_count": 22,
   "id": "d7b113f1-dfdc-4f7a-a5da-367dbbd09c76",
   "metadata": {},
   "outputs": [],
   "source": [
    "# turn into Pytorch tensors\n",
    "X_train = torch.from_numpy(X_train).type(torch.float)\n",
    "y_train = torch.from_numpy(y_train).type(torch.float)\n",
    "X_test = torch.from_numpy(X_test).type(torch.float)\n",
    "y_test = torch.from_numpy(y_test).type(torch.float)"
   ]
  },
  {
   "cell_type": "code",
   "execution_count": 23,
   "id": "203bb16e-5245-48ba-8c0b-14fdd0d32ea7",
   "metadata": {},
   "outputs": [
    {
     "name": "stdout",
     "output_type": "stream",
     "text": [
      "<class 'torch.Tensor'> torch.Size([800, 2])\n",
      "<class 'torch.Tensor'> torch.Size([800])\n",
      "tensor([[ 5.0405,  3.3076],\n",
      "        [-2.6249,  9.5260],\n",
      "        [-8.5240, -9.0402],\n",
      "        [-6.0262, -4.4375],\n",
      "        [-3.3397,  7.2175]])\n"
     ]
    }
   ],
   "source": [
    "print(type(X_train), X_train.shape)\n",
    "print(type(y_train), y_train.shape)\n",
    "print(X_train[:5])"
   ]
  },
  {
   "cell_type": "code",
   "execution_count": 24,
   "id": "c8b51960-c8fb-409b-811c-425f5e488f6e",
   "metadata": {},
   "outputs": [
    {
     "name": "stdout",
     "output_type": "stream",
     "text": [
      "cpu\n"
     ]
    }
   ],
   "source": [
    "# Make device agnostic code\n",
    "device = \"cuda\" if torch.cuda.is_available() else \"cpu\"\n",
    "print(device)"
   ]
  },
  {
   "cell_type": "code",
   "execution_count": 25,
   "id": "373ef522-16c8-4438-a46b-8f81205087fa",
   "metadata": {},
   "outputs": [],
   "source": [
    "# Building a model\n",
    "# Build a multi-class classification model\n",
    "class CirclesMultiClassClassification(nn.Module):\n",
    "    def __init__(self, num_features, num_classes):\n",
    "        super().__init__()\n",
    "        # dense layers\n",
    "        self.layer_1 = nn.Linear(in_features=num_features, out_features=16)\n",
    "        self.layer_2 = nn.Linear(in_features=16, out_features=16)\n",
    "        self.layer_3 = nn.Linear(in_features=16, out_features=num_classes)\n",
    "        # relu activation layer\n",
    "        self.relu = nn.ReLU()\n",
    "    \n",
    "    # define a forward method containing the forward pass computation\n",
    "    def forward(self, x):\n",
    "        x = self.relu(self.layer_1(x))\n",
    "        x = self.relu(self.layer_2(x))\n",
    "        x = self.layer_3(x)  # No softmax here, as it's included in the CrossEntropyLoss\n",
    "        return x"
   ]
  },
  {
   "cell_type": "code",
   "execution_count": 27,
   "id": "46d07c1e-280e-437d-8951-a081762f5903",
   "metadata": {},
   "outputs": [
    {
     "name": "stdout",
     "output_type": "stream",
     "text": [
      "CirclesMultiClassClassification(\n",
      "  (layer_1): Linear(in_features=2, out_features=16, bias=True)\n",
      "  (layer_2): Linear(in_features=16, out_features=16, bias=True)\n",
      "  (layer_3): Linear(in_features=16, out_features=4, bias=True)\n",
      "  (relu): ReLU()\n",
      ")\n"
     ]
    }
   ],
   "source": [
    "# Create an instance of the model and print it out\n",
    "model = CirclesMultiClassClassification(num_features=2, num_classes=4).to(device)\n",
    "print(model)"
   ]
  },
  {
   "cell_type": "code",
   "execution_count": 35,
   "id": "5b424622-cffc-45d7-b7d1-e71806c7b1fb",
   "metadata": {},
   "outputs": [
    {
     "name": "stdout",
     "output_type": "stream",
     "text": [
      "tensor([[ 0.8007,  0.5067, -0.1620, -0.5431],\n",
      "        [ 0.8350,  0.1674, -1.1181, -0.4475],\n",
      "        [-0.8534,  0.0188, -0.4748, -0.3690],\n",
      "        [ 0.3929,  0.2527, -0.2363, -0.3499],\n",
      "        [ 0.8875,  0.3042, -0.6640, -0.9071]], grad_fn=<AddmmBackward0>)\n",
      "tensor([[0.4188, 0.3121, 0.1599, 0.1092],\n",
      "        [0.5176, 0.2655, 0.0734, 0.1435],\n",
      "        [0.1544, 0.3694, 0.2255, 0.2507],\n",
      "        [0.3475, 0.3020, 0.1852, 0.1653],\n",
      "        [0.5165, 0.2882, 0.1095, 0.0858]], grad_fn=<SoftmaxBackward0>)\n",
      "tensor([0, 0, 1, 0, 0])\n",
      "tensor([1., 3., 2., 1., 0.])\n"
     ]
    }
   ],
   "source": [
    "# Print out the output of the model\n",
    "y_logits = model(X_test[:5])\n",
    "y_probs = torch.softmax(y_logits, dim=1)\n",
    "y_pred = y_probs.argmax(dim=1)\n",
    "print(y_logits)\n",
    "print(y_probs)\n",
    "print(y_pred)\n",
    "print(y_test[:5])"
   ]
  },
  {
   "cell_type": "code",
   "execution_count": 32,
   "id": "f46c520f-5107-4a92-95c9-6ced5c7f26d4",
   "metadata": {},
   "outputs": [],
   "source": [
    "# Create loss and optimizer\n",
    "loss_fn = nn.CrossEntropyLoss()\n",
    "optimizer = torch.optim.SGD(model.parameters(), lr=0.1)"
   ]
  },
  {
   "cell_type": "code",
   "execution_count": null,
   "id": "a39049df-8cb1-4c2b-9c08-7b97d420bd5b",
   "metadata": {},
   "outputs": [],
   "source": []
  },
  {
   "cell_type": "code",
   "execution_count": 33,
   "id": "5a205b4c-3a3a-4f38-bcbe-994f7531099b",
   "metadata": {},
   "outputs": [],
   "source": [
    "# Calculate accuracy (a classification metric)\n",
    "def accuracy_fn(y_target, y_pred):\n",
    "    correct = torch.eq(y_target, y_pred).sum().item() # torch.eq() calculates where two tensors are equal\n",
    "    acc = (correct / len(y_pred)) * 100 \n",
    "    return acc"
   ]
  },
  {
   "cell_type": "code",
   "execution_count": 41,
   "id": "c980af5f-c7f4-4961-b7e3-631557c47ca7",
   "metadata": {},
   "outputs": [
    {
     "name": "stdout",
     "output_type": "stream",
     "text": [
      "Epoch: 0 | Loss: 0.58794, Acc: 98.38% | Evaluatin Loss: 0.46905, Evaluation Acc: 99.00%\n",
      "Epoch: 10 | Loss: 0.14387, Acc: 99.12% | Evaluatin Loss: 0.12371, Evaluation Acc: 99.50%\n",
      "Epoch: 20 | Loss: 0.07918, Acc: 99.25% | Evaluatin Loss: 0.06815, Evaluation Acc: 99.50%\n",
      "Epoch: 30 | Loss: 0.05758, Acc: 99.12% | Evaluatin Loss: 0.04835, Evaluation Acc: 99.50%\n",
      "Epoch: 40 | Loss: 0.04730, Acc: 99.12% | Evaluatin Loss: 0.03856, Evaluation Acc: 99.50%\n",
      "Epoch: 50 | Loss: 0.04146, Acc: 99.12% | Evaluatin Loss: 0.03277, Evaluation Acc: 99.50%\n",
      "Epoch: 60 | Loss: 0.03774, Acc: 99.12% | Evaluatin Loss: 0.02900, Evaluation Acc: 99.50%\n",
      "Epoch: 70 | Loss: 0.03519, Acc: 99.12% | Evaluatin Loss: 0.02634, Evaluation Acc: 99.50%\n",
      "Epoch: 80 | Loss: 0.03334, Acc: 99.12% | Evaluatin Loss: 0.02440, Evaluation Acc: 99.50%\n",
      "Epoch: 90 | Loss: 0.03196, Acc: 99.12% | Evaluatin Loss: 0.02291, Evaluation Acc: 99.50%\n"
     ]
    }
   ],
   "source": [
    "# Fit the model\n",
    "torch.manual_seed(42)\n",
    "\n",
    "# Set number of epochs\n",
    "epochs = 100\n",
    "\n",
    "# Put data to target device\n",
    "X_train, y_train = X_train.to(device), y_train.to(device).long()\n",
    "X_test, y_test = X_test.to(device), y_test.to(device).long()\n",
    "\n",
    "for epoch in range(epochs):\n",
    "    ### Training\n",
    "    model.train()\n",
    "\n",
    "    # 1. Forward pass\n",
    "    y_logits = model(X_train) # model outputs raw logits \n",
    "    y_pred = torch.softmax(y_logits, dim=1).argmax(dim=1) # go from logits -> prediction probabilities -> prediction labels\n",
    "    # print(y_logits[:3])\n",
    "    # print(y_train[:3])\n",
    "    # print(y_pred[:3])\n",
    "    # 2. Calculate loss and accuracy\n",
    "    loss = loss_fn(y_logits, y_train) \n",
    "    acc = accuracy_fn(y_train, y_pred)\n",
    "\n",
    "    # 3. Optimizer zero grad\n",
    "    optimizer.zero_grad()\n",
    "\n",
    "    # 4. Loss backwards\n",
    "    loss.backward()\n",
    "\n",
    "    # 5. Optimizer step\n",
    "    optimizer.step()\n",
    "\n",
    "    ### Testing\n",
    "    model.eval()\n",
    "    with torch.inference_mode():\n",
    "      # 1. Forward pass\n",
    "      y_test_logits = model(X_test)\n",
    "      y_test_pred = torch.softmax(y_test_logits, dim=1).argmax(dim=1)\n",
    "      # 2. Calculate test loss and accuracy\n",
    "      test_loss = loss_fn(y_test_logits, y_test)\n",
    "      test_acc = accuracy_fn(y_test, y_test_pred)\n",
    "\n",
    "    # Print out what's happening\n",
    "    if epoch % 10 == 0:\n",
    "        print(f\"Epoch: {epoch} | Loss: {loss:.5f}, Acc: {acc:.2f}% | Evaluatin Loss: {test_loss:.5f}, Evaluation Acc: {test_acc:.2f}%\")"
   ]
  },
  {
   "cell_type": "code",
   "execution_count": 42,
   "id": "19c3142b-3441-4d79-9865-4b3616748638",
   "metadata": {},
   "outputs": [
    {
     "name": "stdout",
     "output_type": "stream",
     "text": [
      "tensor([[ 2.4691,  8.7250, -2.8059, -4.8666],\n",
      "        [ 0.9030, -6.6772, -1.1762,  6.3428],\n",
      "        [-4.8133, -3.2700,  4.9821, -2.2651],\n",
      "        [ 0.7301,  5.6508, -1.6485, -2.8508],\n",
      "        [ 7.4311,  2.3457, -4.4103, -2.9968]], grad_fn=<AddmmBackward0>)\n",
      "tensor([[1.9154e-03, 9.9807e-01, 9.8031e-06, 1.2485e-06],\n",
      "        [4.3193e-03, 2.2048e-06, 5.4003e-04, 9.9514e-01],\n",
      "        [5.5651e-05, 2.6045e-04, 9.9897e-01, 7.1142e-04],\n",
      "        [7.2348e-03, 9.9189e-01, 6.7053e-04, 2.0150e-04],\n",
      "        [9.9382e-01, 6.1482e-03, 7.1557e-06, 2.9412e-05]],\n",
      "       grad_fn=<SoftmaxBackward0>)\n",
      "tensor([1, 3, 2, 1, 0])\n",
      "tensor([1, 3, 2, 1, 0])\n"
     ]
    }
   ],
   "source": [
    "# Make prediction logits with model\n",
    "x = X_test[:5]\n",
    "y = y_test[:5]\n",
    "\n",
    "x = x.to(device)\n",
    "y = y.to(device)\n",
    "\n",
    "y_logits = model(x)\n",
    "y_probs = torch.softmax(y_logits, dim=1)\n",
    "y_pred = y_probs.argmax(dim=1)\n",
    "\n",
    "print(y_logits)\n",
    "print(y_probs)\n",
    "print(y_pred)\n",
    "print(y)"
   ]
  }
 ],
 "metadata": {
  "kernelspec": {
   "display_name": "Python 3 (ipykernel)",
   "language": "python",
   "name": "python3"
  },
  "language_info": {
   "codemirror_mode": {
    "name": "ipython",
    "version": 3
   },
   "file_extension": ".py",
   "mimetype": "text/x-python",
   "name": "python",
   "nbconvert_exporter": "python",
   "pygments_lexer": "ipython3",
   "version": "3.9.6"
  }
 },
 "nbformat": 4,
 "nbformat_minor": 5
}
