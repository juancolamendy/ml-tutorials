{
 "cells": [
  {
   "cell_type": "code",
   "execution_count": 1,
   "id": "254ee2f9-9d4e-406f-a381-1e0ef76a5bc7",
   "metadata": {},
   "outputs": [],
   "source": [
    "import numpy as np\n",
    "\n",
    "import torch\n",
    "import torch.nn as nn\n",
    "import torch.optim as optim\n",
    "from torch.utils.data import TensorDataset, DataLoader\n",
    "\n",
    "import matplotlib.pyplot as plt\n",
    "\n",
    "from sklearn.datasets import load_iris\n",
    "from sklearn.model_selection import train_test_split"
   ]
  },
  {
   "cell_type": "code",
   "execution_count": 2,
   "id": "c276278c-c1cc-447c-bcce-3d89d24b57b3",
   "metadata": {},
   "outputs": [
    {
     "name": "stdout",
     "output_type": "stream",
     "text": [
      "(150, 4)\n",
      "(150,)\n",
      "(100, 4)\n",
      "(100,)\n",
      "[[5.1 3.4 1.5 0.2]\n",
      " [5.5 3.5 1.3 0.2]]\n",
      "[[ 0.8389246  -0.02752244 -0.99590442 -1.65848156]\n",
      " [ 1.04279449  0.02344504 -1.09783936 -1.65848156]]\n",
      "[0 0]\n"
     ]
    }
   ],
   "source": [
    "iris = load_iris()\n",
    "X = iris['data']\n",
    "y = iris['target']\n",
    "\n",
    "# Split the data into training and test sets\n",
    "X_train, X_test, y_train, y_test = train_test_split(X, y, test_size=1./3, random_state=1)\n",
    "\n",
    "# Standardize the features\n",
    "X_train_norm = (X_train - np.mean(X_train)) / np.std(X_train)\n",
    "\n",
    "# print out\n",
    "print(X.shape)\n",
    "print(y.shape)\n",
    "print(X_train.shape)\n",
    "print(y_train.shape)\n",
    "print(X_train[:2])\n",
    "print(X_train_norm[:2])\n",
    "print(y_train[:2])"
   ]
  },
  {
   "cell_type": "code",
   "execution_count": 5,
   "id": "2231dbe3-d0e5-4248-ba3c-6d27e60513db",
   "metadata": {},
   "outputs": [
    {
     "name": "stdout",
     "output_type": "stream",
     "text": [
      "torch.Size([100, 4])\n",
      "torch.Size([100])\n",
      "torch.int64\n",
      "tensor([[ 0.8389, -0.0275, -0.9959, -1.6585],\n",
      "        [ 1.0428,  0.0234, -1.0978, -1.6585]])\n",
      "tensor([0, 0])\n"
     ]
    }
   ],
   "source": [
    "# Convert the standardized features and the labels into torch tensors\n",
    "X_train_norm_ts = torch.from_numpy(X_train_norm).float()\n",
    "y_train_ts = torch.from_numpy(y_train)\n",
    "\n",
    "print(X_train_norm_ts.shape)\n",
    "print(y_train_ts.shape)\n",
    "print(y_train_ts.dtype)\n",
    "print(X_train_norm_ts[:2])\n",
    "print(y_train_ts[:2])\n",
    "\n",
    "# Create a PyTorch Dataset\n",
    "train_ds = TensorDataset(X_train_norm_ts, y_train_ts)"
   ]
  },
  {
   "cell_type": "code",
   "execution_count": 7,
   "id": "31418a63-1ca0-420f-8ca6-8fb4b8b3b0ac",
   "metadata": {},
   "outputs": [],
   "source": [
    "# Assuming X_test_norm is the standardized features of the test set\n",
    "# and y_test is the actual labels for the test set\n",
    "X_valid_norm = (X_test - np.mean(X_train)) / np.std(X_train)\n",
    "X_valid_norm_ts = torch.from_numpy(X_valid_norm).float()\n",
    "y_valid_ts = torch.from_numpy(y_test)"
   ]
  },
  {
   "cell_type": "code",
   "execution_count": 8,
   "id": "a7a67ab8-6f16-4817-b3f2-a97d49a46df6",
   "metadata": {},
   "outputs": [],
   "source": [
    "# Define the model\n",
    "import torch\n",
    "import torch.nn as nn\n",
    "\n",
    "class ClassifierModel(nn.Module):\n",
    "    def __init__(self, input_size, hidden_size, output_size):\n",
    "        super(ClassifierModel, self).__init__()\n",
    "        self.layer1 = nn.Linear(input_size, hidden_size)\n",
    "        self.layer2 = nn.Linear(hidden_size, output_size)\n",
    "    \n",
    "    def forward(self, x):\n",
    "        x = self.layer1(x)\n",
    "        x = nn.Sigmoid()(x)\n",
    "        x = self.layer2(x)\n",
    "        return x"
   ]
  },
  {
   "cell_type": "code",
   "execution_count": 9,
   "id": "6fd0f70a-1958-4772-a8b9-38cbe6bb67d9",
   "metadata": {},
   "outputs": [
    {
     "name": "stdout",
     "output_type": "stream",
     "text": [
      "4\n"
     ]
    }
   ],
   "source": [
    "# Assuming X_train_norm.shape[1] is the input size for the dataset\n",
    "input_size = X_train_norm.shape[1]\n",
    "print(input_size)\n",
    "hidden_size = 16\n",
    "output_size = 3\n",
    "\n",
    "# Initialize the model\n",
    "model = ClassifierModel(input_size, hidden_size, output_size)"
   ]
  },
  {
   "cell_type": "code",
   "execution_count": 10,
   "id": "fca678fd-da74-4bad-834a-eb489caadefc",
   "metadata": {},
   "outputs": [],
   "source": [
    "def accuracy_sum_multiclass_fn(y_pred, y):\n",
    "    is_correct = (torch.argmax(y_pred, dim=1) == y).float()\n",
    "    accuracy = is_correct.sum()\n",
    "    return accuracy"
   ]
  },
  {
   "cell_type": "code",
   "execution_count": 11,
   "id": "de22798b-668d-4ef2-8548-a7d7df8b16ac",
   "metadata": {},
   "outputs": [],
   "source": [
    "def fit_model(model: torch.nn.Module,\n",
    "                train_ds: TensorDataset,\n",
    "                loss_fn: nn.Module,\n",
    "                optimizer: optim.Optimizer,\n",
    "                x_valid: torch.Tensor = None,\n",
    "                y_valid: torch.Tensor = None,\n",
    "                accuracy_fn = None,\n",
    "                num_epochs = 100,\n",
    "                batch_size = 32,\n",
    "                seed = 1,\n",
    "                transform_pred = None,\n",
    "                device: torch.device = \"cpu\"):\n",
    "    # variables\n",
    "    loss_hist_train = [0] * num_epochs\n",
    "    accuracy_hist_train = [0] * num_epochs\n",
    "    loss_hist_valid = [0] * num_epochs\n",
    "    accuracy_hist_valid = [0] * num_epochs    \n",
    "    torch.manual_seed(seed)\n",
    "    train_dl = DataLoader(dataset=train_ds, batch_size=batch_size, shuffle=True)\n",
    "    n_train = len(train_dl.dataset)\n",
    "    # set model to device\n",
    "    model.to(device)\n",
    "    for epoch in range(num_epochs):\n",
    "        # set model to training mode\n",
    "        model.train()\n",
    "        # mini-batch training\n",
    "        for x_batch, y_batch in train_dl:\n",
    "            # Send data to device\n",
    "            x_batch, y_batch = x_batch.to(device), y_batch.to(device)\n",
    "\n",
    "            # Forward pass\n",
    "            y_pred = model(x_batch)\n",
    "            if transform_pred:\n",
    "                y_pred = transform_pred(y_pred)\n",
    "\n",
    "            # Compute loss\n",
    "            loss = loss_fn(y_pred, y_batch)\n",
    "\n",
    "            # Do backpropagation\n",
    "            loss.backward()\n",
    "            optimizer.step()\n",
    "            optimizer.zero_grad()\n",
    "\n",
    "            accuracy_batch = 0\n",
    "            if accuracy_fn:\n",
    "                accuracy_batch = accuracy_fn(y_pred, y_batch)\n",
    "            loss_hist_train[epoch] += loss.item()\n",
    "            accuracy_hist_train[epoch] += accuracy_batch\n",
    "\n",
    "        # Compute store loss and accuracy as percent\n",
    "        loss_hist_train[epoch] /= n_train\n",
    "        accuracy_hist_train[epoch] /= n_train\n",
    "        \n",
    "        if x_valid is not None and y_valid is not None:\n",
    "            n_valid = len(y_valid)\n",
    "            # set model to training mode\n",
    "            model.eval()\n",
    "            with torch.no_grad():\n",
    "                x_valid, y_valid = x_valid.to(device), y_valid.to(device)\n",
    "                y_valid_pred = model(x_valid)\n",
    "                if transform_pred:\n",
    "                    y_valid_pred = transform_pred(y_valid_pred)\n",
    "                loss = loss_fn(y_valid_pred, y_valid)\n",
    "\n",
    "                accuracy_valid = 0\n",
    "                if accuracy_fn:\n",
    "                    accuracy_valid = accuracy_fn(y_valid_pred, y_valid)\n",
    "                loss_hist_valid[epoch] = loss.item()\n",
    "                accuracy_hist_valid[epoch] = accuracy_valid / n_valid\n",
    "                    \n",
    "        # Print out\n",
    "        if epoch % 10 == 0:\n",
    "            if x_valid is not None and y_valid is not None:\n",
    "                print(f\"Train loss: {loss_hist_train[epoch]:.5f} | Train accuracy: {accuracy_hist_train[epoch]:.2f}% | Val loss: {loss_hist_valid[epoch]:.5f} | Val accuracy: {accuracy_hist_valid[epoch]:.2f}%\")\n",
    "            else:\n",
    "                print(f\"Train loss: {loss_hist_train[epoch]:.5f} | Train accuracy: {accuracy_hist_train[epoch]:.2f}%\")\n",
    "\n",
    "    # Return result    \n",
    "    return (loss_hist_train, accuracy_hist_train, loss_hist_valid, accuracy_hist_valid)"
   ]
  },
  {
   "cell_type": "code",
   "execution_count": 12,
   "id": "4394f7a0-3adc-4ba3-a989-644bc608f6ef",
   "metadata": {},
   "outputs": [],
   "source": [
    "# Assuming model is already defined and train_dl is your DataLoader\n",
    "learning_rate = 0.001\n",
    "loss_fn = nn.CrossEntropyLoss()\n",
    "optimizer = optim.Adam(model.parameters(), lr=learning_rate)"
   ]
  },
  {
   "cell_type": "code",
   "execution_count": 14,
   "id": "deeeb1a1-7238-42a7-abbf-60d72792ffbd",
   "metadata": {},
   "outputs": [
    {
     "name": "stdout",
     "output_type": "stream",
     "text": [
      "Train loss: 0.54880 | Train accuracy: 0.36% | Val loss: 1.10047 | Val accuracy: 0.28%\n",
      "Train loss: 0.42975 | Train accuracy: 0.70% | Val loss: 0.85961 | Val accuracy: 0.64%\n",
      "Train loss: 0.29541 | Train accuracy: 0.81% | Val loss: 0.59321 | Val accuracy: 0.78%\n",
      "Train loss: 0.22455 | Train accuracy: 0.87% | Val loss: 0.44795 | Val accuracy: 0.82%\n",
      "Train loss: 0.18195 | Train accuracy: 0.91% | Val loss: 0.36145 | Val accuracy: 0.94%\n",
      "Train loss: 0.15221 | Train accuracy: 0.92% | Val loss: 0.29874 | Val accuracy: 0.96%\n",
      "Train loss: 0.13019 | Train accuracy: 0.92% | Val loss: 0.25009 | Val accuracy: 0.96%\n",
      "Train loss: 0.11318 | Train accuracy: 0.96% | Val loss: 0.21039 | Val accuracy: 0.98%\n",
      "Train loss: 0.09998 | Train accuracy: 0.96% | Val loss: 0.18316 | Val accuracy: 0.98%\n",
      "Train loss: 0.09030 | Train accuracy: 0.96% | Val loss: 0.16219 | Val accuracy: 0.98%\n",
      "Train loss: 0.08319 | Train accuracy: 0.95% | Val loss: 0.14665 | Val accuracy: 0.98%\n",
      "Train loss: 0.07600 | Train accuracy: 0.95% | Val loss: 0.13050 | Val accuracy: 0.98%\n",
      "Train loss: 0.07122 | Train accuracy: 0.96% | Val loss: 0.11838 | Val accuracy: 0.98%\n",
      "Train loss: 0.06743 | Train accuracy: 0.95% | Val loss: 0.10837 | Val accuracy: 0.98%\n",
      "Train loss: 0.06281 | Train accuracy: 0.95% | Val loss: 0.10097 | Val accuracy: 0.98%\n",
      "Train loss: 0.06060 | Train accuracy: 0.96% | Val loss: 0.09593 | Val accuracy: 0.98%\n",
      "Train loss: 0.05873 | Train accuracy: 0.96% | Val loss: 0.09025 | Val accuracy: 0.98%\n",
      "Train loss: 0.05530 | Train accuracy: 0.97% | Val loss: 0.07845 | Val accuracy: 0.98%\n",
      "Train loss: 0.05316 | Train accuracy: 0.96% | Val loss: 0.07610 | Val accuracy: 0.98%\n",
      "Train loss: 0.05136 | Train accuracy: 0.96% | Val loss: 0.07090 | Val accuracy: 0.98%\n"
     ]
    }
   ],
   "source": [
    "loss_hist_train, accuracy_hist_train, loss_hist_valid, accuracy_hist_valid = fit_model(model, \n",
    "                                                                                       train_dataset, \n",
    "                                                                                       loss_fn, \n",
    "                                                                                       optimizer, \n",
    "                                                                                       x_valid=X_valid_norm_ts,\n",
    "                                                                                       y_valid=y_valid_ts,\n",
    "                                                                                       num_epochs = 200,\n",
    "                                                                                       batch_size=2,\n",
    "                                                                                       accuracy_fn=accuracy_sum_multiclass_fn)"
   ]
  },
  {
   "cell_type": "code",
   "execution_count": 15,
   "id": "981d1825-f126-47ea-96e7-b5247143cba0",
   "metadata": {},
   "outputs": [
    {
     "name": "stdout",
     "output_type": "stream",
     "text": [
      "[0.8135492086410523, 0.7588628667593003, 0.7111397576332092, 0.6719258260726929, 0.6383331894874573, 0.6059715110063553, 0.5801383525133132, 0.556642844080925, 0.5389100930094719, 0.5192554783821106, 0.5008705133199691, 0.48517249524593353, 0.47222017765045166, 0.45996266305446626, 0.4484421718120575, 0.4353017032146454, 0.4254321849346161, 0.4161274790763855, 0.40693900793790816, 0.39803446307778356, 0.38952188968658447, 0.3826409314572811, 0.375131576359272, 0.36658162221312524, 0.3594175365567207, 0.3528972569108009, 0.34636581137776373, 0.3407533848285675, 0.3335136756300926, 0.3290796579420567, 0.32369045943021774, 0.31662929102778437, 0.31307944007217886, 0.308315609395504, 0.3042901631444693, 0.2969411316514015, 0.29248501524329185, 0.28839082226157187, 0.28372003115713595, 0.2790605357289314, 0.2753743738681078, 0.27112924538552763, 0.26696550376713274, 0.2626830527931452, 0.25945766769349576, 0.25553938627243045, 0.2521798450499773, 0.24891563184559345, 0.24452513486146926, 0.24188029699027538, 0.23874363660812378, 0.23643410153687, 0.23544386722147465, 0.22958860136568546, 0.2268085902929306, 0.2250671610236168, 0.2229430691152811, 0.21985608853399755, 0.21649796679615974, 0.21434195563197136, 0.21122314162552358, 0.2088649309426546, 0.20705818064510823, 0.2042140993475914, 0.20281192187219857, 0.20069373287260533, 0.1983431302011013, 0.19609133545309304, 0.19349072352051735, 0.192032267190516, 0.19067990768700838, 0.18914385359734298, 0.18605016317218542, 0.18463658425956964, 0.18240097265690566, 0.1806106533482671, 0.18033836238086223, 0.17735289923846723, 0.17585942093282939, 0.17485421296209097, 0.17336143221706152, 0.17103318445384502, 0.16976534035056828, 0.16841979429125786, 0.16679792031645774, 0.16568621998652816, 0.16385137815028428, 0.16282290523871779, 0.16355749718844892, 0.1610570920817554, 0.15988731190562247, 0.1603509820625186, 0.1568978245742619, 0.15553019724786282, 0.1542253939434886, 0.15451225079596043, 0.15201498614624143, 0.15238644881173968, 0.1497613678686321, 0.14866996793076395]\n",
      "[tensor(0.7900), tensor(0.7100), tensor(0.7300), tensor(0.7400), tensor(0.8000), tensor(0.8000), tensor(0.8000), tensor(0.8100), tensor(0.8700), tensor(0.8500), tensor(0.8500), tensor(0.8400), tensor(0.8800), tensor(0.8700), tensor(0.8800), tensor(0.8700), tensor(0.8900), tensor(0.8900), tensor(0.9100), tensor(0.9100), tensor(0.9100), tensor(0.8800), tensor(0.9200), tensor(0.9100), tensor(0.9200), tensor(0.9200), tensor(0.9200), tensor(0.9200), tensor(0.9200), tensor(0.9200), tensor(0.9200), tensor(0.9200), tensor(0.9200), tensor(0.9200), tensor(0.9200), tensor(0.9200), tensor(0.9200), tensor(0.9200), tensor(0.9200), tensor(0.9300), tensor(0.9200), tensor(0.9300), tensor(0.9200), tensor(0.9200), tensor(0.9200), tensor(0.9200), tensor(0.9200), tensor(0.9200), tensor(0.9400), tensor(0.9300), tensor(0.9400), tensor(0.9400), tensor(0.9400), tensor(0.9300), tensor(0.9400), tensor(0.9300), tensor(0.9500), tensor(0.9500), tensor(0.9400), tensor(0.9400), tensor(0.9400), tensor(0.9500), tensor(0.9500), tensor(0.9500), tensor(0.9500), tensor(0.9500), tensor(0.9500), tensor(0.9400), tensor(0.9500), tensor(0.9500), tensor(0.9500), tensor(0.9500), tensor(0.9500), tensor(0.9500), tensor(0.9500), tensor(0.9500), tensor(0.9500), tensor(0.9600), tensor(0.9500), tensor(0.9500), tensor(0.9500), tensor(0.9500), tensor(0.9500), tensor(0.9500), tensor(0.9500), tensor(0.9500), tensor(0.9500), tensor(0.9500), tensor(0.9500), tensor(0.9500), tensor(0.9600), tensor(0.9500), tensor(0.9500), tensor(0.9500), tensor(0.9500), tensor(0.9500), tensor(0.9500), tensor(0.9600), tensor(0.9500), tensor(0.9500)]\n"
     ]
    }
   ],
   "source": [
    "print(loss_hist)\n",
    "print(accuracy_hist)"
   ]
  },
  {
   "cell_type": "code",
   "execution_count": 15,
   "id": "b5fa8a15-c50f-4c97-9f73-d4c260e5828d",
   "metadata": {},
   "outputs": [],
   "source": [
    "def plot_learning_curve(loss_hist_train, accuracy_hist_train, loss_hist_valid = None, accuracy_hist_valid = None, loss_title='Loss', accuracy_title='Accuracy'):\n",
    "    # Visualization setup\n",
    "    loss_legend = ['Train Loss']\n",
    "    acc_legend = ['Train Acc']\n",
    "    fig = plt.figure(figsize=(16, 4))\n",
    "\n",
    "    # Plot for training loss\n",
    "    ax = fig.add_subplot(1, 2, 1)\n",
    "    ax.plot(loss_hist_train, lw=4)\n",
    "    if loss_hist_valid:\n",
    "        ax.plot(loss_hist_valid, lw=4)\n",
    "        loss_legend.append('Valid Loss')\n",
    "    ax.legend(loss_legend)\n",
    "    ax.set_title(loss_title, size=15)\n",
    "    ax.set_xlabel('Epoch', size=15)\n",
    "    ax.tick_params(axis='both', which='major', labelsize=15)\n",
    "\n",
    "    # Plot for training accuracy\n",
    "    ax = fig.add_subplot(1, 2, 2)\n",
    "    ax.plot(accuracy_hist_train, lw=4)\n",
    "    if accuracy_hist_valid:\n",
    "        ax.plot(accuracy_hist_valid, lw=4)\n",
    "        acc_legend.append('Valid Acc')\n",
    "    ax.legend(acc_legend)\n",
    "    ax.set_title(accuracy_title, size=15)\n",
    "    ax.set_xlabel('Epoch', size=15)\n",
    "    ax.tick_params(axis='both', which='major', labelsize=15)\n",
    "\n",
    "    plt.show()"
   ]
  },
  {
   "cell_type": "code",
   "execution_count": 16,
   "id": "773a62b5-08f1-4fdf-819f-828e34e7b2aa",
   "metadata": {},
   "outputs": [
    {
     "data": {
      "image/png": "[encoded data removed]",
      "text/plain": [
       "<Figure size 1600x400 with 2 Axes>"
      ]
     },
     "metadata": {},
     "output_type": "display_data"
    }
   ],
   "source": [
    "plot_learning_curve(loss_hist_train, accuracy_hist_train, loss_hist_valid, accuracy_hist_valid)"
   ]
  },
  {
   "cell_type": "code",
   "execution_count": 17,
   "id": "813f6d4f-3aee-402f-82fc-7b605f167c08",
   "metadata": {},
   "outputs": [],
   "source": [
    "def evaluate_model(model: torch.nn.Module,\n",
    "                    x_test: torch.Tensor,\n",
    "                    y_test: torch.Tensor,\n",
    "                    score_fn,\n",
    "                    transform_pred = None,\n",
    "                    device: torch.device = \"cpu\"):\n",
    "    # set to device\n",
    "    model.to(device)\n",
    "    x_test, y_test = x_test.to(device), y_test.to(device)\n",
    "    # logic\n",
    "    y_pred = model(x_test)\n",
    "    if transform_pred:\n",
    "        y_pred = transform_pred(y_pred)\n",
    "    score = score_fn(y_pred, y_test)\n",
    "    score = score / len(y_test)\n",
    "    # result\n",
    "    return score"
   ]
  },
  {
   "cell_type": "code",
   "execution_count": 19,
   "id": "dd738e44-7465-4574-a974-48d07e89fa9b",
   "metadata": {},
   "outputs": [
    {
     "name": "stdout",
     "output_type": "stream",
     "text": [
      "tensor(0.9800)\n"
     ]
    }
   ],
   "source": [
    "score = evaluate_model(model, X_valid_norm_ts, y_valid_ts, accuracy_sum_multiclass_fn)\n",
    "print(score)"
   ]
  },
  {
   "cell_type": "code",
   "execution_count": 24,
   "id": "80827a80-e68c-4398-88a4-f7ebdbf12b9d",
   "metadata": {},
   "outputs": [],
   "source": [
    "def predict_multiclass_fn(y_pred):\n",
    "    return torch.argmax(y_pred, dim=1)"
   ]
  },
  {
   "cell_type": "code",
   "execution_count": 26,
   "id": "1b17162b-4f31-4a3d-811b-f33af3b018b6",
   "metadata": {},
   "outputs": [
    {
     "name": "stdout",
     "output_type": "stream",
     "text": [
      "tensor([[ 8.7687,  2.0353, -7.6429],\n",
      "        [-0.2323,  2.6067, -4.7537]], grad_fn=<AddmmBackward0>)\n",
      "tensor([0, 1])\n",
      "tensor([0, 1])\n"
     ]
    }
   ],
   "source": [
    "# predict\n",
    "y_pred = model(X_valid_norm_ts[:2])\n",
    "print(y_pred)\n",
    "y_pred = predict_multiclass_fn(y_pred)\n",
    "print(y_pred)\n",
    "print(y_valid_ts[:2])"
   ]
  },
  {
   "cell_type": "code",
   "execution_count": 26,
   "id": "4d1c10ef-b846-4b8d-a59a-774330bddf8c",
   "metadata": {},
   "outputs": [
    {
     "data": {
      "text/plain": [
       "ClassifierModel(\n",
       "  (layer1): Linear(in_features=4, out_features=16, bias=True)\n",
       "  (layer2): Linear(in_features=16, out_features=3, bias=True)\n",
       ")"
      ]
     },
     "execution_count": 26,
     "metadata": {},
     "output_type": "execute_result"
    }
   ],
   "source": [
    "# Saving the trained model\n",
    "path = 'models/iris_classifier_v1.pt'\n",
    "torch.save(model, path)"
   ]
  },
  {
   "cell_type": "code",
   "execution_count": 27,
   "id": "f1c41323-af5b-4dfe-9f66-ca66782c242a",
   "metadata": {},
   "outputs": [
    {
     "data": {
      "text/plain": [
       "ClassifierModel(\n",
       "  (layer1): Linear(in_features=4, out_features=16, bias=True)\n",
       "  (layer2): Linear(in_features=16, out_features=3, bias=True)\n",
       ")"
      ]
     },
     "execution_count": 27,
     "metadata": {},
     "output_type": "execute_result"
    }
   ],
   "source": [
    "# Reloading the trained model\n",
    "model = torch.load(path)\n",
    "model.eval()  # Set the model to evaluation mode"
   ]
  },
  {
   "cell_type": "code",
   "execution_count": 28,
   "id": "2e662158-a331-448d-a782-f37f53ecc9af",
   "metadata": {},
   "outputs": [],
   "source": [
    "path = 'models/iris_classifier_state.pt'\n",
    "torch.save(model.state_dict(), path)"
   ]
  },
  {
   "cell_type": "code",
   "execution_count": 30,
   "id": "77e870c0-6143-4c50-a6f7-c70fb7cc2cb2",
   "metadata": {},
   "outputs": [
    {
     "data": {
      "text/plain": [
       "<All keys matched successfully>"
      ]
     },
     "execution_count": 30,
     "metadata": {},
     "output_type": "execute_result"
    }
   ],
   "source": [
    "model_new = ClassifierModel(input_size, hidden_size, output_size)\n",
    "model_new.load_state_dict(torch.load(path))"
   ]
  },
  {
   "cell_type": "code",
   "execution_count": 31,
   "id": "395f901c-3cc8-434e-b0bd-4f533432f3db",
   "metadata": {},
   "outputs": [
    {
     "name": "stdout",
     "output_type": "stream",
     "text": [
      "Test Acc.: 0.9800\n"
     ]
    }
   ],
   "source": [
    "# Predict\n",
    "pred_test = model_new(X_test_norm)\n",
    "correct = (torch.argmax(pred_test, dim=1) == y_test).float()\n",
    "accuracy = correct.mean()\n",
    "print(f'Test Acc.: {accuracy:.4f}')"
   ]
  }
 ],
 "metadata": {
  "kernelspec": {
   "display_name": "Python 3 (ipykernel)",
   "language": "python",
   "name": "python3"
  },
  "language_info": {
   "codemirror_mode": {
    "name": "ipython",
    "version": 3
   },
   "file_extension": ".py",
   "mimetype": "text/x-python",
   "name": "python",
   "nbconvert_exporter": "python",
   "pygments_lexer": "ipython3",
   "version": "3.9.6"
  }
 },
 "nbformat": 4,
 "nbformat_minor": 5
}
