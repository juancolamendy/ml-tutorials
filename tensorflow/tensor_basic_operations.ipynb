{
 "cells": [
  {
   "cell_type": "code",
   "execution_count": 1,
   "id": "97e12a7f-9011-49d8-b98b-be7323c73af5",
   "metadata": {},
   "outputs": [],
   "source": [
    "# imports\n",
    "import tensorflow as tf\n",
    "import numpy as np"
   ]
  },
  {
   "cell_type": "code",
   "execution_count": 4,
   "id": "16ff5a3f-54e7-4f2e-9716-61cc947ec762",
   "metadata": {},
   "outputs": [
    {
     "data": {
      "text/plain": [
       "<tf.Tensor: shape=(3, 2), dtype=int32, numpy=\n",
       "array([[0, 1],\n",
       "       [2, 3],\n",
       "       [4, 5]], dtype=int32)>"
      ]
     },
     "execution_count": 4,
     "metadata": {},
     "output_type": "execute_result"
    }
   ],
   "source": [
    "# initialize a tensor from a Python List\n",
    "data = [\n",
    "    [0, 1],\n",
    "    [2, 3],\n",
    "    [4, 5]\n",
    "]\n",
    "tensor = tf.constant(data, dtype=tf.int32)\n",
    "tensor"
   ]
  },
  {
   "cell_type": "code",
   "execution_count": 5,
   "id": "21f9dbed-c70a-4f0a-9a31-02eed82ab645",
   "metadata": {},
   "outputs": [
    {
     "data": {
      "text/plain": [
       "<tf.Tensor: shape=(3, 2), dtype=float32, numpy=\n",
       "array([[0., 1.],\n",
       "       [2., 3.],\n",
       "       [4., 5.]], dtype=float32)>"
      ]
     },
     "execution_count": 5,
     "metadata": {},
     "output_type": "execute_result"
    }
   ],
   "source": [
    "tensor_float = tf.constant(data, dtype=tf.float32)\n",
    "tensor_float"
   ]
  },
  {
   "cell_type": "code",
   "execution_count": 6,
   "id": "f9a5d211-7c97-49e7-b204-3fd2e63c44c7",
   "metadata": {},
   "outputs": [
    {
     "data": {
      "text/plain": [
       "<tf.Tensor: shape=(2, 2), dtype=float32, numpy=\n",
       "array([[0., 0.],\n",
       "       [0., 0.]], dtype=float32)>"
      ]
     },
     "execution_count": 6,
     "metadata": {},
     "output_type": "execute_result"
    }
   ],
   "source": [
    "x = tf.constant([[1., 2.], [3., 4.]])\n",
    "x\n",
    "x_zeros = tf.zeros_like(x)\n",
    "x_zeros"
   ]
  },
  {
   "cell_type": "code",
   "execution_count": 7,
   "id": "05958ba8-f93f-464d-a458-ea6c055a42a3",
   "metadata": {},
   "outputs": [
    {
     "data": {
      "text/plain": [
       "<tf.Tensor: shape=(4, 2, 2), dtype=float32, numpy=\n",
       "array([[[0., 0.],\n",
       "        [0., 0.]],\n",
       "\n",
       "       [[0., 0.],\n",
       "        [0., 0.]],\n",
       "\n",
       "       [[0., 0.],\n",
       "        [0., 0.]],\n",
       "\n",
       "       [[0., 0.],\n",
       "        [0., 0.]]], dtype=float32)>"
      ]
     },
     "execution_count": 7,
     "metadata": {},
     "output_type": "execute_result"
    }
   ],
   "source": [
    "shape = (4, 2, 2)\n",
    "x_zeros = tf.zeros(shape)\n",
    "x_zeros"
   ]
  },
  {
   "cell_type": "code",
   "execution_count": 8,
   "id": "f6c0a776-3652-4e34-a99c-21c00a1e8716",
   "metadata": {},
   "outputs": [
    {
     "data": {
      "text/plain": [
       "<tf.Tensor: shape=(10,), dtype=int32, numpy=array([0, 1, 2, 3, 4, 5, 6, 7, 8, 9], dtype=int32)>"
      ]
     },
     "execution_count": 8,
     "metadata": {},
     "output_type": "execute_result"
    }
   ],
   "source": [
    "x = tf.range(10)\n",
    "x"
   ]
  },
  {
   "cell_type": "code",
   "execution_count": 9,
   "id": "482e0621-1ccd-4498-a9a8-45ebe70c0146",
   "metadata": {},
   "outputs": [
    {
     "data": {
      "text/plain": [
       "<tf.Tensor: shape=(3,), dtype=int32, numpy=array([11, 12, 13], dtype=int32)>"
      ]
     },
     "execution_count": 9,
     "metadata": {},
     "output_type": "execute_result"
    }
   ],
   "source": [
    "# add\n",
    "tensor = tf.constant([1, 2, 3])\n",
    "tensor + 10"
   ]
  },
  {
   "cell_type": "code",
   "execution_count": 11,
   "id": "4d92b9ae-b810-44aa-b224-b1730d9e49d2",
   "metadata": {},
   "outputs": [
    {
     "data": {
      "text/plain": [
       "<tf.Tensor: shape=(2, 2, 2), dtype=int32, numpy=\n",
       "array([[[ 94, 100],\n",
       "        [229, 244]],\n",
       "\n",
       "       [[508, 532],\n",
       "        [697, 730]]], dtype=int32)>"
      ]
     },
     "execution_count": 11,
     "metadata": {},
     "output_type": "execute_result"
    }
   ],
   "source": [
    "# transpose\n",
    "tensor_1 = tf.constant([[1, 2],\n",
    "                        [3, 4],\n",
    "                        [5, 6]], dtype=tf.float32)\n",
    "\n",
    "tensor_2 = tf.constant([[7, 10],\n",
    "                        [8, 11], \n",
    "                        [9, 12]], dtype=tf.float32)\n",
    "\n",
    "# tensor_2 is transposed\n",
    "#tf.linalg.matmul(tensor_1, tf.transpose(tensor_2))\n",
    "\n",
    "# batch matrix multiplication\n",
    "a = tf.constant(np.arange(1, 13, dtype=np.int32).reshape(2, 2, 3))\n",
    "b = tf.constant(np.arange(13, 25, dtype=np.int32).reshape(2, 3, 2))\n",
    "\n",
    "c = tf.matmul(a, b)\n",
    "c"
   ]
  },
  {
   "cell_type": "code",
   "execution_count": 12,
   "id": "d51d6442-58f2-45a1-b210-9b7ea60acfbf",
   "metadata": {},
   "outputs": [
    {
     "name": "stdout",
     "output_type": "stream",
     "text": [
      "Input shape: (3, 2)\n",
      "\n",
      "Output shape: (3, 6)\n"
     ]
    }
   ],
   "source": [
    "# pass the tensor through a layer\n",
    "tensor = tf.constant([[1, 2],\n",
    "                      [3, 4],\n",
    "                      [5, 6]], dtype=tf.float32)\n",
    "# define a dense layer\n",
    "linear = tf.keras.layers.Dense(units=6, input_shape=(2,))\n",
    "output = linear(tensor)\n",
    "print(f\"Input shape: {tensor.shape}\\n\")\n",
    "# Input shape: (3, 2)\n",
    "print(f\"Output shape: {output.shape}\")"
   ]
  },
  {
   "cell_type": "code",
   "execution_count": 13,
   "id": "5c46d3ef-6805-4aa1-9c63-36873a3607f4",
   "metadata": {},
   "outputs": [
    {
     "data": {
      "text/plain": [
       "(<tf.Tensor: shape=(3, 2), dtype=float16, numpy=\n",
       " array([[1., 2.],\n",
       "        [3., 4.],\n",
       "        [5., 6.]], dtype=float16)>,\n",
       " tf.float16)"
      ]
     },
     "execution_count": 13,
     "metadata": {},
     "output_type": "execute_result"
    }
   ],
   "source": [
    "tensor.dtype\n",
    "# <dtype: 'float32'>\n",
    "tensor_float16 = tf.cast(tensor, tf.float16)\n",
    "tensor_float16, tensor_float16.dtype"
   ]
  },
  {
   "cell_type": "code",
   "execution_count": 14,
   "id": "2fef2a35-ca17-4e34-8deb-1cd5f51512e1",
   "metadata": {},
   "outputs": [
    {
     "data": {
      "text/plain": [
       "TensorShape([1, 7])"
      ]
     },
     "execution_count": 14,
     "metadata": {},
     "output_type": "execute_result"
    }
   ],
   "source": [
    "x = tf.range(1., 8.)\n",
    "x.shape\n",
    "# (7,)\n",
    "x_reshaped = tf.reshape(x, (1, 7))\n",
    "x_reshaped.shape\n",
    "# (1, 7)"
   ]
  },
  {
   "cell_type": "code",
   "execution_count": 15,
   "id": "c9e6429c-3fac-4b5c-af6a-e1ae9b033e85",
   "metadata": {},
   "outputs": [
    {
     "data": {
      "text/plain": [
       "<tf.Tensor: shape=(4, 7), dtype=float32, numpy=\n",
       "array([[1., 2., 3., 4., 5., 6., 7.],\n",
       "       [1., 2., 3., 4., 5., 6., 7.],\n",
       "       [1., 2., 3., 4., 5., 6., 7.],\n",
       "       [1., 2., 3., 4., 5., 6., 7.]], dtype=float32)>"
      ]
     },
     "execution_count": 15,
     "metadata": {},
     "output_type": "execute_result"
    }
   ],
   "source": [
    "# stack tensors on top of each other over the rows\n",
    "x_stacked = tf.stack([x, x, x, x], axis=0)\n",
    "x_stacked"
   ]
  },
  {
   "cell_type": "code",
   "execution_count": 16,
   "id": "5068d02e-be58-4a8a-b373-250f40c7178f",
   "metadata": {},
   "outputs": [
    {
     "data": {
      "text/plain": [
       "<tf.Tensor: shape=(7, 4), dtype=float32, numpy=\n",
       "array([[1., 1., 1., 1.],\n",
       "       [2., 2., 2., 2.],\n",
       "       [3., 3., 3., 3.],\n",
       "       [4., 4., 4., 4.],\n",
       "       [5., 5., 5., 5.],\n",
       "       [6., 6., 6., 6.],\n",
       "       [7., 7., 7., 7.]], dtype=float32)>"
      ]
     },
     "execution_count": 16,
     "metadata": {},
     "output_type": "execute_result"
    }
   ],
   "source": [
    "x_stacked = tf.stack([x, x, x, x], axis=1)\n",
    "x_stacked"
   ]
  },
  {
   "cell_type": "code",
   "execution_count": 18,
   "id": "a176b42c-135d-4ebe-9761-68a9768af3ef",
   "metadata": {},
   "outputs": [
    {
     "data": {
      "text/plain": [
       "<tf.Tensor: shape=(21,), dtype=float32, numpy=\n",
       "array([1., 2., 3., 4., 5., 6., 7., 1., 2., 3., 4., 5., 6., 7., 1., 2., 3.,\n",
       "       4., 5., 6., 7.], dtype=float32)>"
      ]
     },
     "execution_count": 18,
     "metadata": {},
     "output_type": "execute_result"
    }
   ],
   "source": [
    "x = tf.range(1., 8.)\n",
    "x_cat0 = tf.concat([x, x, x], axis=0)\n",
    "x_cat0"
   ]
  },
  {
   "cell_type": "code",
   "execution_count": 19,
   "id": "d7ee9e73-a801-4dc9-8c68-10300f498c5b",
   "metadata": {},
   "outputs": [
    {
     "data": {
      "text/plain": [
       "(<tf.Tensor: shape=(1, 3, 3), dtype=int32, numpy=\n",
       " array([[[1, 2, 3],\n",
       "         [4, 5, 6],\n",
       "         [7, 8, 9]]], dtype=int32)>,\n",
       " TensorShape([1, 3, 3]))"
      ]
     },
     "execution_count": 19,
     "metadata": {},
     "output_type": "execute_result"
    }
   ],
   "source": [
    "# Indexing\n",
    "# get all values of 0th dimension and the 0 index of 1st dimension\n",
    "x = tf.constant(list(range(1, 10)), shape=(1, 3, 3))\n",
    "x, x.shape"
   ]
  },
  {
   "cell_type": "code",
   "execution_count": 20,
   "id": "0b904d77-188a-426c-b111-a77b2b9165fd",
   "metadata": {},
   "outputs": [
    {
     "data": {
      "text/plain": [
       "<tf.Tensor: shape=(3, 3), dtype=int32, numpy=\n",
       "array([[1, 2, 3],\n",
       "       [4, 5, 6],\n",
       "       [7, 8, 9]], dtype=int32)>"
      ]
     },
     "execution_count": 20,
     "metadata": {},
     "output_type": "execute_result"
    }
   ],
   "source": [
    "x[0] # Equivalent to x[0, :]"
   ]
  },
  {
   "cell_type": "code",
   "execution_count": 21,
   "id": "81e8d242-44d6-46e8-b064-61e29cc52205",
   "metadata": {},
   "outputs": [
    {
     "data": {
      "text/plain": [
       "<tf.Tensor: shape=(1, 3), dtype=int32, numpy=array([[1, 2, 3]], dtype=int32)>"
      ]
     },
     "execution_count": 21,
     "metadata": {},
     "output_type": "execute_result"
    }
   ],
   "source": [
    "x[:, 0]"
   ]
  },
  {
   "cell_type": "code",
   "execution_count": 22,
   "id": "a3d12542-ad87-400d-81b2-a16f5ef50edf",
   "metadata": {},
   "outputs": [
    {
     "data": {
      "text/plain": [
       "<tf.Tensor: shape=(1, 3), dtype=int32, numpy=array([[2, 5, 8]], dtype=int32)>"
      ]
     },
     "execution_count": 22,
     "metadata": {},
     "output_type": "execute_result"
    }
   ],
   "source": [
    "x[:, :, 1]"
   ]
  },
  {
   "cell_type": "code",
   "execution_count": 23,
   "id": "e4110ef3-64a4-44f6-9753-8ccefec0402a",
   "metadata": {},
   "outputs": [
    {
     "data": {
      "text/plain": [
       "1"
      ]
     },
     "execution_count": 23,
     "metadata": {},
     "output_type": "execute_result"
    }
   ],
   "source": [
    "# get scalar\n",
    "scalar = x[0, 0, 0].numpy()\n",
    "scalar"
   ]
  },
  {
   "cell_type": "code",
   "execution_count": 24,
   "id": "89b81193-6439-4fd0-8530-e9ff85f17258",
   "metadata": {},
   "outputs": [
    {
     "data": {
      "text/plain": [
       "(array([1., 2., 3., 4., 5., 6., 7.]),\n",
       " <tf.Tensor: shape=(7,), dtype=float64, numpy=array([1., 2., 3., 4., 5., 6., 7.])>)"
      ]
     },
     "execution_count": 24,
     "metadata": {},
     "output_type": "execute_result"
    }
   ],
   "source": [
    "array = np.arange(1.0, 8.0)\n",
    "tensor = tf.convert_to_tensor(array)\n",
    "array, tensor"
   ]
  },
  {
   "cell_type": "code",
   "execution_count": 25,
   "id": "f69af0e6-1cce-4418-b720-7ff15de295f4",
   "metadata": {},
   "outputs": [
    {
     "data": {
      "text/plain": [
       "<tf.Tensor: shape=(12,), dtype=int64, numpy=array([ 1,  2,  3,  4,  5,  6,  7,  8,  9, 10, 11, 12])>"
      ]
     },
     "execution_count": 25,
     "metadata": {},
     "output_type": "execute_result"
    }
   ],
   "source": [
    "tensor = tf.constant(np.arange(1, 13))\n",
    "tensor"
   ]
  },
  {
   "cell_type": "code",
   "execution_count": 26,
   "id": "1feea00d-d9c3-4786-9c63-c93f75cb7742",
   "metadata": {},
   "outputs": [
    {
     "data": {
      "text/plain": [
       "(<tf.Tensor: shape=(12,), dtype=int64, numpy=array([ 1,  2,  3,  4,  5,  6,  7,  8,  9, 10, 11, 12])>,\n",
       " array([ 1,  2,  3,  4,  5,  6,  7,  8,  9, 10, 11, 12]))"
      ]
     },
     "execution_count": 26,
     "metadata": {},
     "output_type": "execute_result"
    }
   ],
   "source": [
    "numpy_tensor = tensor.numpy()\n",
    "tensor, numpy_tensor"
   ]
  }
 ],
 "metadata": {
  "kernelspec": {
   "display_name": "Python 3 (ipykernel)",
   "language": "python",
   "name": "python3"
  },
  "language_info": {
   "codemirror_mode": {
    "name": "ipython",
    "version": 3
   },
   "file_extension": ".py",
   "mimetype": "text/x-python",
   "name": "python",
   "nbconvert_exporter": "python",
   "pygments_lexer": "ipython3",
   "version": "3.9.6"
  }
 },
 "nbformat": 4,
 "nbformat_minor": 5
}
