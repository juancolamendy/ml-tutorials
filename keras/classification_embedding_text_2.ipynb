{
 "cells": [
  {
   "cell_type": "code",
   "execution_count": 25,
   "id": "ecac7a53-697e-4f17-a028-164f00311850",
   "metadata": {},
   "outputs": [],
   "source": [
    "from keras.preprocessing.text import Tokenizer\n",
    "from keras.preprocessing.sequence import pad_sequences\n",
    "\n",
    "from keras.models import Sequential\n",
    "from keras.layers import Embedding, Flatten, Dense\n",
    "\n",
    "import numpy as np"
   ]
  },
  {
   "cell_type": "code",
   "execution_count": 36,
   "id": "6b459dde-bd4a-4ce7-a525-0f5bd75ff5d8",
   "metadata": {},
   "outputs": [],
   "source": [
    "vocabulary_size = 100\n",
    "max_length = 20"
   ]
  },
  {
   "cell_type": "code",
   "execution_count": 43,
   "id": "ae6e468b-01c7-470c-8360-5959f3c429cc",
   "metadata": {},
   "outputs": [],
   "source": [
    "# dataset\n",
    "reviews = ['I love programming', 'I don\\'t love running']\n",
    "labels = [1, 0]"
   ]
  },
  {
   "cell_type": "code",
   "execution_count": 37,
   "id": "7ced12da-ec04-4d29-a1d5-dc6f11f439e4",
   "metadata": {},
   "outputs": [
    {
     "name": "stdout",
     "output_type": "stream",
     "text": [
      "[[1, 2, 3, 4], [5, 6, 7, 8, 9, 1, 2]]\n"
     ]
    }
   ],
   "source": [
    "# preprocess dataset\n",
    "# create tokenizer\n",
    "tokenizer = Tokenizer(num_words=vocabulary_size)\n",
    "# train tokenizer with vocabulary\n",
    "tokenizer.fit_on_texts(reviews)\n",
    "# create sequences of integer out reviews\n",
    "sequences = tokenizer.texts_to_sequences(reviews)\n",
    "# print out\n",
    "print(sequences)"
   ]
  },
  {
   "cell_type": "code",
   "execution_count": 38,
   "id": "cd79aaeb-ebfc-4c52-b191-2f2dca206852",
   "metadata": {},
   "outputs": [
    {
     "name": "stdout",
     "output_type": "stream",
     "text": [
      "<class 'numpy.ndarray'>\n",
      "(2, 20)\n",
      "[[0 0 0 0 0 0 0 0 0 0 0 0 0 0 0 0 1 2 3 4]\n",
      " [0 0 0 0 0 0 0 0 0 0 0 0 0 5 6 7 8 9 1 2]]\n"
     ]
    }
   ],
   "source": [
    "# preprocess dataset\n",
    "# pad our sequences to ensure they’re of the same length\n",
    "x_train = pad_sequences(sequences, maxlen = max_length, padding='pre')\n",
    "# print out\n",
    "print(type(x_train))\n",
    "print(x_train.shape)\n",
    "print(x_train)"
   ]
  },
  {
   "cell_type": "code",
   "execution_count": 39,
   "id": "1f9299c2-59a3-44cc-ab2b-2745fd00f922",
   "metadata": {},
   "outputs": [
    {
     "name": "stdout",
     "output_type": "stream",
     "text": [
      "<class 'numpy.ndarray'>\n",
      "(2,)\n",
      "[1 0]\n"
     ]
    }
   ],
   "source": [
    "y_train = np.array(labels)\n",
    "print(type(y_train))\n",
    "print(y_train.shape)\n",
    "print(y_train)"
   ]
  },
  {
   "cell_type": "code",
   "execution_count": 47,
   "id": "7959919f-c5a5-4318-afb1-370011fbf7c4",
   "metadata": {},
   "outputs": [
    {
     "name": "stdout",
     "output_type": "stream",
     "text": [
      "Model: \"sequential_5\"\n",
      "_________________________________________________________________\n",
      " Layer (type)                Output Shape              Param #   \n",
      "=================================================================\n",
      " embedding_5 (Embedding)     (None, 20, 64)            6400      \n",
      "                                                                 \n",
      " flatten_5 (Flatten)         (None, 1280)              0         \n",
      "                                                                 \n",
      " dense_5 (Dense)             (None, 1)                 1281      \n",
      "                                                                 \n",
      "=================================================================\n",
      "Total params: 7681 (30.00 KB)\n",
      "Trainable params: 7681 (30.00 KB)\n",
      "Non-trainable params: 0 (0.00 Byte)\n",
      "_________________________________________________________________\n"
     ]
    }
   ],
   "source": [
    "# define the model\n",
    "# use an Embedding Layer with an input dimension of 100 (our vocabulary size)\n",
    "# an output dimension of 64 (the size of the embedding vectors)\n",
    "# an input length of the size of our padded sequences\n",
    "model = Sequential()\n",
    "embedding_layer = Embedding(vocabulary_size, 64, input_length=max_length)\n",
    "model.add(embedding_layer)\n",
    "model.add(Flatten())\n",
    "model.add(Dense(1, activation='sigmoid'))\n",
    "\n",
    "model.summary()"
   ]
  },
  {
   "cell_type": "code",
   "execution_count": 48,
   "id": "b47e6110-d0dd-48ce-90df-6d67742c19ab",
   "metadata": {},
   "outputs": [],
   "source": [
    "# compile the model\n",
    "model.compile(optimizer='adam', loss='binary_crossentropy', metrics=['accuracy'])"
   ]
  },
  {
   "cell_type": "code",
   "execution_count": 49,
   "id": "20848876-eb6c-4e6b-a560-e99a5880f38e",
   "metadata": {},
   "outputs": [
    {
     "name": "stdout",
     "output_type": "stream",
     "text": [
      "Epoch 1/10\n",
      "1/1 [==============================] - 0s 299ms/step - loss: 0.6840 - accuracy: 0.5000\n",
      "Epoch 2/10\n",
      "1/1 [==============================] - 0s 17ms/step - loss: 0.6741 - accuracy: 1.0000\n",
      "Epoch 3/10\n",
      "1/1 [==============================] - 0s 14ms/step - loss: 0.6645 - accuracy: 1.0000\n",
      "Epoch 4/10\n",
      "1/1 [==============================] - 0s 15ms/step - loss: 0.6548 - accuracy: 1.0000\n",
      "Epoch 5/10\n"
     ]
    },
    {
     "name": "stderr",
     "output_type": "stream",
     "text": [
      "2023-10-12 11:48:51.384160: I tensorflow/core/grappler/optimizers/custom_graph_optimizer_registry.cc:114] Plugin optimizer for device_type GPU is enabled.\n"
     ]
    },
    {
     "name": "stdout",
     "output_type": "stream",
     "text": [
      "1/1 [==============================] - 0s 14ms/step - loss: 0.6452 - accuracy: 1.0000\n",
      "Epoch 6/10\n",
      "1/1 [==============================] - 0s 12ms/step - loss: 0.6357 - accuracy: 1.0000\n",
      "Epoch 7/10\n",
      "1/1 [==============================] - 0s 14ms/step - loss: 0.6261 - accuracy: 1.0000\n",
      "Epoch 8/10\n",
      "1/1 [==============================] - 0s 13ms/step - loss: 0.6167 - accuracy: 1.0000\n",
      "Epoch 9/10\n",
      "1/1 [==============================] - 0s 15ms/step - loss: 0.6072 - accuracy: 1.0000\n",
      "Epoch 10/10\n",
      "1/1 [==============================] - 0s 16ms/step - loss: 0.5977 - accuracy: 1.0000\n"
     ]
    },
    {
     "data": {
      "text/plain": [
       "<keras.src.callbacks.History at 0x2b2f18b20>"
      ]
     },
     "execution_count": 49,
     "metadata": {},
     "output_type": "execute_result"
    }
   ],
   "source": [
    "# train the model\n",
    "model.fit(x_train, y_train, epochs=10)"
   ]
  },
  {
   "cell_type": "code",
   "execution_count": 50,
   "id": "e11c6e1a-fc3e-40b8-9506-953709112526",
   "metadata": {},
   "outputs": [
    {
     "name": "stdout",
     "output_type": "stream",
     "text": [
      "(100, 64)\n",
      "[-1.3688568e-02  3.1681504e-02  5.0974125e-03 -5.2420989e-02\n",
      " -3.7845936e-02 -5.9228759e-02 -1.1415168e-02  2.0011872e-02\n",
      "  5.2482765e-02  3.3049151e-02  9.3408925e-03 -2.2770107e-02\n",
      " -3.6578223e-02 -9.2308773e-03 -2.5252922e-02 -3.1616647e-02\n",
      "  1.4326822e-02  4.7166947e-02 -2.1721521e-02 -8.5460655e-03\n",
      " -9.4988216e-03 -3.6859244e-02  6.0028523e-02 -1.3310545e-02\n",
      "  3.4475483e-02 -5.4265440e-02 -3.2195617e-03 -3.3574153e-02\n",
      "  3.7458472e-02 -6.3645467e-03 -5.0528217e-02  1.5997929e-02\n",
      "  2.8862590e-02 -9.3663298e-03 -3.5441056e-02 -3.5396726e-03\n",
      "  5.9001733e-02  1.7202215e-02  5.7534810e-02  1.3650018e-02\n",
      "  5.9324065e-03  3.7962202e-02 -3.5332229e-02 -3.3120099e-02\n",
      "  6.5675034e-05 -1.5795229e-02  4.1016761e-02 -4.5903515e-02\n",
      " -5.5608559e-02 -6.7924894e-03  5.7816962e-03  3.1421568e-02\n",
      "  5.5812687e-02 -4.4761121e-02  3.6175933e-02  6.5704118e-03\n",
      " -5.8289029e-02  8.1923651e-03 -3.3283625e-02 -6.7556491e-03\n",
      "  3.6661927e-02 -2.1452025e-02 -1.0955386e-02  5.5169135e-02]\n"
     ]
    }
   ],
   "source": [
    "print(embedding_layer.get_weights()[0].shape )\n",
    "print(embedding_layer.get_weights()[0][0] )"
   ]
  }
 ],
 "metadata": {
  "kernelspec": {
   "display_name": "Python 3 (ipykernel)",
   "language": "python",
   "name": "python3"
  },
  "language_info": {
   "codemirror_mode": {
    "name": "ipython",
    "version": 3
   },
   "file_extension": ".py",
   "mimetype": "text/x-python",
   "name": "python",
   "nbconvert_exporter": "python",
   "pygments_lexer": "ipython3",
   "version": "3.9.6"
  }
 },
 "nbformat": 4,
 "nbformat_minor": 5
}
