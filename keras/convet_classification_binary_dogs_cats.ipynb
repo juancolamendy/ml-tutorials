{
 "cells": [
  {
   "cell_type": "code",
   "execution_count": 1,
   "id": "2fff7d07-1fdb-4e23-88c9-bf5b258a535a",
   "metadata": {},
   "outputs": [],
   "source": [
    "# Downloading the dataset\n",
    "# !pwd\n",
    "#ls local_training_data/dogs-cats/train\n",
    "# !ls local_training_data/dogs-cats-small\n",
    "import os, shutil"
   ]
  },
  {
   "cell_type": "code",
   "execution_count": 2,
   "id": "be47a4bf-bf79-4cae-9668-ceeb20257cb8",
   "metadata": {},
   "outputs": [],
   "source": [
    "# define dataset dir\n",
    "original_dataset_dir = 'local_training_data/dogs-cats/train'\n",
    "base_dir = 'local_training_data/dogs-cats-small'"
   ]
  },
  {
   "cell_type": "code",
   "execution_count": 3,
   "id": "fd7fca9b-4fae-4c9b-9c36-a95374c51993",
   "metadata": {},
   "outputs": [
    {
     "name": "stdout",
     "output_type": "stream",
     "text": [
      "train_dir: local_training_data/dogs-cats-small/train\n",
      "validation_dir: local_training_data/dogs-cats-small/validation\n",
      "test_dir: local_training_data/dogs-cats-small/test\n",
      "train_cats_dir: local_training_data/dogs-cats-small/train/cats\n",
      "train_dogs_dir: local_training_data/dogs-cats-small/train/dogs\n",
      "validation_cats_dir: local_training_data/dogs-cats-small/validation/cats\n",
      "validation_dogs_dir: local_training_data/dogs-cats-small/validation/dogs\n",
      "test_cats_dir: local_training_data/dogs-cats-small/test/cats\n",
      "test_dogs_dir: local_training_data/dogs-cats-small/test/dogs\n"
     ]
    }
   ],
   "source": [
    "# make directories\n",
    "train_dir = os.path.join(base_dir, 'train')\n",
    "if not os.path.exists(train_dir):\n",
    "    os.mkdir(train_dir)\n",
    "print('train_dir:', train_dir)\n",
    "\n",
    "validation_dir = os.path.join(base_dir, 'validation')\n",
    "if not os.path.exists(validation_dir):\n",
    "    os.mkdir(validation_dir)\n",
    "print('validation_dir:', validation_dir)\n",
    "\n",
    "test_dir = os.path.join(base_dir, 'test')\n",
    "if not os.path.exists(test_dir):\n",
    "    os.mkdir(test_dir)\n",
    "print('test_dir:', test_dir)\n",
    "\n",
    "train_cats_dir = os.path.join(train_dir, 'cats')\n",
    "if not os.path.exists(train_cats_dir):\n",
    "    os.mkdir(train_cats_dir)\n",
    "print('train_cats_dir:', train_cats_dir)\n",
    "\n",
    "train_dogs_dir = os.path.join(train_dir, 'dogs')\n",
    "if not os.path.exists(train_dogs_dir):\n",
    "    os.mkdir(train_dogs_dir)\n",
    "print('train_dogs_dir:', train_dogs_dir)\n",
    "\n",
    "validation_cats_dir = os.path.join(validation_dir, 'cats')\n",
    "if not os.path.exists(validation_cats_dir):\n",
    "    os.mkdir(validation_cats_dir)\n",
    "print('validation_cats_dir:', validation_cats_dir)\n",
    "\n",
    "validation_dogs_dir = os.path.join(validation_dir, 'dogs')\n",
    "if not os.path.exists(validation_dogs_dir):\n",
    "    os.mkdir(validation_dogs_dir)\n",
    "print('validation_dogs_dir:', validation_dogs_dir)\n",
    "\n",
    "test_cats_dir = os.path.join(test_dir, 'cats')\n",
    "if not os.path.exists(test_cats_dir):\n",
    "    os.mkdir(test_cats_dir)\n",
    "print('test_cats_dir:', test_cats_dir)\n",
    "\n",
    "test_dogs_dir = os.path.join(test_dir, 'dogs')\n",
    "if not os.path.exists(test_dogs_dir):\n",
    "    os.mkdir(test_dogs_dir)\n",
    "print('test_dogs_dir:', test_dogs_dir)"
   ]
  },
  {
   "cell_type": "code",
   "execution_count": 4,
   "id": "b1d799a8-cf74-43c4-815e-c01726c0878b",
   "metadata": {},
   "outputs": [],
   "source": [
    "# Copies the first 1,000 cat images to train_cats_dir\n",
    "fnames = ['cat.{}.jpg'.format(i) for i in range(1000)]\n",
    "for fname in fnames:\n",
    "    src = os.path.join(original_dataset_dir, fname)\n",
    "    dst = os.path.join(train_cats_dir, fname)\n",
    "    shutil.copyfile(src, dst)"
   ]
  },
  {
   "cell_type": "code",
   "execution_count": 5,
   "id": "a8e6ac2a-a050-44fb-8704-10f0221bc453",
   "metadata": {},
   "outputs": [],
   "source": [
    "# Copies the next 500 cat images to validation_cats_dir\n",
    "fnames = ['cat.{}.jpg'.format(i) for i in range(1000, 1500)]\n",
    "for fname in fnames:\n",
    "    src = os.path.join(original_dataset_dir, fname)\n",
    "    dst = os.path.join(validation_cats_dir, fname)\n",
    "    shutil.copyfile(src, dst)"
   ]
  },
  {
   "cell_type": "code",
   "execution_count": 6,
   "id": "3ad1919b-344f-4076-9b10-c4fb76658308",
   "metadata": {},
   "outputs": [],
   "source": [
    "# Copies the next 500 cat images to test_cats_dir\n",
    "fnames = ['cat.{}.jpg'.format(i) for i in range(1500, 2000)]\n",
    "for fname in fnames:\n",
    "    src = os.path.join(original_dataset_dir, fname)\n",
    "    dst = os.path.join(test_cats_dir, fname)\n",
    "    shutil.copyfile(src, dst)"
   ]
  },
  {
   "cell_type": "code",
   "execution_count": 7,
   "id": "7acbf276-8596-46a3-81d7-6c52f659fd1f",
   "metadata": {},
   "outputs": [],
   "source": [
    "# Copies the first 1,000 dog images to train_dogs_dir\n",
    "fnames = ['dog.{}.jpg'.format(i) for i in range(1000)]\n",
    "for fname in fnames:\n",
    "    src = os.path.join(original_dataset_dir, fname)\n",
    "    dst = os.path.join(train_dogs_dir, fname)\n",
    "    shutil.copyfile(src, dst)"
   ]
  },
  {
   "cell_type": "code",
   "execution_count": 8,
   "id": "41aa88ca-120e-427a-a629-8599f23144b0",
   "metadata": {},
   "outputs": [],
   "source": [
    "# Copies the next 500 dog images to validation_dogs_dir\n",
    "fnames = ['dog.{}.jpg'.format(i) for i in range(1000, 1500)]\n",
    "for fname in fnames:\n",
    "    src = os.path.join(original_dataset_dir, fname)\n",
    "    dst = os.path.join(validation_dogs_dir, fname)\n",
    "    shutil.copyfile(src, dst)"
   ]
  },
  {
   "cell_type": "code",
   "execution_count": 9,
   "id": "763cf0f0-8b77-4c75-a3a5-94970acb48f6",
   "metadata": {},
   "outputs": [],
   "source": [
    "# Copies the next 500 dog images to test_dogs_dir\n",
    "fnames = ['dog.{}.jpg'.format(i) for i in range(1500, 2000)]\n",
    "for fname in fnames:\n",
    "    src = os.path.join(original_dataset_dir, fname)\n",
    "    dst = os.path.join(test_dogs_dir, fname)\n",
    "    shutil.copyfile(src, dst)"
   ]
  },
  {
   "cell_type": "code",
   "execution_count": 10,
   "id": "40f3faef-2793-4222-819e-60a99afe400b",
   "metadata": {},
   "outputs": [
    {
     "name": "stdout",
     "output_type": "stream",
     "text": [
      "total training cat images: 1000\n",
      "total training dog images: 1000\n",
      "total validation cat images: 500\n",
      "total validation dog images: 500\n",
      "total test cat images: 500\n",
      "total test dog images: 500\n"
     ]
    }
   ],
   "source": [
    "# do sanity check\n",
    "print('total training cat images:', len(os.listdir(train_cats_dir)))\n",
    "print('total training dog images:', len(os.listdir(train_dogs_dir)))\n",
    "print('total validation cat images:', len(os.listdir(validation_cats_dir)))\n",
    "print('total validation dog images:', len(os.listdir(validation_dogs_dir)))\n",
    "print('total test cat images:', len(os.listdir(test_cats_dir)))\n",
    "print('total test dog images:', len(os.listdir(test_dogs_dir)))"
   ]
  },
  {
   "cell_type": "code",
   "execution_count": 11,
   "id": "4cdc3f16-d71d-41a7-993e-2a9f03040c02",
   "metadata": {},
   "outputs": [
    {
     "name": "stdout",
     "output_type": "stream",
     "text": [
      "Model: \"sequential\"\n",
      "_________________________________________________________________\n",
      " Layer (type)                Output Shape              Param #   \n",
      "=================================================================\n",
      " conv2d (Conv2D)             (None, 148, 148, 32)      896       \n",
      "                                                                 \n",
      " max_pooling2d (MaxPooling2  (None, 74, 74, 32)        0         \n",
      " D)                                                              \n",
      "                                                                 \n",
      " conv2d_1 (Conv2D)           (None, 72, 72, 64)        18496     \n",
      "                                                                 \n",
      " max_pooling2d_1 (MaxPoolin  (None, 36, 36, 64)        0         \n",
      " g2D)                                                            \n",
      "                                                                 \n",
      " conv2d_2 (Conv2D)           (None, 34, 34, 128)       73856     \n",
      "                                                                 \n",
      " max_pooling2d_2 (MaxPoolin  (None, 17, 17, 128)       0         \n",
      " g2D)                                                            \n",
      "                                                                 \n",
      " conv2d_3 (Conv2D)           (None, 15, 15, 128)       147584    \n",
      "                                                                 \n",
      " max_pooling2d_3 (MaxPoolin  (None, 7, 7, 128)         0         \n",
      " g2D)                                                            \n",
      "                                                                 \n",
      " flatten (Flatten)           (None, 6272)              0         \n",
      "                                                                 \n",
      " dense (Dense)               (None, 512)               3211776   \n",
      "                                                                 \n",
      " dense_1 (Dense)             (None, 1)                 513       \n",
      "                                                                 \n",
      "=================================================================\n",
      "Total params: 3453121 (13.17 MB)\n",
      "Trainable params: 3453121 (13.17 MB)\n",
      "Non-trainable params: 0 (0.00 Byte)\n",
      "_________________________________________________________________\n"
     ]
    }
   ],
   "source": [
    "# Building your network\n",
    "from keras import layers\n",
    "from keras import models\n",
    "\n",
    "# define the model\n",
    "model = models.Sequential()\n",
    "model.add(layers.Conv2D(32, (3, 3), activation='relu', input_shape=(150, 150, 3)))\n",
    "model.add(layers.MaxPooling2D((2, 2)))\n",
    "model.add(layers.Conv2D(64, (3, 3), activation='relu'))\n",
    "model.add(layers.MaxPooling2D((2, 2)))\n",
    "model.add(layers.Conv2D(128, (3, 3), activation='relu'))\n",
    "model.add(layers.MaxPooling2D((2, 2)))\n",
    "model.add(layers.Conv2D(128, (3, 3), activation='relu'))\n",
    "model.add(layers.MaxPooling2D((2, 2)))\n",
    "model.add(layers.Flatten())\n",
    "model.add(layers.Dense(512, activation='relu'))\n",
    "model.add(layers.Dense(1, activation='sigmoid'))\n",
    "\n",
    "# summary\n",
    "model.summary()"
   ]
  },
  {
   "cell_type": "code",
   "execution_count": 12,
   "id": "a0d92bed-d61a-40fc-9fe3-49752875ba60",
   "metadata": {},
   "outputs": [
    {
     "name": "stderr",
     "output_type": "stream",
     "text": [
      "WARNING:absl:At this time, the v2.11+ optimizer `tf.keras.optimizers.RMSprop` runs slowly on M1/M2 Macs, please use the legacy Keras optimizer instead, located at `tf.keras.optimizers.legacy.RMSprop`.\n",
      "WARNING:absl:`lr` is deprecated in Keras optimizer, please use `learning_rate` or use the legacy optimizer, e.g.,tf.keras.optimizers.legacy.RMSprop.\n",
      "WARNING:absl:There is a known slowdown when using v2.11+ Keras optimizers on M1/M2 Macs. Falling back to the legacy Keras optimizer, i.e., `tf.keras.optimizers.legacy.RMSprop`.\n"
     ]
    }
   ],
   "source": [
    "# compile the model\n",
    "from keras import optimizers\n",
    "\n",
    "model.compile(loss='binary_crossentropy',\n",
    "              optimizer=optimizers.RMSprop(lr=1e-4),\n",
    "              metrics=['acc'])"
   ]
  },
  {
   "cell_type": "code",
   "execution_count": 13,
   "id": "1664c780-83e0-465d-8154-eff2e91d6a98",
   "metadata": {},
   "outputs": [
    {
     "name": "stdout",
     "output_type": "stream",
     "text": [
      "Found 2000 images belonging to 2 classes.\n",
      "Found 1000 images belonging to 2 classes.\n"
     ]
    }
   ],
   "source": [
    "# Data preprocessing\n",
    "# ImageDataGenerator to read images from directories\n",
    "from keras.preprocessing.image import ImageDataGenerator\n",
    "\n",
    "# create data generator\n",
    "# rescales all images by 1/255\n",
    "train_datagen = ImageDataGenerator(rescale=1./255)\n",
    "test_datagen = ImageDataGenerator(rescale=1./255)\n",
    "\n",
    "train_generator = train_datagen.flow_from_directory(\n",
    "    train_dir, # target directory\n",
    "    target_size=(150, 150), # Resizes all images to 150 × 150\n",
    "    batch_size=20,\n",
    "    class_mode='binary')\n",
    "\n",
    "validation_generator = test_datagen.flow_from_directory(\n",
    "    validation_dir,\n",
    "    target_size=(150, 150),\n",
    "    batch_size=20,\n",
    "    class_mode='binary')"
   ]
  },
  {
   "cell_type": "code",
   "execution_count": 14,
   "id": "ad11e31c-e06a-47cd-9ea1-27fb0e9b4e02",
   "metadata": {},
   "outputs": [
    {
     "name": "stdout",
     "output_type": "stream",
     "text": [
      "data batch shape: (20, 150, 150, 3)\n",
      "labels batch shape: (20,)\n"
     ]
    }
   ],
   "source": [
    "# test generator\n",
    "for data_batch, labels_batch in train_generator:\n",
    "    print('data batch shape:', data_batch.shape)\n",
    "    print('labels batch shape:', labels_batch.shape)\n",
    "    break"
   ]
  },
  {
   "cell_type": "code",
   "execution_count": 15,
   "id": "5aaf074d-6987-49dc-9f08-a7f7bf1892b3",
   "metadata": {},
   "outputs": [
    {
     "name": "stderr",
     "output_type": "stream",
     "text": [
      "/var/folders/cg/xkrtyvkn46v_d07jqjh0zkp40000gn/T/ipykernel_5923/1374918029.py:5: UserWarning: `Model.fit_generator` is deprecated and will be removed in a future version. Please use `Model.fit`, which supports generators.\n",
      "  history = model.fit_generator(\n"
     ]
    },
    {
     "name": "stdout",
     "output_type": "stream",
     "text": [
      "Epoch 1/30\n",
      "100/100 [==============================] - 13s 125ms/step - loss: 0.7547 - acc: 0.5130 - val_loss: 0.6877 - val_acc: 0.6170\n",
      "Epoch 2/30\n",
      "100/100 [==============================] - 13s 128ms/step - loss: 0.6913 - acc: 0.5735 - val_loss: 0.6832 - val_acc: 0.5840\n",
      "Epoch 3/30\n",
      "100/100 [==============================] - 14s 138ms/step - loss: 0.6969 - acc: 0.6345 - val_loss: 0.6758 - val_acc: 0.6110\n",
      "Epoch 4/30\n",
      "100/100 [==============================] - 13s 128ms/step - loss: 0.6081 - acc: 0.6790 - val_loss: 0.7614 - val_acc: 0.5770\n",
      "Epoch 5/30\n",
      "100/100 [==============================] - 13s 125ms/step - loss: 0.5891 - acc: 0.7155 - val_loss: 0.6238 - val_acc: 0.6520\n",
      "Epoch 6/30\n",
      "100/100 [==============================] - 13s 127ms/step - loss: 0.5309 - acc: 0.7265 - val_loss: 0.7246 - val_acc: 0.6660\n",
      "Epoch 7/30\n",
      "100/100 [==============================] - 13s 129ms/step - loss: 0.4916 - acc: 0.7685 - val_loss: 0.7056 - val_acc: 0.6960\n",
      "Epoch 8/30\n",
      "100/100 [==============================] - 13s 129ms/step - loss: 0.4454 - acc: 0.8020 - val_loss: 0.6904 - val_acc: 0.6880\n",
      "Epoch 9/30\n",
      "100/100 [==============================] - 13s 129ms/step - loss: 0.3874 - acc: 0.8295 - val_loss: 0.6282 - val_acc: 0.7050\n",
      "Epoch 10/30\n",
      "100/100 [==============================] - 13s 127ms/step - loss: 0.3260 - acc: 0.8605 - val_loss: 0.9883 - val_acc: 0.6810\n",
      "Epoch 11/30\n",
      "100/100 [==============================] - 13s 128ms/step - loss: 0.2603 - acc: 0.8930 - val_loss: 0.7314 - val_acc: 0.7250\n",
      "Epoch 12/30\n",
      "100/100 [==============================] - 13s 127ms/step - loss: 0.1920 - acc: 0.9190 - val_loss: 1.1591 - val_acc: 0.7120\n",
      "Epoch 13/30\n",
      "100/100 [==============================] - 13s 127ms/step - loss: 0.1561 - acc: 0.9335 - val_loss: 1.0829 - val_acc: 0.7310\n",
      "Epoch 14/30\n",
      "100/100 [==============================] - 14s 135ms/step - loss: 0.1298 - acc: 0.9570 - val_loss: 1.2303 - val_acc: 0.7330\n",
      "Epoch 15/30\n",
      "100/100 [==============================] - 13s 132ms/step - loss: 0.0908 - acc: 0.9645 - val_loss: 1.6656 - val_acc: 0.7060\n",
      "Epoch 16/30\n",
      "100/100 [==============================] - 12s 125ms/step - loss: 0.1080 - acc: 0.9635 - val_loss: 1.4871 - val_acc: 0.7220\n",
      "Epoch 17/30\n",
      "100/100 [==============================] - 13s 125ms/step - loss: 0.0812 - acc: 0.9765 - val_loss: 1.7584 - val_acc: 0.7220\n",
      "Epoch 18/30\n",
      "100/100 [==============================] - 13s 125ms/step - loss: 0.1054 - acc: 0.9700 - val_loss: 1.3932 - val_acc: 0.7240\n",
      "Epoch 19/30\n",
      "100/100 [==============================] - 13s 126ms/step - loss: 0.0766 - acc: 0.9760 - val_loss: 2.0049 - val_acc: 0.7050\n",
      "Epoch 20/30\n",
      "100/100 [==============================] - 13s 126ms/step - loss: 0.0889 - acc: 0.9790 - val_loss: 1.7150 - val_acc: 0.7330\n",
      "Epoch 21/30\n",
      "100/100 [==============================] - 13s 126ms/step - loss: 0.0713 - acc: 0.9845 - val_loss: 2.7941 - val_acc: 0.6950\n",
      "Epoch 22/30\n",
      "100/100 [==============================] - 13s 127ms/step - loss: 0.0767 - acc: 0.9830 - val_loss: 2.5176 - val_acc: 0.7280\n",
      "Epoch 23/30\n",
      "100/100 [==============================] - 13s 127ms/step - loss: 0.0742 - acc: 0.9805 - val_loss: 2.1485 - val_acc: 0.7030\n",
      "Epoch 24/30\n",
      "100/100 [==============================] - 13s 127ms/step - loss: 0.1069 - acc: 0.9830 - val_loss: 2.1527 - val_acc: 0.7080\n",
      "Epoch 25/30\n",
      "100/100 [==============================] - 13s 130ms/step - loss: 0.1080 - acc: 0.9785 - val_loss: 2.3815 - val_acc: 0.7180\n",
      "Epoch 26/30\n",
      "100/100 [==============================] - 14s 138ms/step - loss: 0.0700 - acc: 0.9830 - val_loss: 2.7428 - val_acc: 0.7180\n",
      "Epoch 27/30\n",
      "100/100 [==============================] - 13s 127ms/step - loss: 0.0387 - acc: 0.9920 - val_loss: 2.8198 - val_acc: 0.7170\n",
      "Epoch 28/30\n",
      "100/100 [==============================] - 13s 128ms/step - loss: 0.0395 - acc: 0.9865 - val_loss: 3.1010 - val_acc: 0.7100\n",
      "Epoch 29/30\n",
      "100/100 [==============================] - 13s 128ms/step - loss: 0.0627 - acc: 0.9875 - val_loss: 4.1358 - val_acc: 0.7230\n",
      "Epoch 30/30\n",
      "100/100 [==============================] - 13s 132ms/step - loss: 0.0597 - acc: 0.9850 - val_loss: 2.7742 - val_acc: 0.7330\n"
     ]
    }
   ],
   "source": [
    "# fit the model\n",
    "# calculate: steps_per_epoch => number of batches fetched\n",
    "# batches = 20 samples, steps_per_epoch/batches = 100, then  2,000 samples\n",
    "# steps_per_epoch = total_samples / batch_size\n",
    "history = model.fit(\n",
    "    train_generator,\n",
    "    steps_per_epoch=100,\n",
    "    epochs=30,\n",
    "    validation_data=validation_generator,\n",
    "    validation_steps=50)"
   ]
  },
  {
   "cell_type": "code",
   "execution_count": 16,
   "id": "b4d0aae9-8da4-490d-851f-de9000296985",
   "metadata": {},
   "outputs": [
    {
     "name": "stderr",
     "output_type": "stream",
     "text": [
      "/Users/jcolamendy/python/ml-tutorials/venv/lib/python3.9/site-packages/keras/src/engine/training.py:3000: UserWarning: You are saving your model as an HDF5 file via `model.save()`. This file format is considered legacy. We recommend using instead the native Keras format, e.g. `model.save('my_model.keras')`.\n",
      "  saving_api.save_model(\n"
     ]
    }
   ],
   "source": [
    "model.save('trained_models/cats_and_dogs_small_1.h5')"
   ]
  },
  {
   "cell_type": "code",
   "execution_count": 17,
   "id": "6d58628c-63d6-4463-bfc6-d800268ebb0d",
   "metadata": {},
   "outputs": [
    {
     "data": {
      "text/plain": [
       "dict_keys(['loss', 'acc', 'val_loss', 'val_acc'])"
      ]
     },
     "execution_count": 17,
     "metadata": {},
     "output_type": "execute_result"
    }
   ],
   "source": [
    "import matplotlib.pyplot as plt\n",
    "\n",
    "history.history.keys()"
   ]
  },
  {
   "cell_type": "code",
   "execution_count": 18,
   "id": "592064bf-15cf-4e4d-9c25-7e956b88419d",
   "metadata": {},
   "outputs": [
    {
     "data": {
      "image/png": "[encoded data removed]",
      "text/plain": [
       "<Figure size 640x480 with 1 Axes>"
      ]
     },
     "metadata": {},
     "output_type": "display_data"
    },
    {
     "data": {
      "image/png": "[encoded data removed]",
      "text/plain": [
       "<Figure size 640x480 with 1 Axes>"
      ]
     },
     "metadata": {},
     "output_type": "display_data"
    }
   ],
   "source": [
    "acc = history.history['acc']\n",
    "val_acc = history.history['val_acc']\n",
    "\n",
    "loss = history.history['loss']\n",
    "val_loss = history.history['val_loss']\n",
    "\n",
    "epochs = range(1, len(acc) + 1)\n",
    "\n",
    "plt.plot(epochs, acc, 'bo', label='Training acc')\n",
    "plt.plot(epochs, val_acc, 'b', label='Validation acc')\n",
    "plt.title('Training and validation accuracy')\n",
    "plt.legend()\n",
    "plt.figure()\n",
    "\n",
    "plt.plot(epochs, loss, 'bo', label='Training loss')\n",
    "plt.plot(epochs, val_loss, 'b', label='Validation loss')\n",
    "plt.title('Training and validation loss')\n",
    "plt.legend()\n",
    "\n",
    "plt.show()\n",
    "\n",
    "# The training accuracy increases linearly over time, until it reaches nearly 100%, whereas the validation accuracy stalls at 70–72%.\n",
    "# The validation loss reaches its minimum after only five epochs and then stalls, whereas the training loss keeps decreasing linearly until it reaches nearly 0."
   ]
  },
  {
   "cell_type": "code",
   "execution_count": null,
   "id": "b33251a7-3947-4395-b598-4379b6d801ed",
   "metadata": {},
   "outputs": [],
   "source": [
    "# Using data augmentation\n",
    "# Overfitting is caused by having too few samples to learn from, rendering you unable to train a model that can generalize to new data.\n",
    "# Data augmentation takes the approach of generating more training data from existing training samples,\n",
    "# by augmenting the samples via a number of random transformations that yield believable-looking images.\n",
    "\n",
    "# In Keras, this can be done by configuring a number of random transformations to be performed on the images read by the ImageDataGenerator"
   ]
  },
  {
   "cell_type": "code",
   "execution_count": 19,
   "id": "17ce65c7-1d41-4398-ac3f-f2b7103fc98f",
   "metadata": {},
   "outputs": [
    {
     "name": "stdout",
     "output_type": "stream",
     "text": [
      "Model: \"sequential_1\"\n",
      "_________________________________________________________________\n",
      " Layer (type)                Output Shape              Param #   \n",
      "=================================================================\n",
      " conv2d_4 (Conv2D)           (None, 148, 148, 32)      896       \n",
      "                                                                 \n",
      " max_pooling2d_4 (MaxPoolin  (None, 74, 74, 32)        0         \n",
      " g2D)                                                            \n",
      "                                                                 \n",
      " conv2d_5 (Conv2D)           (None, 72, 72, 64)        18496     \n",
      "                                                                 \n",
      " max_pooling2d_5 (MaxPoolin  (None, 36, 36, 64)        0         \n",
      " g2D)                                                            \n",
      "                                                                 \n",
      " conv2d_6 (Conv2D)           (None, 34, 34, 128)       73856     \n",
      "                                                                 \n",
      " max_pooling2d_6 (MaxPoolin  (None, 17, 17, 128)       0         \n",
      " g2D)                                                            \n",
      "                                                                 \n",
      " conv2d_7 (Conv2D)           (None, 15, 15, 128)       147584    \n",
      "                                                                 \n",
      " max_pooling2d_7 (MaxPoolin  (None, 7, 7, 128)         0         \n",
      " g2D)                                                            \n",
      "                                                                 \n",
      " flatten_1 (Flatten)         (None, 6272)              0         \n",
      "                                                                 \n",
      " dropout (Dropout)           (None, 6272)              0         \n",
      "                                                                 \n",
      " dense_2 (Dense)             (None, 512)               3211776   \n",
      "                                                                 \n",
      " dense_3 (Dense)             (None, 1)                 513       \n",
      "                                                                 \n",
      "=================================================================\n",
      "Total params: 3453121 (13.17 MB)\n",
      "Trainable params: 3453121 (13.17 MB)\n",
      "Non-trainable params: 0 (0.00 Byte)\n",
      "_________________________________________________________________\n"
     ]
    }
   ],
   "source": [
    "# defining a new convnet that includes dropout\n",
    "model = models.Sequential()\n",
    "model.add(layers.Conv2D(32, (3, 3), activation='relu', input_shape=(150, 150, 3)))\n",
    "model.add(layers.MaxPooling2D((2, 2)))\n",
    "model.add(layers.Conv2D(64, (3, 3), activation='relu'))\n",
    "model.add(layers.MaxPooling2D((2, 2)))\n",
    "model.add(layers.Conv2D(128, (3, 3), activation='relu'))\n",
    "model.add(layers.MaxPooling2D((2, 2)))\n",
    "model.add(layers.Conv2D(128, (3, 3), activation='relu'))\n",
    "model.add(layers.MaxPooling2D((2, 2)))\n",
    "model.add(layers.Flatten())\n",
    "model.add(layers.Dropout(0.5))\n",
    "model.add(layers.Dense(512, activation='relu'))\n",
    "model.add(layers.Dense(1, activation='sigmoid'))\n",
    "\n",
    "model.summary()"
   ]
  },
  {
   "cell_type": "code",
   "execution_count": 20,
   "id": "b8f94405-1fff-4f05-bf5e-7c68e35b30c6",
   "metadata": {},
   "outputs": [
    {
     "name": "stderr",
     "output_type": "stream",
     "text": [
      "WARNING:absl:At this time, the v2.11+ optimizer `tf.keras.optimizers.RMSprop` runs slowly on M1/M2 Macs, please use the legacy Keras optimizer instead, located at `tf.keras.optimizers.legacy.RMSprop`.\n",
      "WARNING:absl:`lr` is deprecated in Keras optimizer, please use `learning_rate` or use the legacy optimizer, e.g.,tf.keras.optimizers.legacy.RMSprop.\n",
      "WARNING:absl:There is a known slowdown when using v2.11+ Keras optimizers on M1/M2 Macs. Falling back to the legacy Keras optimizer, i.e., `tf.keras.optimizers.legacy.RMSprop`.\n"
     ]
    }
   ],
   "source": [
    "model.compile(loss='binary_crossentropy',\n",
    "              optimizer=optimizers.RMSprop(lr=1e-4),\n",
    "              metrics=['acc'])"
   ]
  },
  {
   "cell_type": "code",
   "execution_count": 27,
   "id": "b399e879-83ce-41c1-9c02-6029a346975f",
   "metadata": {},
   "outputs": [],
   "source": [
    "# Training the convnet using data-augmentation generators\n",
    "train_datagen = ImageDataGenerator(\n",
    "    rescale=1./255,\n",
    "    rotation_range=40,\n",
    "    width_shift_range=0.2,\n",
    "    height_shift_range=0.2,\n",
    "    shear_range=0.2,\n",
    "    zoom_range=0.2,\n",
    "    horizontal_flip=True,\n",
    ")\n",
    "\n",
    "test_datagen = ImageDataGenerator(rescale=1./255)"
   ]
  },
  {
   "cell_type": "code",
   "execution_count": 30,
   "id": "e24ee3f0-5718-46d6-a08c-83784183560f",
   "metadata": {},
   "outputs": [
    {
     "name": "stdout",
     "output_type": "stream",
     "text": [
      "Found 2000 images belonging to 2 classes.\n",
      "Found 1000 images belonging to 2 classes.\n"
     ]
    }
   ],
   "source": [
    "train_generator = train_datagen.flow_from_directory(\n",
    "    train_dir,\n",
    "    target_size=(150, 150),\n",
    "    batch_size=20,\n",
    "    class_mode='binary',\n",
    ")\n",
    "\n",
    "validation_generator = test_datagen.flow_from_directory(\n",
    "    validation_dir,\n",
    "    target_size=(150, 150),\n",
    "    batch_size=20,\n",
    "    class_mode='binary',\n",
    ")"
   ]
  },
  {
   "cell_type": "code",
   "execution_count": 33,
   "id": "20183836-a908-46a1-9d1a-a404ea0ae6f5",
   "metadata": {},
   "outputs": [
    {
     "name": "stdout",
     "output_type": "stream",
     "text": [
      "Epoch 1/100\n",
      "100/100 [==============================] - 13s 126ms/step - loss: 0.5557 - acc: 0.7390 - val_loss: 0.4991 - val_acc: 0.7860\n",
      "Epoch 2/100\n",
      "100/100 [==============================] - 13s 130ms/step - loss: 0.5271 - acc: 0.7465 - val_loss: 0.4767 - val_acc: 0.7790\n",
      "Epoch 3/100\n",
      "100/100 [==============================] - 13s 131ms/step - loss: 0.5360 - acc: 0.7390 - val_loss: 0.4533 - val_acc: 0.8110\n",
      "Epoch 4/100\n",
      "100/100 [==============================] - 13s 133ms/step - loss: 0.5305 - acc: 0.7430 - val_loss: 0.4502 - val_acc: 0.7900\n",
      "Epoch 5/100\n",
      "100/100 [==============================] - 13s 130ms/step - loss: 0.5219 - acc: 0.7460 - val_loss: 0.4418 - val_acc: 0.8100\n",
      "Epoch 6/100\n",
      "100/100 [==============================] - 13s 130ms/step - loss: 0.5214 - acc: 0.7570 - val_loss: 0.4680 - val_acc: 0.7840\n",
      "Epoch 7/100\n",
      "100/100 [==============================] - 13s 130ms/step - loss: 0.5161 - acc: 0.7560 - val_loss: 0.4459 - val_acc: 0.8150\n",
      "Epoch 8/100\n",
      "100/100 [==============================] - 13s 134ms/step - loss: 0.5057 - acc: 0.7555 - val_loss: 0.5156 - val_acc: 0.7690\n",
      "Epoch 9/100\n",
      "100/100 [==============================] - 13s 131ms/step - loss: 0.5252 - acc: 0.7585 - val_loss: 0.5341 - val_acc: 0.7620\n",
      "Epoch 10/100\n",
      "100/100 [==============================] - 13s 134ms/step - loss: 0.5249 - acc: 0.7580 - val_loss: 0.4990 - val_acc: 0.7450\n",
      "Epoch 11/100\n",
      "100/100 [==============================] - 14s 135ms/step - loss: 0.5166 - acc: 0.7500 - val_loss: 0.5234 - val_acc: 0.7490\n",
      "Epoch 12/100\n",
      "100/100 [==============================] - 14s 139ms/step - loss: 0.5130 - acc: 0.7565 - val_loss: 0.4765 - val_acc: 0.7730\n",
      "Epoch 13/100\n",
      "100/100 [==============================] - 15s 150ms/step - loss: 0.5024 - acc: 0.7720 - val_loss: 0.4808 - val_acc: 0.7710\n",
      "Epoch 14/100\n",
      "100/100 [==============================] - 14s 135ms/step - loss: 0.5203 - acc: 0.7595 - val_loss: 0.4459 - val_acc: 0.7990\n",
      "Epoch 15/100\n",
      "100/100 [==============================] - 13s 132ms/step - loss: 0.5250 - acc: 0.7690 - val_loss: 0.4353 - val_acc: 0.8170\n",
      "Epoch 16/100\n",
      "100/100 [==============================] - 14s 137ms/step - loss: 0.4989 - acc: 0.7640 - val_loss: 0.4665 - val_acc: 0.7910\n",
      "Epoch 17/100\n",
      "100/100 [==============================] - 13s 132ms/step - loss: 0.4892 - acc: 0.7645 - val_loss: 0.4511 - val_acc: 0.7880\n",
      "Epoch 18/100\n",
      "100/100 [==============================] - 13s 133ms/step - loss: 0.5054 - acc: 0.7690 - val_loss: 0.4417 - val_acc: 0.8040\n",
      "Epoch 19/100\n",
      "100/100 [==============================] - 14s 142ms/step - loss: 0.4935 - acc: 0.7810 - val_loss: 0.4641 - val_acc: 0.7750\n",
      "Epoch 20/100\n",
      "100/100 [==============================] - 16s 159ms/step - loss: 0.4862 - acc: 0.7705 - val_loss: 0.7571 - val_acc: 0.7490\n",
      "Epoch 21/100\n",
      "100/100 [==============================] - 13s 131ms/step - loss: 0.5093 - acc: 0.7760 - val_loss: 0.4296 - val_acc: 0.8010\n",
      "Epoch 22/100\n",
      "100/100 [==============================] - 14s 135ms/step - loss: 0.4827 - acc: 0.7830 - val_loss: 0.4436 - val_acc: 0.8170\n",
      "Epoch 23/100\n",
      "100/100 [==============================] - 13s 131ms/step - loss: 0.4815 - acc: 0.7710 - val_loss: 0.5575 - val_acc: 0.7830\n",
      "Epoch 24/100\n",
      "100/100 [==============================] - 13s 133ms/step - loss: 0.4968 - acc: 0.7710 - val_loss: 0.5530 - val_acc: 0.7240\n",
      "Epoch 25/100\n",
      "100/100 [==============================] - 14s 135ms/step - loss: 0.4847 - acc: 0.7850 - val_loss: 0.4522 - val_acc: 0.8050\n",
      "Epoch 26/100\n",
      "100/100 [==============================] - 13s 130ms/step - loss: 0.4839 - acc: 0.7795 - val_loss: 0.4689 - val_acc: 0.8010\n",
      "Epoch 27/100\n",
      "100/100 [==============================] - 13s 125ms/step - loss: 0.4900 - acc: 0.7700 - val_loss: 0.4365 - val_acc: 0.7980\n",
      "Epoch 28/100\n",
      "100/100 [==============================] - 13s 126ms/step - loss: 0.4706 - acc: 0.7915 - val_loss: 0.4561 - val_acc: 0.7870\n",
      "Epoch 29/100\n",
      "100/100 [==============================] - 13s 125ms/step - loss: 0.4765 - acc: 0.7925 - val_loss: 0.5208 - val_acc: 0.7350\n",
      "Epoch 30/100\n",
      "100/100 [==============================] - 13s 125ms/step - loss: 0.4773 - acc: 0.7775 - val_loss: 0.4544 - val_acc: 0.8020\n",
      "Epoch 31/100\n",
      "100/100 [==============================] - 13s 125ms/step - loss: 0.5006 - acc: 0.7585 - val_loss: 0.4854 - val_acc: 0.8020\n",
      "Epoch 32/100\n",
      "100/100 [==============================] - 13s 125ms/step - loss: 0.4801 - acc: 0.7820 - val_loss: 0.4394 - val_acc: 0.8100\n",
      "Epoch 33/100\n",
      "100/100 [==============================] - 13s 125ms/step - loss: 0.4840 - acc: 0.7815 - val_loss: 0.4910 - val_acc: 0.7850\n",
      "Epoch 34/100\n",
      "100/100 [==============================] - 13s 126ms/step - loss: 0.4843 - acc: 0.7700 - val_loss: 0.4873 - val_acc: 0.7670\n",
      "Epoch 35/100\n",
      "100/100 [==============================] - 13s 125ms/step - loss: 0.4830 - acc: 0.7750 - val_loss: 0.3981 - val_acc: 0.8260\n",
      "Epoch 36/100\n",
      "100/100 [==============================] - 13s 125ms/step - loss: 0.4576 - acc: 0.7965 - val_loss: 0.4393 - val_acc: 0.8220\n",
      "Epoch 37/100\n",
      "100/100 [==============================] - 13s 125ms/step - loss: 0.4737 - acc: 0.7725 - val_loss: 0.4587 - val_acc: 0.7920\n",
      "Epoch 38/100\n",
      "100/100 [==============================] - 13s 126ms/step - loss: 0.4739 - acc: 0.7855 - val_loss: 0.4741 - val_acc: 0.8090\n",
      "Epoch 39/100\n",
      "100/100 [==============================] - 13s 126ms/step - loss: 0.4666 - acc: 0.7945 - val_loss: 0.4312 - val_acc: 0.8200\n",
      "Epoch 40/100\n",
      "100/100 [==============================] - 13s 127ms/step - loss: 0.4835 - acc: 0.7780 - val_loss: 0.4724 - val_acc: 0.7900\n",
      "Epoch 41/100\n",
      "100/100 [==============================] - 13s 127ms/step - loss: 0.4870 - acc: 0.7850 - val_loss: 0.4566 - val_acc: 0.8030\n",
      "Epoch 42/100\n",
      "100/100 [==============================] - 13s 126ms/step - loss: 0.4589 - acc: 0.8125 - val_loss: 0.4339 - val_acc: 0.8150\n",
      "Epoch 43/100\n",
      "100/100 [==============================] - 13s 125ms/step - loss: 0.4603 - acc: 0.8070 - val_loss: 0.4227 - val_acc: 0.8230\n",
      "Epoch 44/100\n",
      "100/100 [==============================] - 13s 125ms/step - loss: 0.4575 - acc: 0.7920 - val_loss: 0.4203 - val_acc: 0.8160\n",
      "Epoch 45/100\n",
      "100/100 [==============================] - 13s 125ms/step - loss: 0.4707 - acc: 0.7930 - val_loss: 0.4905 - val_acc: 0.7710\n",
      "Epoch 46/100\n",
      "100/100 [==============================] - 13s 126ms/step - loss: 0.4638 - acc: 0.7835 - val_loss: 0.4487 - val_acc: 0.7810\n",
      "Epoch 47/100\n",
      "100/100 [==============================] - 13s 126ms/step - loss: 0.4762 - acc: 0.7945 - val_loss: 0.4555 - val_acc: 0.8010\n",
      "Epoch 48/100\n",
      "100/100 [==============================] - 13s 125ms/step - loss: 0.4480 - acc: 0.7995 - val_loss: 0.4159 - val_acc: 0.8230\n",
      "Epoch 49/100\n",
      "100/100 [==============================] - 13s 125ms/step - loss: 0.4770 - acc: 0.7820 - val_loss: 0.4193 - val_acc: 0.8180\n",
      "Epoch 50/100\n",
      "100/100 [==============================] - 13s 127ms/step - loss: 0.4686 - acc: 0.8120 - val_loss: 0.4505 - val_acc: 0.8070\n",
      "Epoch 51/100\n",
      "100/100 [==============================] - 13s 126ms/step - loss: 0.4712 - acc: 0.7880 - val_loss: 0.4547 - val_acc: 0.7890\n",
      "Epoch 52/100\n",
      "100/100 [==============================] - 13s 127ms/step - loss: 0.4717 - acc: 0.7920 - val_loss: 0.4650 - val_acc: 0.7970\n",
      "Epoch 53/100\n",
      "100/100 [==============================] - 13s 126ms/step - loss: 0.4616 - acc: 0.8030 - val_loss: 0.3969 - val_acc: 0.8340\n",
      "Epoch 54/100\n",
      "100/100 [==============================] - 13s 126ms/step - loss: 0.4481 - acc: 0.7975 - val_loss: 0.5726 - val_acc: 0.7790\n",
      "Epoch 55/100\n",
      "100/100 [==============================] - 13s 126ms/step - loss: 0.4942 - acc: 0.7875 - val_loss: 0.4439 - val_acc: 0.8270\n",
      "Epoch 56/100\n",
      "100/100 [==============================] - 13s 125ms/step - loss: 0.4573 - acc: 0.7985 - val_loss: 0.4987 - val_acc: 0.8120\n",
      "Epoch 57/100\n",
      "100/100 [==============================] - 13s 126ms/step - loss: 0.4309 - acc: 0.8085 - val_loss: 0.4354 - val_acc: 0.7990\n",
      "Epoch 58/100\n",
      "100/100 [==============================] - 13s 126ms/step - loss: 0.4757 - acc: 0.7955 - val_loss: 0.5171 - val_acc: 0.7860\n",
      "Epoch 59/100\n",
      "100/100 [==============================] - 13s 126ms/step - loss: 0.4429 - acc: 0.8150 - val_loss: 0.4701 - val_acc: 0.7740\n",
      "Epoch 60/100\n",
      "100/100 [==============================] - 13s 125ms/step - loss: 0.4474 - acc: 0.8085 - val_loss: 0.4413 - val_acc: 0.8130\n",
      "Epoch 61/100\n",
      "100/100 [==============================] - 13s 125ms/step - loss: 0.4543 - acc: 0.7900 - val_loss: 0.5860 - val_acc: 0.7770\n",
      "Epoch 62/100\n",
      "100/100 [==============================] - 13s 125ms/step - loss: 0.4679 - acc: 0.7925 - val_loss: 0.3837 - val_acc: 0.8340\n",
      "Epoch 63/100\n",
      "100/100 [==============================] - 13s 126ms/step - loss: 0.4255 - acc: 0.8110 - val_loss: 0.4298 - val_acc: 0.8110\n",
      "Epoch 64/100\n",
      "100/100 [==============================] - 13s 126ms/step - loss: 0.4403 - acc: 0.8065 - val_loss: 0.3949 - val_acc: 0.8370\n",
      "Epoch 65/100\n",
      "100/100 [==============================] - 13s 126ms/step - loss: 0.4372 - acc: 0.8090 - val_loss: 0.4118 - val_acc: 0.8310\n",
      "Epoch 66/100\n",
      "100/100 [==============================] - 13s 126ms/step - loss: 0.4470 - acc: 0.8025 - val_loss: 0.4666 - val_acc: 0.8270\n",
      "Epoch 67/100\n",
      "100/100 [==============================] - 13s 126ms/step - loss: 0.5037 - acc: 0.7930 - val_loss: 0.4013 - val_acc: 0.8220\n",
      "Epoch 68/100\n",
      "100/100 [==============================] - 13s 126ms/step - loss: 0.4327 - acc: 0.8030 - val_loss: 0.4824 - val_acc: 0.8070\n",
      "Epoch 69/100\n",
      "100/100 [==============================] - 13s 126ms/step - loss: 0.4606 - acc: 0.7965 - val_loss: 0.4970 - val_acc: 0.8020\n",
      "Epoch 70/100\n",
      "100/100 [==============================] - 13s 127ms/step - loss: 0.4656 - acc: 0.7975 - val_loss: 0.4289 - val_acc: 0.8260\n",
      "Epoch 71/100\n",
      "100/100 [==============================] - 13s 127ms/step - loss: 0.4654 - acc: 0.8005 - val_loss: 0.4143 - val_acc: 0.8230\n",
      "Epoch 72/100\n",
      "100/100 [==============================] - 13s 126ms/step - loss: 0.4529 - acc: 0.7975 - val_loss: 0.4086 - val_acc: 0.8240\n",
      "Epoch 73/100\n",
      "100/100 [==============================] - 13s 126ms/step - loss: 0.4326 - acc: 0.8115 - val_loss: 0.4779 - val_acc: 0.7580\n",
      "Epoch 74/100\n",
      "100/100 [==============================] - 13s 126ms/step - loss: 0.4802 - acc: 0.7875 - val_loss: 0.4246 - val_acc: 0.8180\n",
      "Epoch 75/100\n",
      "100/100 [==============================] - 13s 127ms/step - loss: 0.4494 - acc: 0.8105 - val_loss: 0.5086 - val_acc: 0.7540\n",
      "Epoch 76/100\n",
      "100/100 [==============================] - 13s 128ms/step - loss: 0.4380 - acc: 0.8015 - val_loss: 0.4020 - val_acc: 0.8430\n",
      "Epoch 77/100\n",
      "100/100 [==============================] - 13s 125ms/step - loss: 0.4551 - acc: 0.8005 - val_loss: 0.4141 - val_acc: 0.8280\n",
      "Epoch 78/100\n",
      "100/100 [==============================] - 13s 126ms/step - loss: 0.4723 - acc: 0.7825 - val_loss: 0.4532 - val_acc: 0.7970\n",
      "Epoch 79/100\n",
      "100/100 [==============================] - 13s 126ms/step - loss: 0.4265 - acc: 0.8265 - val_loss: 0.5022 - val_acc: 0.7750\n",
      "Epoch 80/100\n",
      "100/100 [==============================] - 13s 127ms/step - loss: 0.4193 - acc: 0.8065 - val_loss: 0.3840 - val_acc: 0.8370\n",
      "Epoch 81/100\n",
      "100/100 [==============================] - 13s 126ms/step - loss: 0.4936 - acc: 0.8145 - val_loss: 0.6716 - val_acc: 0.8040\n",
      "Epoch 82/100\n",
      "100/100 [==============================] - 13s 126ms/step - loss: 0.4557 - acc: 0.8070 - val_loss: 0.4634 - val_acc: 0.8310\n",
      "Epoch 83/100\n",
      "100/100 [==============================] - 13s 125ms/step - loss: 0.4610 - acc: 0.8040 - val_loss: 0.4628 - val_acc: 0.8000\n",
      "Epoch 84/100\n",
      "100/100 [==============================] - 13s 126ms/step - loss: 0.4317 - acc: 0.8210 - val_loss: 0.4123 - val_acc: 0.8160\n",
      "Epoch 85/100\n",
      "100/100 [==============================] - 13s 125ms/step - loss: 0.4487 - acc: 0.8080 - val_loss: 0.4297 - val_acc: 0.8170\n",
      "Epoch 86/100\n",
      "100/100 [==============================] - 13s 126ms/step - loss: 0.4376 - acc: 0.8130 - val_loss: 0.4393 - val_acc: 0.8140\n",
      "Epoch 87/100\n",
      "100/100 [==============================] - 13s 127ms/step - loss: 0.4166 - acc: 0.8135 - val_loss: 0.4281 - val_acc: 0.8180\n",
      "Epoch 88/100\n",
      "100/100 [==============================] - 13s 126ms/step - loss: 0.4797 - acc: 0.8000 - val_loss: 0.4398 - val_acc: 0.7980\n",
      "Epoch 89/100\n",
      "100/100 [==============================] - 13s 127ms/step - loss: 0.4387 - acc: 0.7975 - val_loss: 0.4567 - val_acc: 0.7950\n",
      "Epoch 90/100\n",
      "100/100 [==============================] - 13s 126ms/step - loss: 0.4748 - acc: 0.7995 - val_loss: 0.5596 - val_acc: 0.7860\n",
      "Epoch 91/100\n",
      "100/100 [==============================] - 13s 126ms/step - loss: 0.4706 - acc: 0.7935 - val_loss: 0.4600 - val_acc: 0.7740\n",
      "Epoch 92/100\n",
      "100/100 [==============================] - 13s 126ms/step - loss: 0.4550 - acc: 0.8010 - val_loss: 0.4411 - val_acc: 0.8240\n",
      "Epoch 93/100\n",
      "100/100 [==============================] - 13s 126ms/step - loss: 0.4764 - acc: 0.8090 - val_loss: 0.4285 - val_acc: 0.8200\n",
      "Epoch 94/100\n",
      "100/100 [==============================] - 13s 125ms/step - loss: 0.4457 - acc: 0.8015 - val_loss: 0.4967 - val_acc: 0.8290\n",
      "Epoch 95/100\n",
      "100/100 [==============================] - 13s 126ms/step - loss: 0.4396 - acc: 0.8065 - val_loss: 0.4421 - val_acc: 0.7890\n",
      "Epoch 96/100\n",
      "100/100 [==============================] - 13s 126ms/step - loss: 0.4636 - acc: 0.8040 - val_loss: 0.3811 - val_acc: 0.8300\n",
      "Epoch 97/100\n",
      "100/100 [==============================] - 13s 125ms/step - loss: 0.4662 - acc: 0.8020 - val_loss: 1.5098 - val_acc: 0.6900\n",
      "Epoch 98/100\n",
      "100/100 [==============================] - 13s 126ms/step - loss: 0.4438 - acc: 0.8075 - val_loss: 0.4430 - val_acc: 0.8150\n",
      "Epoch 99/100\n",
      "100/100 [==============================] - 13s 126ms/step - loss: 0.4398 - acc: 0.8035 - val_loss: 0.4330 - val_acc: 0.8060\n",
      "Epoch 100/100\n",
      "100/100 [==============================] - 13s 127ms/step - loss: 0.4447 - acc: 0.7990 - val_loss: 0.4282 - val_acc: 0.8200\n"
     ]
    }
   ],
   "source": [
    "# train using data augmentation\n",
    "history = model.fit(\n",
    "    train_generator,\n",
    "    steps_per_epoch=100,\n",
    "    epochs=100,\n",
    "    validation_data=validation_generator,\n",
    "    validation_steps=50,\n",
    ")"
   ]
  },
  {
   "cell_type": "code",
   "execution_count": 34,
   "id": "0b2a8637-f020-4d3e-968a-197c9ab376e0",
   "metadata": {},
   "outputs": [
    {
     "name": "stderr",
     "output_type": "stream",
     "text": [
      "/Users/jcolamendy/python/ml-tutorials/venv/lib/python3.9/site-packages/keras/src/engine/training.py:3000: UserWarning: You are saving your model as an HDF5 file via `model.save()`. This file format is considered legacy. We recommend using instead the native Keras format, e.g. `model.save('my_model.keras')`.\n",
      "  saving_api.save_model(\n"
     ]
    }
   ],
   "source": [
    "model.save('trained_models/cats_and_dogs_small_2.h5')"
   ]
  },
  {
   "cell_type": "code",
   "execution_count": 35,
   "id": "4190b1b0-8187-4cd7-b61d-67638107ae38",
   "metadata": {},
   "outputs": [
    {
     "data": {
      "image/png": "[encoded data removed]",
      "text/plain": [
       "<Figure size 640x480 with 1 Axes>"
      ]
     },
     "metadata": {},
     "output_type": "display_data"
    },
    {
     "data": {
      "image/png": "[encoded data removed]",
      "text/plain": [
       "<Figure size 640x480 with 1 Axes>"
      ]
     },
     "metadata": {},
     "output_type": "display_data"
    }
   ],
   "source": [
    "acc = history.history['acc']\n",
    "val_acc = history.history['val_acc']\n",
    "\n",
    "loss = history.history['loss']\n",
    "val_loss = history.history['val_loss']\n",
    "\n",
    "epochs = range(1, len(acc) + 1)\n",
    "\n",
    "plt.plot(epochs, acc, 'bo', label='Training acc')\n",
    "plt.plot(epochs, val_acc, 'b', label='Validation acc')\n",
    "plt.title('Training and validation accuracy')\n",
    "plt.legend()\n",
    "plt.figure()\n",
    "\n",
    "plt.plot(epochs, loss, 'bo', label='Training loss')\n",
    "plt.plot(epochs, val_loss, 'b', label='Validation loss')\n",
    "plt.title('Training and validation loss')\n",
    "plt.legend()\n",
    "\n",
    "plt.show()"
   ]
  },
  {
   "cell_type": "code",
   "execution_count": null,
   "id": "8c9cb19b-a299-4766-8a58-e8060065162d",
   "metadata": {},
   "outputs": [],
   "source": [
    "# Using a pretrained convnet - feature extraction\n",
    "# Feature extraction consists of taking the convolutional base of a previously trained network\n",
    "# running the new data through it, and training a new classifier on top of the output\n",
    "# Use the convolutional base of the VGG16 network, trained on ImageNet, to extract interesting features from cat and dog images, \n",
    "# and then train a dogs-versus-cats classifier on top of these features"
   ]
  },
  {
   "cell_type": "code",
   "execution_count": 36,
   "id": "7e788cd0-dc6f-46c0-8336-ec80b140df24",
   "metadata": {},
   "outputs": [
    {
     "name": "stdout",
     "output_type": "stream",
     "text": [
      "Downloading data from https://storage.googleapis.com/tensorflow/keras-applications/vgg16/vgg16_weights_tf_dim_ordering_tf_kernels_notop.h5\n",
      "58889256/58889256 [==============================] - 2s 0us/step\n"
     ]
    }
   ],
   "source": [
    "# Instantiating the VGG16 convolutional base\n",
    "from keras.applications import VGG16\n",
    "conv_base = VGG16(weights='imagenet', # specifies the weight checkpoint from which to initialize the model\n",
    "              include_top=False, # refers to including (or not) the densely connected classifier on top of the network\n",
    "              input_shape=(150, 150, 3), # shape of the image tensors that you’ll feed to the network\n",
    ")"
   ]
  },
  {
   "cell_type": "code",
   "execution_count": 37,
   "id": "c1595e84-d388-45b7-982b-8264a149bea3",
   "metadata": {},
   "outputs": [
    {
     "name": "stdout",
     "output_type": "stream",
     "text": [
      "Model: \"vgg16\"\n",
      "_________________________________________________________________\n",
      " Layer (type)                Output Shape              Param #   \n",
      "=================================================================\n",
      " input_1 (InputLayer)        [(None, 150, 150, 3)]     0         \n",
      "                                                                 \n",
      " block1_conv1 (Conv2D)       (None, 150, 150, 64)      1792      \n",
      "                                                                 \n",
      " block1_conv2 (Conv2D)       (None, 150, 150, 64)      36928     \n",
      "                                                                 \n",
      " block1_pool (MaxPooling2D)  (None, 75, 75, 64)        0         \n",
      "                                                                 \n",
      " block2_conv1 (Conv2D)       (None, 75, 75, 128)       73856     \n",
      "                                                                 \n",
      " block2_conv2 (Conv2D)       (None, 75, 75, 128)       147584    \n",
      "                                                                 \n",
      " block2_pool (MaxPooling2D)  (None, 37, 37, 128)       0         \n",
      "                                                                 \n",
      " block3_conv1 (Conv2D)       (None, 37, 37, 256)       295168    \n",
      "                                                                 \n",
      " block3_conv2 (Conv2D)       (None, 37, 37, 256)       590080    \n",
      "                                                                 \n",
      " block3_conv3 (Conv2D)       (None, 37, 37, 256)       590080    \n",
      "                                                                 \n",
      " block3_pool (MaxPooling2D)  (None, 18, 18, 256)       0         \n",
      "                                                                 \n",
      " block4_conv1 (Conv2D)       (None, 18, 18, 512)       1180160   \n",
      "                                                                 \n",
      " block4_conv2 (Conv2D)       (None, 18, 18, 512)       2359808   \n",
      "                                                                 \n",
      " block4_conv3 (Conv2D)       (None, 18, 18, 512)       2359808   \n",
      "                                                                 \n",
      " block4_pool (MaxPooling2D)  (None, 9, 9, 512)         0         \n",
      "                                                                 \n",
      " block5_conv1 (Conv2D)       (None, 9, 9, 512)         2359808   \n",
      "                                                                 \n",
      " block5_conv2 (Conv2D)       (None, 9, 9, 512)         2359808   \n",
      "                                                                 \n",
      " block5_conv3 (Conv2D)       (None, 9, 9, 512)         2359808   \n",
      "                                                                 \n",
      " block5_pool (MaxPooling2D)  (None, 4, 4, 512)         0         \n",
      "                                                                 \n",
      "=================================================================\n",
      "Total params: 14714688 (56.13 MB)\n",
      "Trainable params: 14714688 (56.13 MB)\n",
      "Non-trainable params: 0 (0.00 Byte)\n",
      "_________________________________________________________________\n"
     ]
    }
   ],
   "source": [
    "conv_base.summary()\n",
    "# The final feature map has shape (4, 4, 512)"
   ]
  },
  {
   "cell_type": "code",
   "execution_count": null,
   "id": "28437bfe-e82c-4851-9329-d75574521d7a",
   "metadata": {},
   "outputs": [],
   "source": [
    "# pretrained convnet - feature extraction without data augmentation"
   ]
  },
  {
   "cell_type": "code",
   "execution_count": 40,
   "id": "eff8f782-87ad-4f3a-a762-e7f2263e5cd2",
   "metadata": {},
   "outputs": [],
   "source": [
    "# imports\n",
    "import numpy as np\n",
    "\n",
    "datagen = ImageDataGenerator(rescale=1./255)\n",
    "batch_size = 20\n",
    "\n",
    "def extract_features(directory, sample_count):\n",
    "    # init\n",
    "    features = np.zeros(shape=(sample_count, 4, 4, 512))\n",
    "    labels = np.zeros(shape=(sample_count))\n",
    "    generator = datagen.flow_from_directory(directory, target_size=(150, 150), batch_size=batch_size, class_mode='binary')\n",
    "    i=0\n",
    "    # logic\n",
    "    for inputs_batch, labels_batch in generator:\n",
    "        features_batch = conv_base.predict(inputs_batch)\n",
    "        features[i * batch_size : (i + 1) * batch_size] = features_batch\n",
    "        labels[i * batch_size : (i + 1) * batch_size] = labels_batch\n",
    "        i += 1\n",
    "        if i * batch_size >= sample_count:\n",
    "            break\n",
    "    # result\n",
    "    return features, labels"
   ]
  },
  {
   "cell_type": "code",
   "execution_count": 41,
   "id": "b26d1c9e-c708-4a3c-9a1e-6403e9606ec4",
   "metadata": {},
   "outputs": [
    {
     "name": "stdout",
     "output_type": "stream",
     "text": [
      "Found 2000 images belonging to 2 classes.\n",
      "1/1 [==============================] - 1s 612ms/step\n",
      "1/1 [==============================] - 1s 534ms/step\n",
      "1/1 [==============================] - 1s 502ms/step\n",
      "1/1 [==============================] - 1s 506ms/step\n",
      "1/1 [==============================] - 0s 495ms/step\n",
      "1/1 [==============================] - 0s 497ms/step\n",
      "1/1 [==============================] - 1s 500ms/step\n",
      "1/1 [==============================] - 0s 495ms/step\n",
      "1/1 [==============================] - 0s 495ms/step\n",
      "1/1 [==============================] - 1s 505ms/step\n",
      "1/1 [==============================] - 0s 492ms/step\n",
      "1/1 [==============================] - 0s 495ms/step\n",
      "1/1 [==============================] - 0s 492ms/step\n",
      "1/1 [==============================] - 0s 494ms/step\n",
      "1/1 [==============================] - 0s 493ms/step\n",
      "1/1 [==============================] - 0s 493ms/step\n",
      "1/1 [==============================] - 0s 497ms/step\n",
      "1/1 [==============================] - 0s 491ms/step\n",
      "1/1 [==============================] - 1s 527ms/step\n",
      "1/1 [==============================] - 1s 504ms/step\n",
      "1/1 [==============================] - 0s 495ms/step\n",
      "1/1 [==============================] - 0s 499ms/step\n",
      "1/1 [==============================] - 0s 493ms/step\n",
      "1/1 [==============================] - 0s 499ms/step\n",
      "1/1 [==============================] - 0s 495ms/step\n",
      "1/1 [==============================] - 0s 493ms/step\n",
      "1/1 [==============================] - 0s 493ms/step\n",
      "1/1 [==============================] - 0s 494ms/step\n",
      "1/1 [==============================] - 0s 495ms/step\n",
      "1/1 [==============================] - 0s 494ms/step\n",
      "1/1 [==============================] - 0s 492ms/step\n",
      "1/1 [==============================] - 0s 490ms/step\n",
      "1/1 [==============================] - 0s 494ms/step\n",
      "1/1 [==============================] - 0s 491ms/step\n",
      "1/1 [==============================] - 0s 496ms/step\n",
      "1/1 [==============================] - 0s 494ms/step\n",
      "1/1 [==============================] - 0s 496ms/step\n",
      "1/1 [==============================] - 1s 502ms/step\n",
      "1/1 [==============================] - 0s 499ms/step\n",
      "1/1 [==============================] - 0s 498ms/step\n",
      "1/1 [==============================] - 0s 493ms/step\n",
      "1/1 [==============================] - 0s 498ms/step\n",
      "1/1 [==============================] - 0s 496ms/step\n",
      "1/1 [==============================] - 0s 494ms/step\n",
      "1/1 [==============================] - 0s 494ms/step\n",
      "1/1 [==============================] - 0s 494ms/step\n",
      "1/1 [==============================] - 0s 495ms/step\n",
      "1/1 [==============================] - 1s 504ms/step\n",
      "1/1 [==============================] - 1s 501ms/step\n",
      "1/1 [==============================] - 1s 501ms/step\n",
      "1/1 [==============================] - 0s 494ms/step\n",
      "1/1 [==============================] - 0s 494ms/step\n",
      "1/1 [==============================] - 0s 491ms/step\n",
      "1/1 [==============================] - 0s 491ms/step\n",
      "1/1 [==============================] - 0s 495ms/step\n",
      "1/1 [==============================] - 0s 496ms/step\n",
      "1/1 [==============================] - 1s 503ms/step\n",
      "1/1 [==============================] - 1s 532ms/step\n",
      "1/1 [==============================] - 0s 496ms/step\n",
      "1/1 [==============================] - 0s 494ms/step\n",
      "1/1 [==============================] - 1s 529ms/step\n",
      "1/1 [==============================] - 1s 526ms/step\n",
      "1/1 [==============================] - 1s 516ms/step\n",
      "1/1 [==============================] - 1s 536ms/step\n",
      "1/1 [==============================] - 1s 530ms/step\n",
      "1/1 [==============================] - 1s 504ms/step\n",
      "1/1 [==============================] - 0s 497ms/step\n",
      "1/1 [==============================] - 1s 503ms/step\n",
      "1/1 [==============================] - 1s 526ms/step\n",
      "1/1 [==============================] - 1s 531ms/step\n",
      "1/1 [==============================] - 0s 499ms/step\n",
      "1/1 [==============================] - 1s 513ms/step\n",
      "1/1 [==============================] - 1s 508ms/step\n",
      "1/1 [==============================] - 1s 523ms/step\n",
      "1/1 [==============================] - 1s 514ms/step\n",
      "1/1 [==============================] - 1s 512ms/step\n",
      "1/1 [==============================] - 1s 515ms/step\n",
      "1/1 [==============================] - 1s 532ms/step\n",
      "1/1 [==============================] - 1s 516ms/step\n",
      "1/1 [==============================] - 1s 530ms/step\n",
      "1/1 [==============================] - 1s 506ms/step\n",
      "1/1 [==============================] - 1s 527ms/step\n",
      "1/1 [==============================] - 1s 508ms/step\n",
      "1/1 [==============================] - 1s 503ms/step\n",
      "1/1 [==============================] - 1s 541ms/step\n",
      "1/1 [==============================] - 1s 500ms/step\n",
      "1/1 [==============================] - 0s 492ms/step\n",
      "1/1 [==============================] - 0s 493ms/step\n",
      "1/1 [==============================] - 0s 493ms/step\n",
      "1/1 [==============================] - 0s 495ms/step\n",
      "1/1 [==============================] - 0s 493ms/step\n",
      "1/1 [==============================] - 0s 497ms/step\n",
      "1/1 [==============================] - 0s 499ms/step\n",
      "1/1 [==============================] - 0s 495ms/step\n",
      "1/1 [==============================] - 0s 494ms/step\n",
      "1/1 [==============================] - 0s 494ms/step\n",
      "1/1 [==============================] - 0s 498ms/step\n",
      "1/1 [==============================] - 0s 497ms/step\n",
      "1/1 [==============================] - 0s 494ms/step\n",
      "1/1 [==============================] - 0s 496ms/step\n",
      "Found 1000 images belonging to 2 classes.\n",
      "1/1 [==============================] - 1s 509ms/step\n",
      "1/1 [==============================] - 0s 494ms/step\n",
      "1/1 [==============================] - 0s 494ms/step\n",
      "1/1 [==============================] - 0s 497ms/step\n",
      "1/1 [==============================] - 0s 492ms/step\n",
      "1/1 [==============================] - 0s 492ms/step\n",
      "1/1 [==============================] - 0s 496ms/step\n",
      "1/1 [==============================] - 0s 495ms/step\n",
      "1/1 [==============================] - 0s 496ms/step\n",
      "1/1 [==============================] - 0s 495ms/step\n",
      "1/1 [==============================] - 0s 498ms/step\n",
      "1/1 [==============================] - 0s 493ms/step\n",
      "1/1 [==============================] - 0s 498ms/step\n",
      "1/1 [==============================] - 0s 494ms/step\n",
      "1/1 [==============================] - 0s 495ms/step\n",
      "1/1 [==============================] - 0s 493ms/step\n",
      "1/1 [==============================] - 0s 494ms/step\n",
      "1/1 [==============================] - 0s 498ms/step\n",
      "1/1 [==============================] - 0s 499ms/step\n",
      "1/1 [==============================] - 0s 494ms/step\n",
      "1/1 [==============================] - 1s 503ms/step\n",
      "1/1 [==============================] - 0s 496ms/step\n",
      "1/1 [==============================] - 0s 497ms/step\n",
      "1/1 [==============================] - 0s 494ms/step\n",
      "1/1 [==============================] - 0s 492ms/step\n",
      "1/1 [==============================] - 0s 494ms/step\n",
      "1/1 [==============================] - 0s 492ms/step\n",
      "1/1 [==============================] - 0s 494ms/step\n",
      "1/1 [==============================] - 0s 493ms/step\n",
      "1/1 [==============================] - 0s 495ms/step\n",
      "1/1 [==============================] - 0s 494ms/step\n",
      "1/1 [==============================] - 1s 549ms/step\n",
      "1/1 [==============================] - 0s 495ms/step\n",
      "1/1 [==============================] - 0s 495ms/step\n",
      "1/1 [==============================] - 1s 501ms/step\n",
      "1/1 [==============================] - 0s 495ms/step\n",
      "1/1 [==============================] - 0s 500ms/step\n",
      "1/1 [==============================] - 1s 523ms/step\n",
      "1/1 [==============================] - 1s 555ms/step\n",
      "1/1 [==============================] - 1s 531ms/step\n",
      "1/1 [==============================] - 0s 496ms/step\n",
      "1/1 [==============================] - 0s 497ms/step\n",
      "1/1 [==============================] - 0s 493ms/step\n",
      "1/1 [==============================] - 0s 499ms/step\n",
      "1/1 [==============================] - 0s 496ms/step\n",
      "1/1 [==============================] - 1s 511ms/step\n",
      "1/1 [==============================] - 0s 499ms/step\n",
      "1/1 [==============================] - 1s 543ms/step\n",
      "1/1 [==============================] - 1s 512ms/step\n",
      "1/1 [==============================] - 1s 500ms/step\n",
      "Found 1000 images belonging to 2 classes.\n",
      "1/1 [==============================] - 1s 502ms/step\n",
      "1/1 [==============================] - 0s 498ms/step\n",
      "1/1 [==============================] - 1s 500ms/step\n",
      "1/1 [==============================] - 0s 499ms/step\n",
      "1/1 [==============================] - 0s 500ms/step\n",
      "1/1 [==============================] - 0s 493ms/step\n",
      "1/1 [==============================] - 0s 494ms/step\n",
      "1/1 [==============================] - 0s 500ms/step\n",
      "1/1 [==============================] - 0s 497ms/step\n",
      "1/1 [==============================] - 0s 498ms/step\n",
      "1/1 [==============================] - 0s 497ms/step\n",
      "1/1 [==============================] - 0s 493ms/step\n",
      "1/1 [==============================] - 0s 493ms/step\n",
      "1/1 [==============================] - 0s 496ms/step\n",
      "1/1 [==============================] - 0s 496ms/step\n",
      "1/1 [==============================] - 0s 499ms/step\n",
      "1/1 [==============================] - 1s 503ms/step\n",
      "1/1 [==============================] - 1s 597ms/step\n",
      "1/1 [==============================] - 1s 517ms/step\n",
      "1/1 [==============================] - 0s 493ms/step\n",
      "1/1 [==============================] - 0s 496ms/step\n",
      "1/1 [==============================] - 0s 498ms/step\n",
      "1/1 [==============================] - 1s 510ms/step\n",
      "1/1 [==============================] - 0s 498ms/step\n",
      "1/1 [==============================] - 0s 497ms/step\n",
      "1/1 [==============================] - 1s 502ms/step\n",
      "1/1 [==============================] - 0s 494ms/step\n",
      "1/1 [==============================] - 1s 502ms/step\n",
      "1/1 [==============================] - 0s 498ms/step\n",
      "1/1 [==============================] - 0s 496ms/step\n",
      "1/1 [==============================] - 0s 498ms/step\n",
      "1/1 [==============================] - 1s 511ms/step\n",
      "1/1 [==============================] - 1s 500ms/step\n",
      "1/1 [==============================] - 0s 500ms/step\n",
      "1/1 [==============================] - 0s 497ms/step\n",
      "1/1 [==============================] - 0s 497ms/step\n",
      "1/1 [==============================] - 0s 497ms/step\n",
      "1/1 [==============================] - 0s 498ms/step\n",
      "1/1 [==============================] - 0s 496ms/step\n",
      "1/1 [==============================] - 0s 493ms/step\n",
      "1/1 [==============================] - 0s 499ms/step\n",
      "1/1 [==============================] - 0s 496ms/step\n",
      "1/1 [==============================] - 0s 496ms/step\n",
      "1/1 [==============================] - 0s 495ms/step\n",
      "1/1 [==============================] - 1s 501ms/step\n",
      "1/1 [==============================] - 0s 494ms/step\n",
      "1/1 [==============================] - 1s 500ms/step\n",
      "1/1 [==============================] - 0s 494ms/step\n",
      "1/1 [==============================] - 1s 506ms/step\n",
      "1/1 [==============================] - 0s 494ms/step\n"
     ]
    }
   ],
   "source": [
    "train_features, train_labels = extract_features(train_dir, 2000)\n",
    "validation_features, validation_labels = extract_features(validation_dir, 1000)\n",
    "test_features, test_labels = extract_features(test_dir, 1000)"
   ]
  },
  {
   "cell_type": "code",
   "execution_count": 42,
   "id": "0215c28f-48c1-4fb2-ac92-60330d2994b7",
   "metadata": {},
   "outputs": [
    {
     "data": {
      "text/plain": [
       "(2000, 4, 4, 512)"
      ]
     },
     "execution_count": 42,
     "metadata": {},
     "output_type": "execute_result"
    }
   ],
   "source": [
    "train_features.shape"
   ]
  },
  {
   "cell_type": "code",
   "execution_count": 45,
   "id": "d64ea874-6dc3-41d9-9f7e-e62e5baa8953",
   "metadata": {},
   "outputs": [
    {
     "data": {
      "text/plain": [
       "(2, 4, 4, 512)"
      ]
     },
     "execution_count": 45,
     "metadata": {},
     "output_type": "execute_result"
    }
   ],
   "source": [
    "res = train_features[0:2]\n",
    "res.shape"
   ]
  },
  {
   "cell_type": "code",
   "execution_count": 46,
   "id": "b693428a-4fff-4e8a-a21f-92f2aa89f026",
   "metadata": {},
   "outputs": [],
   "source": [
    "train_features = np.reshape(train_features, (2000, 4 * 4 * 512))\n",
    "validation_features = np.reshape(validation_features, (1000, 4 * 4 * 512))\n",
    "test_features = np.reshape(test_features, (1000, 4 * 4 * 512))"
   ]
  },
  {
   "cell_type": "code",
   "execution_count": 47,
   "id": "771c3553-1acb-47f4-8621-da5d9913ff25",
   "metadata": {},
   "outputs": [
    {
     "data": {
      "text/plain": [
       "(2000, 8192)"
      ]
     },
     "execution_count": 47,
     "metadata": {},
     "output_type": "execute_result"
    }
   ],
   "source": [
    "train_features.shape"
   ]
  },
  {
   "cell_type": "code",
   "execution_count": 48,
   "id": "ab7aad88-988b-4aa6-a530-f388a18f0d42",
   "metadata": {},
   "outputs": [],
   "source": [
    "# At this point, you can define your densely connected classifier (note the use of drop- out for regularization) \n",
    "# and train it on the data and labels that you just recorded.\n",
    "from keras import models\n",
    "from keras import layers\n",
    "from keras import optimizers\n",
    "\n",
    "model = models.Sequential()\n",
    "model.add(layers.Dense(256, activation='relu', input_dim=4 * 4 * 512))\n",
    "model.add(layers.Dropout(0.5))\n",
    "model.add(layers.Dense(1, activation='sigmoid'))"
   ]
  },
  {
   "cell_type": "code",
   "execution_count": 49,
   "id": "380ab4d9-6072-4deb-96ca-75b5c7b53978",
   "metadata": {},
   "outputs": [
    {
     "name": "stderr",
     "output_type": "stream",
     "text": [
      "WARNING:absl:At this time, the v2.11+ optimizer `tf.keras.optimizers.RMSprop` runs slowly on M1/M2 Macs, please use the legacy Keras optimizer instead, located at `tf.keras.optimizers.legacy.RMSprop`.\n",
      "WARNING:absl:`lr` is deprecated in Keras optimizer, please use `learning_rate` or use the legacy optimizer, e.g.,tf.keras.optimizers.legacy.RMSprop.\n",
      "WARNING:absl:There is a known slowdown when using v2.11+ Keras optimizers on M1/M2 Macs. Falling back to the legacy Keras optimizer, i.e., `tf.keras.optimizers.legacy.RMSprop`.\n"
     ]
    }
   ],
   "source": [
    "model.compile(optimizer=optimizers.RMSprop(lr=2e-5),\n",
    "              loss='binary_crossentropy',\n",
    "              metrics=['acc'])"
   ]
  },
  {
   "cell_type": "code",
   "execution_count": 50,
   "id": "53e5fc3f-afcb-4ab6-987f-cec0ad8202b2",
   "metadata": {},
   "outputs": [
    {
     "name": "stdout",
     "output_type": "stream",
     "text": [
      "Epoch 1/30\n",
      "100/100 [==============================] - 1s 6ms/step - loss: 0.7063 - acc: 0.7560 - val_loss: 0.3194 - val_acc: 0.8460\n",
      "Epoch 2/30\n",
      "100/100 [==============================] - 0s 5ms/step - loss: 0.3437 - acc: 0.8515 - val_loss: 0.2643 - val_acc: 0.8940\n",
      "Epoch 3/30\n",
      "100/100 [==============================] - 0s 5ms/step - loss: 0.2954 - acc: 0.8790 - val_loss: 0.2479 - val_acc: 0.8960\n",
      "Epoch 4/30\n",
      "100/100 [==============================] - 0s 5ms/step - loss: 0.2554 - acc: 0.9030 - val_loss: 0.2576 - val_acc: 0.9040\n",
      "Epoch 5/30\n",
      "100/100 [==============================] - 0s 5ms/step - loss: 0.2299 - acc: 0.9125 - val_loss: 0.3009 - val_acc: 0.8910\n",
      "Epoch 6/30\n",
      "100/100 [==============================] - 0s 5ms/step - loss: 0.2169 - acc: 0.9140 - val_loss: 0.2760 - val_acc: 0.9050\n",
      "Epoch 7/30\n",
      "100/100 [==============================] - 1s 5ms/step - loss: 0.1741 - acc: 0.9330 - val_loss: 0.2889 - val_acc: 0.9050\n",
      "Epoch 8/30\n",
      "100/100 [==============================] - 0s 5ms/step - loss: 0.1645 - acc: 0.9330 - val_loss: 0.3609 - val_acc: 0.8940\n",
      "Epoch 9/30\n",
      "100/100 [==============================] - 1s 5ms/step - loss: 0.1525 - acc: 0.9430 - val_loss: 0.3351 - val_acc: 0.9030\n",
      "Epoch 10/30\n",
      "100/100 [==============================] - 1s 5ms/step - loss: 0.1293 - acc: 0.9525 - val_loss: 0.3130 - val_acc: 0.8970\n",
      "Epoch 11/30\n",
      "100/100 [==============================] - 1s 5ms/step - loss: 0.1205 - acc: 0.9565 - val_loss: 0.3354 - val_acc: 0.9100\n",
      "Epoch 12/30\n",
      "100/100 [==============================] - 1s 5ms/step - loss: 0.1029 - acc: 0.9595 - val_loss: 0.5661 - val_acc: 0.8760\n",
      "Epoch 13/30\n",
      "100/100 [==============================] - 0s 5ms/step - loss: 0.0976 - acc: 0.9620 - val_loss: 0.3910 - val_acc: 0.9030\n",
      "Epoch 14/30\n",
      "100/100 [==============================] - 1s 5ms/step - loss: 0.0966 - acc: 0.9635 - val_loss: 0.5110 - val_acc: 0.8900\n",
      "Epoch 15/30\n",
      "100/100 [==============================] - 1s 5ms/step - loss: 0.0725 - acc: 0.9730 - val_loss: 0.5016 - val_acc: 0.9010\n",
      "Epoch 16/30\n",
      "100/100 [==============================] - 1s 5ms/step - loss: 0.0755 - acc: 0.9745 - val_loss: 0.4865 - val_acc: 0.8970\n",
      "Epoch 17/30\n",
      "100/100 [==============================] - 1s 5ms/step - loss: 0.0691 - acc: 0.9735 - val_loss: 0.4987 - val_acc: 0.8950\n",
      "Epoch 18/30\n",
      "100/100 [==============================] - 1s 5ms/step - loss: 0.0593 - acc: 0.9775 - val_loss: 0.5844 - val_acc: 0.9050\n",
      "Epoch 19/30\n",
      "100/100 [==============================] - 1s 5ms/step - loss: 0.0620 - acc: 0.9815 - val_loss: 0.6955 - val_acc: 0.8930\n",
      "Epoch 20/30\n",
      "100/100 [==============================] - 0s 5ms/step - loss: 0.0447 - acc: 0.9820 - val_loss: 0.5560 - val_acc: 0.9090\n",
      "Epoch 21/30\n",
      "100/100 [==============================] - 0s 5ms/step - loss: 0.0606 - acc: 0.9815 - val_loss: 0.5855 - val_acc: 0.9050\n",
      "Epoch 22/30\n",
      "100/100 [==============================] - 1s 5ms/step - loss: 0.0374 - acc: 0.9840 - val_loss: 0.6839 - val_acc: 0.8780\n",
      "Epoch 23/30\n",
      "100/100 [==============================] - 0s 5ms/step - loss: 0.0250 - acc: 0.9890 - val_loss: 0.6770 - val_acc: 0.9070\n",
      "Epoch 24/30\n",
      "100/100 [==============================] - 1s 5ms/step - loss: 0.0385 - acc: 0.9870 - val_loss: 0.6987 - val_acc: 0.8900\n",
      "Epoch 25/30\n",
      "100/100 [==============================] - 1s 5ms/step - loss: 0.0328 - acc: 0.9890 - val_loss: 0.7079 - val_acc: 0.9030\n",
      "Epoch 26/30\n",
      "100/100 [==============================] - 1s 5ms/step - loss: 0.0357 - acc: 0.9860 - val_loss: 0.7563 - val_acc: 0.9040\n",
      "Epoch 27/30\n",
      "100/100 [==============================] - 1s 5ms/step - loss: 0.0288 - acc: 0.9930 - val_loss: 0.7413 - val_acc: 0.8970\n",
      "Epoch 28/30\n",
      "100/100 [==============================] - 1s 5ms/step - loss: 0.0253 - acc: 0.9915 - val_loss: 0.8279 - val_acc: 0.8890\n",
      "Epoch 29/30\n",
      "100/100 [==============================] - 0s 5ms/step - loss: 0.0232 - acc: 0.9910 - val_loss: 0.7947 - val_acc: 0.9020\n",
      "Epoch 30/30\n",
      "100/100 [==============================] - 0s 5ms/step - loss: 0.0249 - acc: 0.9940 - val_loss: 0.8075 - val_acc: 0.8970\n"
     ]
    }
   ],
   "source": [
    "# train the model\n",
    "history = model.fit(train_features, train_labels,\n",
    "                    epochs=30,\n",
    "                    batch_size=20,\n",
    "                    validation_data=(validation_features, validation_labels))"
   ]
  },
  {
   "cell_type": "code",
   "execution_count": 51,
   "id": "88387057-aa35-4ed2-9da5-e717324f8ebe",
   "metadata": {},
   "outputs": [
    {
     "data": {
      "image/png": "[encoded data removed]",
      "text/plain": [
       "<Figure size 640x480 with 1 Axes>"
      ]
     },
     "metadata": {},
     "output_type": "display_data"
    },
    {
     "data": {
      "image/png": "[encoded data removed]",
      "text/plain": [
       "<Figure size 640x480 with 1 Axes>"
      ]
     },
     "metadata": {},
     "output_type": "display_data"
    }
   ],
   "source": [
    "# plotting the results\n",
    "import matplotlib.pyplot as plt\n",
    "\n",
    "acc = history.history['acc']\n",
    "val_acc = history.history['val_acc']\n",
    "\n",
    "loss = history.history['loss']\n",
    "val_loss = history.history['val_loss']\n",
    "\n",
    "epochs = range(1, len(acc) + 1)\n",
    "\n",
    "plt.plot(epochs, acc, 'bo', label='Training acc')\n",
    "plt.plot(epochs, val_acc, 'b', label='Validation acc')\n",
    "plt.title('Training and validation accuracy')\n",
    "plt.legend()\n",
    "plt.figure()\n",
    "\n",
    "plt.plot(epochs, loss, 'bo', label='Training loss')\n",
    "plt.plot(epochs, val_loss, 'b', label='Validation loss')\n",
    "plt.title('Training and validation loss')\n",
    "plt.legend()\n",
    "\n",
    "plt.show()\n",
    "\n",
    "# Notes:\n",
    "# - You reach a validation accuracy of about 90%\n",
    "# - But the plots also indicate that you’re overfitting almost from the start\n",
    "# - That’s because this technique doesn’t use data augmentation, which is essential for preventing overfitting with small image datasets."
   ]
  },
  {
   "cell_type": "code",
   "execution_count": null,
   "id": "266c2f38-7ef4-41b4-adfb-19347311860e",
   "metadata": {},
   "outputs": [],
   "source": [
    "# pretrained convnet - feature extraction with data augmentation\n",
    "# extend the conv_base model and running it end to end on the inputs\n",
    "# Note:\n",
    "# - this technique is so expensive that you should only attempt it if you have access to a GPU—it’s absolutely intractable on CPU"
   ]
  },
  {
   "cell_type": "code",
   "execution_count": null,
   "id": "3d40480d-48d7-43f2-a671-3572ebfcb3da",
   "metadata": {},
   "outputs": [],
   "source": []
  },
  {
   "cell_type": "code",
   "execution_count": null,
   "id": "e467f011-2df6-453b-b5c2-8dfbad3182b7",
   "metadata": {},
   "outputs": [],
   "source": [
    "# Using a pretrained convnet - fine-tuning"
   ]
  }
 ],
 "metadata": {
  "kernelspec": {
   "display_name": "Python 3 (ipykernel)",
   "language": "python",
   "name": "python3"
  },
  "language_info": {
   "codemirror_mode": {
    "name": "ipython",
    "version": 3
   },
   "file_extension": ".py",
   "mimetype": "text/x-python",
   "name": "python",
   "nbconvert_exporter": "python",
   "pygments_lexer": "ipython3",
   "version": "3.9.6"
  }
 },
 "nbformat": 4,
 "nbformat_minor": 5
}
