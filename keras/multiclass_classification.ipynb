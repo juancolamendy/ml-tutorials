{
 "cells": [
  {
   "cell_type": "code",
   "execution_count": 1,
   "id": "677c2cd3-aafa-4f19-9c0e-adc9dbddeab3",
   "metadata": {},
   "outputs": [
    {
     "name": "stdout",
     "output_type": "stream",
     "text": [
      "Downloading data from https://storage.googleapis.com/tensorflow/tf-keras-datasets/reuters.npz\n",
      "2110848/2110848 [==============================] - 0s 0us/step\n"
     ]
    }
   ],
   "source": [
    "# Dataset\n",
    "# Reuters dataset, a set of short newswires and their topic\n",
    "# There are 46 different topics\n",
    "from keras.datasets import reuters\n",
    "\n",
    "# num_words=10000 restricts the data to the 10,000 most frequently occurring words found in the data.\n",
    "(train_data, train_labels), (test_data, test_labels) = reuters.load_data(num_words=10000)"
   ]
  },
  {
   "cell_type": "code",
   "execution_count": 2,
   "id": "38a9dc45-a162-4bf6-95cf-7bfe5e5a803b",
   "metadata": {},
   "outputs": [
    {
     "name": "stdout",
     "output_type": "stream",
     "text": [
      "8982 (8982,)\n",
      "2246 (2246,)\n"
     ]
    }
   ],
   "source": [
    "print(len(train_data), train_data.shape)\n",
    "print(len(test_data), test_data.shape)"
   ]
  },
  {
   "cell_type": "code",
   "execution_count": 4,
   "id": "095f8220-098a-4b0e-8bc4-d6959d2cc065",
   "metadata": {},
   "outputs": [
    {
     "name": "stdout",
     "output_type": "stream",
     "text": [
      "x: [1, 245, 273, 207, 156, 53, 74, 160, 26, 14, 46, 296, 26, 39, 74, 2979, 3554, 14, 46, 4689, 4329, 86, 61, 3499, 4795, 14, 61, 451, 4329, 17, 12]\n",
      "y: 3\n"
     ]
    }
   ],
   "source": [
    "print('x:', train_data[10])\n",
    "print('y:', train_labels[10])"
   ]
  },
  {
   "cell_type": "code",
   "execution_count": 5,
   "id": "6ec2fb35-ed97-4bf5-b163-ada1a51499f9",
   "metadata": {},
   "outputs": [
    {
     "name": "stdout",
     "output_type": "stream",
     "text": [
      "Downloading data from https://storage.googleapis.com/tensorflow/tf-keras-datasets/reuters_word_index.json\n",
      "550378/550378 [==============================] - 0s 0us/step\n"
     ]
    }
   ],
   "source": [
    "# Decoding newswires back to text\n",
    "word_index = reuters.get_word_index()\n",
    "reverse_word_index = dict([(value, key) for (key, value) in word_index.items()])\n",
    "decoded_newswire = ' '.join([reverse_word_index.get(i - 3, '?') for i in train_data[0]])"
   ]
  },
  {
   "cell_type": "code",
   "execution_count": 6,
   "id": "2da6e7a6-34e4-468a-abad-cb1b8984e035",
   "metadata": {},
   "outputs": [
    {
     "name": "stdout",
     "output_type": "stream",
     "text": [
      "? ? ? said as a result of its december acquisition of space co it expects earnings per share in 1987 of 1 15 to 1 30 dlrs per share up from 70 cts in 1986 the company said pretax net should rise to nine to 10 mln dlrs from six mln dlrs in 1986 and rental operation revenues to 19 to 22 mln dlrs from 12 5 mln dlrs it said cash flow per share this year should be 2 50 to three dlrs reuter 3\n"
     ]
    }
   ],
   "source": [
    "print(decoded_newswire)"
   ]
  },
  {
   "cell_type": "code",
   "execution_count": 7,
   "id": "fc244465-9775-4474-a7d1-e14a2b929e82",
   "metadata": {},
   "outputs": [],
   "source": [
    "# Preparing the data\n",
    "import numpy as np\n",
    "\n",
    "# vectorize the input\n",
    "# dimension 10000, one dimension per word\n",
    "def vectorize_sequences(sequences, dimension=10000):\n",
    "    # Creates an all-zero matrix of shape (len(sequences), dimension)\n",
    "    results = np.zeros((len(sequences), dimension))\n",
    "    for i, sequence in enumerate(sequences):\n",
    "        # Sets specific indices of results[i] to 1s. sequence holds a list of indexes\n",
    "        results[i, sequence] = 1.\n",
    "    return results\n",
    "\n",
    "# Vectorized training data\n",
    "x_train = vectorize_sequences(train_data)\n",
    "\n",
    "# Vectorized test data\n",
    "x_test = vectorize_sequences(test_data)"
   ]
  },
  {
   "cell_type": "code",
   "execution_count": 8,
   "id": "ac48df1c-2529-4328-a65d-d9ff064e052f",
   "metadata": {},
   "outputs": [
    {
     "name": "stdout",
     "output_type": "stream",
     "text": [
      "[0. 1. 1. ... 0. 0. 0.]\n",
      "(8982, 10000)\n"
     ]
    }
   ],
   "source": [
    "print(x_train[0])\n",
    "print(x_train.shape)"
   ]
  },
  {
   "cell_type": "code",
   "execution_count": 13,
   "id": "2774cbef-8de2-43d2-9bad-3d527f90064c",
   "metadata": {},
   "outputs": [],
   "source": [
    "# vectorize the labels using one-hot encoding\n",
    "# In this case, one-hot encoding of the labels consists of embedding each label as an all-zero vector with a 1 in the place of the label index.\n",
    "\n",
    "# dimension 46. one for each category/topic\n",
    "def to_one_hot(labels, dimension=46):\n",
    "    results = np.zeros((len(labels), dimension))\n",
    "    for i, label in enumerate(labels):\n",
    "        results[i, label] = 1.\n",
    "    return results\n",
    "\n",
    "one_hot_train_labels = to_one_hot(train_labels)\n",
    "one_hot_test_labels = to_one_hot(test_labels)"
   ]
  },
  {
   "cell_type": "code",
   "execution_count": 14,
   "id": "e62d1191-972e-4880-b774-9d902f6614ac",
   "metadata": {},
   "outputs": [
    {
     "name": "stdout",
     "output_type": "stream",
     "text": [
      "[0. 0. 0. 1. 0. 0. 0. 0. 0. 0. 0. 0. 0. 0. 0. 0. 0. 0. 0. 0. 0. 0. 0. 0.\n",
      " 0. 0. 0. 0. 0. 0. 0. 0. 0. 0. 0. 0. 0. 0. 0. 0. 0. 0. 0. 0. 0. 0.]\n"
     ]
    }
   ],
   "source": [
    "print(one_hot_train_labels[0])"
   ]
  },
  {
   "cell_type": "code",
   "execution_count": 16,
   "id": "a43bec1b-4fcf-461d-9f58-bd248b7d92ee",
   "metadata": {},
   "outputs": [],
   "source": [
    "from tensorflow.keras.utils import to_categorical\n",
    "\n",
    "one_hot_train_labels = to_categorical(train_labels)\n",
    "one_hot_test_labels = to_categorical(test_labels)"
   ]
  },
  {
   "cell_type": "code",
   "execution_count": 19,
   "id": "4bef5d0d-a18e-4fb6-8266-aef510fa6bf5",
   "metadata": {},
   "outputs": [
    {
     "name": "stdout",
     "output_type": "stream",
     "text": [
      "[0. 0. 0. 1. 0. 0. 0. 0. 0. 0. 0. 0. 0. 0. 0. 0. 0. 0. 0. 0. 0. 0. 0. 0.\n",
      " 0. 0. 0. 0. 0. 0. 0. 0. 0. 0. 0. 0. 0. 0. 0. 0. 0. 0. 0. 0. 0. 0.]\n"
     ]
    }
   ],
   "source": [
    "print(one_hot_train_labels[0])"
   ]
  },
  {
   "cell_type": "code",
   "execution_count": 20,
   "id": "5f48e577-2f52-4d1f-af17-2c1908ed38ed",
   "metadata": {},
   "outputs": [],
   "source": [
    "# Building your network\n",
    "from keras import models\n",
    "from keras import layers\n",
    "\n",
    "model = models.Sequential()\n",
    "model.add(layers.Dense(64, activation='relu', input_shape=(10000,)))\n",
    "model.add(layers.Dense(64, activation='relu'))\n",
    "# You end the network with a Dense layer of size 46. This means for each input sample, the network will output a 46-dimensional vector. \n",
    "# Each entry in this vec- tor (each dimension) will encode a different output class\n",
    "model.add(layers.Dense(46, activation='softmax'))"
   ]
  },
  {
   "cell_type": "code",
   "execution_count": 33,
   "id": "a2577782-08fd-4687-a4ed-ccbdc2f4c6cf",
   "metadata": {},
   "outputs": [
    {
     "name": "stdout",
     "output_type": "stream",
     "text": [
      "Model: \"sequential\"\n",
      "_________________________________________________________________\n",
      " Layer (type)                Output Shape              Param #   \n",
      "=================================================================\n",
      " dense (Dense)               (None, 64)                640064    \n",
      "                                                                 \n",
      " dense_1 (Dense)             (None, 64)                4160      \n",
      "                                                                 \n",
      " dense_2 (Dense)             (None, 46)                2990      \n",
      "                                                                 \n",
      "=================================================================\n",
      "Total params: 647214 (2.47 MB)\n",
      "Trainable params: 647214 (2.47 MB)\n",
      "Non-trainable params: 0 (0.00 Byte)\n",
      "_________________________________________________________________\n"
     ]
    }
   ],
   "source": [
    "model.summary()"
   ]
  },
  {
   "cell_type": "code",
   "execution_count": 21,
   "id": "a4f0106d-b734-4ee0-9555-1a3ea6fb2a21",
   "metadata": {},
   "outputs": [],
   "source": [
    "# Compile the model\n",
    "model.compile(optimizer='rmsprop',\n",
    "              loss='categorical_crossentropy',\n",
    "              metrics=['accuracy'])"
   ]
  },
  {
   "cell_type": "code",
   "execution_count": 22,
   "id": "448a9261-e090-4b1a-b95f-dfc11b1e413d",
   "metadata": {},
   "outputs": [],
   "source": [
    "# Setting aside a validation set\n",
    "x_val = x_train[:1000]\n",
    "partial_x_train = x_train[1000:]\n",
    "\n",
    "y_val = one_hot_train_labels[:1000]\n",
    "partial_y_train = one_hot_train_labels[1000:]"
   ]
  },
  {
   "cell_type": "code",
   "execution_count": 23,
   "id": "cacff4f9-f77e-4539-9dab-f0a655b54b34",
   "metadata": {},
   "outputs": [
    {
     "name": "stdout",
     "output_type": "stream",
     "text": [
      "Epoch 1/20\n",
      "16/16 [==============================] - 0s 15ms/step - loss: 2.7371 - accuracy: 0.5071 - val_loss: 1.7987 - val_accuracy: 0.6260\n",
      "Epoch 2/20\n",
      "16/16 [==============================] - 0s 9ms/step - loss: 1.4517 - accuracy: 0.7011 - val_loss: 1.2946 - val_accuracy: 0.7110\n",
      "Epoch 3/20\n",
      "16/16 [==============================] - 0s 9ms/step - loss: 1.0522 - accuracy: 0.7788 - val_loss: 1.1079 - val_accuracy: 0.7670\n",
      "Epoch 4/20\n",
      "16/16 [==============================] - 0s 9ms/step - loss: 0.8363 - accuracy: 0.8222 - val_loss: 1.0161 - val_accuracy: 0.7890\n",
      "Epoch 5/20\n",
      "16/16 [==============================] - 0s 9ms/step - loss: 0.6685 - accuracy: 0.8586 - val_loss: 0.9361 - val_accuracy: 0.8090\n",
      "Epoch 6/20\n",
      "16/16 [==============================] - 0s 9ms/step - loss: 0.5361 - accuracy: 0.8906 - val_loss: 0.9028 - val_accuracy: 0.8190\n",
      "Epoch 7/20\n",
      "16/16 [==============================] - 0s 9ms/step - loss: 0.4324 - accuracy: 0.9100 - val_loss: 0.8813 - val_accuracy: 0.8170\n",
      "Epoch 8/20\n",
      "16/16 [==============================] - 0s 9ms/step - loss: 0.3505 - accuracy: 0.9273 - val_loss: 0.8775 - val_accuracy: 0.8210\n",
      "Epoch 9/20\n",
      "16/16 [==============================] - 0s 10ms/step - loss: 0.2916 - accuracy: 0.9372 - val_loss: 0.8729 - val_accuracy: 0.8270\n",
      "Epoch 10/20\n",
      "16/16 [==============================] - 0s 10ms/step - loss: 0.2479 - accuracy: 0.9454 - val_loss: 0.8792 - val_accuracy: 0.8240\n",
      "Epoch 11/20\n",
      "16/16 [==============================] - 0s 9ms/step - loss: 0.2134 - accuracy: 0.9463 - val_loss: 0.9573 - val_accuracy: 0.7980\n",
      "Epoch 12/20\n",
      "16/16 [==============================] - 0s 11ms/step - loss: 0.1878 - accuracy: 0.9494 - val_loss: 0.9250 - val_accuracy: 0.8110\n",
      "Epoch 13/20\n",
      "16/16 [==============================] - 0s 9ms/step - loss: 0.1661 - accuracy: 0.9534 - val_loss: 0.9380 - val_accuracy: 0.8160\n",
      "Epoch 14/20\n",
      "16/16 [==============================] - 0s 10ms/step - loss: 0.1560 - accuracy: 0.9544 - val_loss: 0.9158 - val_accuracy: 0.8210\n",
      "Epoch 15/20\n",
      "16/16 [==============================] - 0s 10ms/step - loss: 0.1406 - accuracy: 0.9569 - val_loss: 0.9946 - val_accuracy: 0.8100\n",
      "Epoch 16/20\n",
      "16/16 [==============================] - 0s 10ms/step - loss: 0.1321 - accuracy: 0.9558 - val_loss: 0.9910 - val_accuracy: 0.8150\n",
      "Epoch 17/20\n",
      "16/16 [==============================] - 0s 10ms/step - loss: 0.1264 - accuracy: 0.9579 - val_loss: 1.0253 - val_accuracy: 0.8020\n",
      "Epoch 18/20\n",
      "16/16 [==============================] - 0s 10ms/step - loss: 0.1177 - accuracy: 0.9575 - val_loss: 1.0149 - val_accuracy: 0.8130\n",
      "Epoch 19/20\n",
      "16/16 [==============================] - 0s 9ms/step - loss: 0.1170 - accuracy: 0.9572 - val_loss: 1.0264 - val_accuracy: 0.8140\n",
      "Epoch 20/20\n",
      "16/16 [==============================] - 0s 9ms/step - loss: 0.1159 - accuracy: 0.9554 - val_loss: 1.0502 - val_accuracy: 0.8060\n"
     ]
    }
   ],
   "source": [
    "# Training the model\n",
    "history = model.fit(partial_x_train,\n",
    "                    partial_y_train,\n",
    "                    epochs=20,\n",
    "                    batch_size=512,\n",
    "                    validation_data=(x_val, y_val))"
   ]
  },
  {
   "cell_type": "code",
   "execution_count": 26,
   "id": "a54b8341-fa9b-427b-a164-8becb78e62b5",
   "metadata": {},
   "outputs": [
    {
     "data": {
      "text/plain": [
       "dict_keys(['loss', 'accuracy', 'val_loss', 'val_accuracy'])"
      ]
     },
     "execution_count": 26,
     "metadata": {},
     "output_type": "execute_result"
    }
   ],
   "source": [
    "# See the history\n",
    "history_dict = history.history\n",
    "history_dict.keys()"
   ]
  },
  {
   "cell_type": "code",
   "execution_count": 25,
   "id": "bef65400-af19-4d0f-9b63-6c15a61c0a9a",
   "metadata": {},
   "outputs": [],
   "source": [
    "# Plotting the training and validation loss\n",
    "import matplotlib.pyplot as plt\n",
    "\n",
    "loss_values = history_dict['loss']\n",
    "val_loss_values = history_dict['val_loss']\n",
    "acc_values = history_dict['accuracy']\n",
    "val_acc_values = history_dict['val_accuracy']\n",
    "\n",
    "epochs = range(1, len(loss_values) + 1)"
   ]
  },
  {
   "cell_type": "code",
   "execution_count": 27,
   "id": "828db3cb-1adb-4be4-8207-5fa613544962",
   "metadata": {},
   "outputs": [
    {
     "data": {
      "image/png": "[encoded data removed]",
      "text/plain": [
       "<Figure size 640x480 with 1 Axes>"
      ]
     },
     "metadata": {},
     "output_type": "display_data"
    }
   ],
   "source": [
    "# Visualize the loss\n",
    "plt.plot(epochs, loss_values, 'bo', label='Training loss')\n",
    "plt.plot(epochs, val_loss_values, 'b', label='Validation loss')\n",
    "plt.title('Training and validation loss')\n",
    "plt.xlabel('Epochs')\n",
    "plt.ylabel('Loss')\n",
    "plt.legend()\n",
    "plt.show()"
   ]
  },
  {
   "cell_type": "code",
   "execution_count": 28,
   "id": "05dc0323-2610-4f89-a081-52d98f5bab88",
   "metadata": {},
   "outputs": [
    {
     "data": {
      "image/png": "[encoded data removed]",
      "text/plain": [
       "<Figure size 640x480 with 1 Axes>"
      ]
     },
     "metadata": {},
     "output_type": "display_data"
    }
   ],
   "source": [
    "plt.plot(epochs, acc_values, 'bo', label='Training acc')\n",
    "plt.plot(epochs, val_acc_values, 'b', label='Validation acc')\n",
    "plt.title('Training and validation accuracy')\n",
    "plt.xlabel('Epochs')\n",
    "plt.ylabel('Loss')\n",
    "plt.legend()\n",
    "plt.show()"
   ]
  },
  {
   "cell_type": "code",
   "execution_count": 29,
   "id": "1f67b4bb-4a51-4171-b78e-16f9b4472e26",
   "metadata": {},
   "outputs": [
    {
     "name": "stdout",
     "output_type": "stream",
     "text": [
      "71/71 [==============================] - 0s 615us/step - loss: 1.2039 - accuracy: 0.7921\n",
      "[1.2038888931274414, 0.7920747995376587]\n"
     ]
    }
   ],
   "source": [
    "results = model.evaluate(x_test, one_hot_test_labels)\n",
    "print(results)"
   ]
  },
  {
   "cell_type": "code",
   "execution_count": 30,
   "id": "dbb2c861-96b6-4d45-b8d5-b34676245df5",
   "metadata": {},
   "outputs": [
    {
     "name": "stdout",
     "output_type": "stream",
     "text": [
      "71/71 [==============================] - 0s 527us/step\n"
     ]
    }
   ],
   "source": [
    "# predict\n",
    "predictions = model.predict(x_test)"
   ]
  },
  {
   "cell_type": "code",
   "execution_count": 31,
   "id": "ef558bba-ad19-41e6-8aaa-80bbb94d69ba",
   "metadata": {},
   "outputs": [
    {
     "name": "stdout",
     "output_type": "stream",
     "text": [
      "(2246, 46)\n"
     ]
    }
   ],
   "source": [
    "# Each entry in predictions is a vector of length 46\n",
    "print(predictions.shape)"
   ]
  },
  {
   "cell_type": "code",
   "execution_count": 32,
   "id": "99bbbba2-79ab-4805-868e-0d71fe7c8721",
   "metadata": {},
   "outputs": [
    {
     "data": {
      "text/plain": [
       "3"
      ]
     },
     "execution_count": 32,
     "metadata": {},
     "output_type": "execute_result"
    }
   ],
   "source": [
    "# The largest entry is the predicted class—the class with the highest probabilit\n",
    "np.argmax(predictions[0])"
   ]
  },
  {
   "cell_type": "code",
   "execution_count": 34,
   "id": "20eadad5-8011-4a29-961d-a858a51b8fa5",
   "metadata": {},
   "outputs": [
    {
     "name": "stdout",
     "output_type": "stream",
     "text": [
      "0.9999998\n"
     ]
    }
   ],
   "source": [
    "# The coefficients in this vector sum to 1\n",
    "print(np.sum(predictions[0]))"
   ]
  }
 ],
 "metadata": {
  "kernelspec": {
   "display_name": "Python 3 (ipykernel)",
   "language": "python",
   "name": "python3"
  },
  "language_info": {
   "codemirror_mode": {
    "name": "ipython",
    "version": 3
   },
   "file_extension": ".py",
   "mimetype": "text/x-python",
   "name": "python",
   "nbconvert_exporter": "python",
   "pygments_lexer": "ipython3",
   "version": "3.9.6"
  }
 },
 "nbformat": 4,
 "nbformat_minor": 5
}
