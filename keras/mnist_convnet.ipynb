{
 "cells": [
  {
   "cell_type": "code",
   "execution_count": 18,
   "id": "22adef02-9295-42ef-bb4b-ef6663d9bfe8",
   "metadata": {},
   "outputs": [],
   "source": [
    "# import\n",
    "import numpy as np\n",
    "import pandas as pd\n",
    "import random\n",
    "\n",
    "import matplotlib.pyplot as plt\n",
    "\n",
    "import tensorflow as tf\n",
    "\n",
    "from tensorflow.keras.datasets import mnist\n",
    "from tensorflow.keras.models import Sequential\n",
    "from tensorflow.keras.layers import Input, Flatten, Conv2D, Dense, MaxPooling2D\n",
    "from tensorflow.keras.optimizers import SGD\n",
    "from tensorflow.keras.utils import to_categorical"
   ]
  },
  {
   "cell_type": "code",
   "execution_count": 4,
   "id": "91acf29e-818c-41b2-974a-8b7a3cb7a558",
   "metadata": {},
   "outputs": [
    {
     "name": "stdout",
     "output_type": "stream",
     "text": [
      "(60000, 28, 28)\n",
      "(60000,)\n",
      "(10000, 28, 28)\n",
      "(10000,)\n"
     ]
    }
   ],
   "source": [
    "# load dataset\n",
    "# load the MNIST dataset, containing 70,000 28x28 images showing handwritten digits.\n",
    "# load this dataset using Kera\n",
    "# function returns the dataset split into train and test sets.\n",
    "\n",
    "# x_train and x_test contain our train and test images.\n",
    "# y_train and y_test contain the target values: a number between 0 and 9 indicating the digit shown in the corresponding image.\n",
    "# 60,000 images to train the model and 10,000 to test it\n",
    "(x_train, y_train), (x_test, y_test) = mnist.load_data()"
   ]
  },
  {
   "cell_type": "code",
   "execution_count": 26,
   "id": "fbaba40e-0487-4dc3-b154-86ee97c91cdb",
   "metadata": {},
   "outputs": [
    {
     "name": "stdout",
     "output_type": "stream",
     "text": [
      "(60000, 28, 28, 1)\n",
      "(60000,)\n",
      "(10000, 28, 28, 1)\n",
      "(10000,)\n"
     ]
    }
   ],
   "source": [
    "# print out\n",
    "print(x_train.shape)\n",
    "print(y_train.shape)\n",
    "print(x_test.shape)\n",
    "print(y_test.shape)"
   ]
  },
  {
   "cell_type": "code",
   "execution_count": 8,
   "id": "f7687ed0-c866-4629-a56e-4167d066c431",
   "metadata": {},
   "outputs": [
    {
     "name": "stdout",
     "output_type": "stream",
     "text": [
      "-- train data\n",
      "(60000, 28, 28, 1)\n",
      "(60000,)\n",
      "5\n",
      "(60000, 10)\n",
      "[0. 0. 0. 0. 0. 1. 0. 0. 0. 0.]\n",
      "-- test data\n",
      "(10000, 28, 28, 1)\n",
      "(10000,)\n",
      "(10000, 10)\n"
     ]
    }
   ],
   "source": [
    "# preprocess dataset\n",
    "# train data\n",
    "# When dealing with images, we need a tensor with 4 dimensions: batch size, width, height, and color channels.\n",
    "# x_train/y_train are (60000, 28, 28). Need to reshape it to add the missing dimension (\"1\" because these images are grayscale.)\n",
    "x_train = x_train.reshape((-1, 28, 28, 1))\n",
    "# Each pixel goes from 0 to 255. Neural networks work much better with smaller values.\n",
    "# Need to normalize pixels by dividing them by 255. That way, each pixel will go from 0 to 1.\n",
    "x_train = x_train.astype('float32') / 255.0\n",
    "# Target values go from 0 to 9 (the value of each digit.)\n",
    "# This line one-hot encodes these values.\n",
    "# For example, this will transform a value 5, in an array of zeros with a single 1 corresponding to the fifth position:\n",
    "# [0, 0, 0, 0, 0, 1, 0, 0, 0, 0]\n",
    "y_train_one_hot = to_categorical(y_train)\n",
    "\n",
    "# test data\n",
    "x_test = x_test.reshape((-1, 28, 28, 1))\n",
    "x_test = x_test.astype('float32') / 255.0\n",
    "y_test_one_hot = to_categorical(y_test)"
   ]
  },
  {
   "cell_type": "code",
   "execution_count": 27,
   "id": "ad37b990-1000-4072-ad13-35a6aacf9faf",
   "metadata": {},
   "outputs": [
    {
     "name": "stdout",
     "output_type": "stream",
     "text": [
      "-- train data\n",
      "(60000, 28, 28, 1)\n",
      "(60000,)\n",
      "5\n",
      "(60000, 10)\n",
      "[0. 0. 0. 0. 0. 1. 0. 0. 0. 0.]\n",
      "-- test data\n",
      "(10000, 28, 28, 1)\n",
      "(10000,)\n",
      "(10000, 10)\n"
     ]
    }
   ],
   "source": [
    "# print out data\n",
    "# print out train data\n",
    "print('-- train data')\n",
    "print(x_train.shape)\n",
    "print(y_train.shape)\n",
    "print(y_train[0])\n",
    "print(y_train_one_hot.shape)\n",
    "print(y_train_one_hot[0])\n",
    "\n",
    "# print out test data\n",
    "print('-- test data')\n",
    "print(x_test.shape)\n",
    "print(y_test.shape)\n",
    "print(y_test_one_hot.shape)"
   ]
  },
  {
   "cell_type": "code",
   "execution_count": 28,
   "id": "105088d1-1036-47bc-8491-a614249ef04f",
   "metadata": {},
   "outputs": [
    {
     "name": "stdout",
     "output_type": "stream",
     "text": [
      "Model: \"sequential_3\"\n",
      "_________________________________________________________________\n",
      " Layer (type)                Output Shape              Param #   \n",
      "=================================================================\n",
      " conv2d_4 (Conv2D)           (None, 26, 26, 32)        320       \n",
      "                                                                 \n",
      " max_pooling2d_4 (MaxPoolin  (None, 13, 13, 32)        0         \n",
      " g2D)                                                            \n",
      "                                                                 \n",
      " flatten_3 (Flatten)         (None, 5408)              0         \n",
      "                                                                 \n",
      " dense_3 (Dense)             (None, 100)               540900    \n",
      "                                                                 \n",
      " dense_4 (Dense)             (None, 10)                1010      \n",
      "                                                                 \n",
      "=================================================================\n",
      "Total params: 542230 (2.07 MB)\n",
      "Trainable params: 542230 (2.07 MB)\n",
      "Non-trainable params: 0 (0.00 Byte)\n",
      "_________________________________________________________________\n"
     ]
    }
   ],
   "source": [
    "# variables\n",
    "num_classes = 10\n",
    "input_shape = (28, 28, 1)\n",
    "\n",
    "# build the model\n",
    "# a sequence of conv2D/MaxPool blocks plus a Dense layer as a classifier\n",
    "model = Sequential()\n",
    "\n",
    "# Input layer\n",
    "# input shape: a 28x28x1 tensor (width, height, channels)\n",
    "model.add(Input(shape=input_shape))\n",
    "\n",
    "# ConvNet Block 1\n",
    "# Conv2D layer with 32 filters and a 3x3 kernel\n",
    "# This Conv2D layer will generate 32 different representations using the training images\n",
    "# Also need to define the activation function used for this layer: ReLU\n",
    "# Relu will allow us to solve non-linear problems, like recognizing handwritten digits.\n",
    "model.add(Conv2D(32, kernel_size=(3, 3), activation=\"relu\"))\n",
    "# After our Conv2D layer, we have a max pooling operation.\n",
    "# The goal of this layer is to downsample the amount of information collected by the convolutional layer.\n",
    "# Want to throw away unimportant details and retain what truly matters.\n",
    "model.add(MaxPooling2D(pool_size=(2, 2)))\n",
    "\n",
    "# Classifier\n",
    "# We are now going to flatten the output. We want everything in a continuous list of values.\n",
    "# That's what the Flatten layer does. It will give us a flat tensor.\n",
    "model.add(Flatten())\n",
    "# Have a couple of Dense layers that represents the classifier\n",
    "# Also have the relu activation function\n",
    "model.add(Dense(units=100, activation='relu'))\n",
    "# the output layer has a size of 10, one for each of our possible digit values, and a softmax activation.\n",
    "# The softmax ensures we get a probability distribution indicating the most likely digit in the image.\n",
    "model.add(Dense(units=num_classes, activation='softmax'))\n",
    "\n",
    "# show model summary\n",
    "model.summary()"
   ]
  },
  {
   "cell_type": "code",
   "execution_count": 30,
   "id": "f15e65bc-b25e-4390-a918-6ca09d48d084",
   "metadata": {},
   "outputs": [
    {
     "name": "stderr",
     "output_type": "stream",
     "text": [
      "WARNING:absl:At this time, the v2.11+ optimizer `tf.keras.optimizers.SGD` runs slowly on M1/M2 Macs, please use the legacy Keras optimizer instead, located at `tf.keras.optimizers.legacy.SGD`.\n",
      "WARNING:absl:There is a known slowdown when using v2.11+ Keras optimizers on M1/M2 Macs. Falling back to the legacy Keras optimizer, i.e., `tf.keras.optimizers.legacy.SGD`.\n"
     ]
    }
   ],
   "source": [
    "# compile the model\n",
    "# After creating our model, we compile it\n",
    "# Use Stochastic Gradient Descent (SGD) as the optimizer\n",
    "# The loss is categorical cross-entropy: this is a multi-class classification problem\n",
    "# Want to record the accuracy as the model trains\n",
    "optimizer = SGD(learning_rate=0.01, momentum=0.9)\n",
    "model.compile(\n",
    "    optimizer=optimizer, \n",
    "    loss='categorical_crossentropy', \n",
    "    metrics=['accuracy']\n",
    ")"
   ]
  },
  {
   "cell_type": "code",
   "execution_count": 31,
   "id": "6be38eb3-1096-4dc4-b92b-33756a46a8f9",
   "metadata": {},
   "outputs": [],
   "source": [
    "# validation data\n",
    "x_val = x_test\n",
    "y_val_one_hot = y_test_one_hot"
   ]
  },
  {
   "cell_type": "code",
   "execution_count": 34,
   "id": "37fb22b7-f805-42e9-a415-f2610b71f820",
   "metadata": {},
   "outputs": [
    {
     "name": "stdout",
     "output_type": "stream",
     "text": [
      "(10000, 28, 28, 1)\n",
      "(10000, 10)\n"
     ]
    }
   ],
   "source": [
    "print(x_val.shape)\n",
    "print(y_val_one_hot.shape)"
   ]
  },
  {
   "cell_type": "code",
   "execution_count": 33,
   "id": "bfa8f7e9-6ada-4b2c-bb4f-5c32543265ae",
   "metadata": {},
   "outputs": [
    {
     "name": "stdout",
     "output_type": "stream",
     "text": [
      "Epoch 1/10\n",
      "1875/1875 [==============================] - 8s 4ms/step - loss: 2.3020 - accuracy: 0.1108 - val_loss: 2.3023 - val_accuracy: 0.1135\n",
      "Epoch 2/10\n",
      "1875/1875 [==============================] - 7s 4ms/step - loss: 2.3020 - accuracy: 0.1110 - val_loss: 2.3011 - val_accuracy: 0.1135\n",
      "Epoch 3/10\n",
      "1875/1875 [==============================] - 8s 4ms/step - loss: 2.3018 - accuracy: 0.1116 - val_loss: 2.3021 - val_accuracy: 0.1135\n",
      "Epoch 4/10\n",
      "1875/1875 [==============================] - 8s 4ms/step - loss: 2.3020 - accuracy: 0.1119 - val_loss: 2.3013 - val_accuracy: 0.1135\n",
      "Epoch 5/10\n",
      "1875/1875 [==============================] - 7s 4ms/step - loss: 2.3020 - accuracy: 0.1103 - val_loss: 2.3017 - val_accuracy: 0.1135\n",
      "Epoch 6/10\n",
      "1875/1875 [==============================] - 7s 4ms/step - loss: 2.3019 - accuracy: 0.1111 - val_loss: 2.3019 - val_accuracy: 0.1135\n",
      "Epoch 7/10\n",
      "1875/1875 [==============================] - 8s 4ms/step - loss: 2.3020 - accuracy: 0.1110 - val_loss: 2.3018 - val_accuracy: 0.1135\n",
      "Epoch 8/10\n",
      "1875/1875 [==============================] - 8s 4ms/step - loss: 2.3019 - accuracy: 0.1092 - val_loss: 2.3014 - val_accuracy: 0.1135\n",
      "Epoch 9/10\n",
      "1875/1875 [==============================] - 7s 4ms/step - loss: 2.3020 - accuracy: 0.1114 - val_loss: 2.3017 - val_accuracy: 0.1135\n",
      "Epoch 10/10\n",
      "1875/1875 [==============================] - 7s 4ms/step - loss: 2.3020 - accuracy: 0.1116 - val_loss: 2.3013 - val_accuracy: 0.1135\n"
     ]
    }
   ],
   "source": [
    "# train the model\n",
    "# fit the model. This starts training it.\n",
    "# Use batch size of 32 images\n",
    "# Run 10 total epochs\n",
    "# When fit() is done, we have a fully trained model!\n",
    "\n",
    "# hyper-parameters\n",
    "batch_size = 32\n",
    "epochs = 10\n",
    "# train the model\n",
    "history = model.fit(x_train, \n",
    "                    y_train_one_hot, \n",
    "                    epochs=epochs, \n",
    "                    batch_size=batch_size, \n",
    "                    validation_data=(x_val, y_val_one_hot))"
   ]
  },
  {
   "cell_type": "code",
   "execution_count": 15,
   "id": "683e7ff1-4e70-42db-a89b-3b97805f519f",
   "metadata": {},
   "outputs": [],
   "source": [
    "def plot_loss(history_dict):\n",
    "    loss_values = history_dict['loss']\n",
    "    val_loss_values = history_dict['val_loss']\n",
    "    epochs = range(1, len(loss_values) + 1)\n",
    "    print(epochs)\n",
    "\n",
    "    # Visualize the loss\n",
    "    plt.plot(epochs, loss_values, 'bo', label='Training loss')\n",
    "    plt.plot(epochs, val_loss_values, 'b', label='Validation loss')\n",
    "    plt.title('Training and validation loss')\n",
    "    plt.xlabel('Epochs')\n",
    "    plt.ylabel('Loss')\n",
    "    plt.legend()\n",
    "    plt.show()\n",
    "\n",
    "def plot_accuracy(history_dict):\n",
    "    acc_values = history_dict['accuracy']\n",
    "    val_acc_values = history_dict['val_accuracy']\n",
    "    epochs = range(1, len(acc_values) + 1)\n",
    "    print(epochs)\n",
    "\n",
    "    plt.plot(epochs, acc_values, 'bo', label='Training acc')\n",
    "    plt.plot(epochs, val_acc_values, 'b', label='Validation acc')\n",
    "    plt.title('Training and validation accuracy')\n",
    "    plt.xlabel('Epochs')\n",
    "    plt.ylabel('Loss')\n",
    "    plt.legend()\n",
    "    plt.show()"
   ]
  },
  {
   "cell_type": "code",
   "execution_count": 35,
   "id": "96f56789-e770-4913-9a08-f7dd36be56b7",
   "metadata": {},
   "outputs": [
    {
     "name": "stdout",
     "output_type": "stream",
     "text": [
      "range(1, 11)\n"
     ]
    },
    {
     "data": {
      "image/png": "[encoded data removed]",
      "text/plain": [
       "<Figure size 640x480 with 1 Axes>"
      ]
     },
     "metadata": {},
     "output_type": "display_data"
    },
    {
     "name": "stdout",
     "output_type": "stream",
     "text": [
      "range(1, 11)\n"
     ]
    },
    {
     "data": {
      "image/png": "[encoded data removed]",
      "text/plain": [
       "<Figure size 640x480 with 1 Axes>"
      ]
     },
     "metadata": {},
     "output_type": "display_data"
    }
   ],
   "source": [
    "history_dict = history.history\n",
    "plot_loss(history_dict)\n",
    "plot_accuracy(history_dict)"
   ]
  },
  {
   "cell_type": "code",
   "execution_count": 36,
   "id": "ef3d471f-fb1a-47bf-ad24-b8181dc2e86d",
   "metadata": {},
   "outputs": [
    {
     "data": {
      "image/png": "[encoded data removed]",
      "text/plain": [
       "<Figure size 640x480 with 1 Axes>"
      ]
     },
     "metadata": {},
     "output_type": "display_data"
    },
    {
     "name": "stdout",
     "output_type": "stream",
     "text": [
      "image.shape (1, 28, 28, 1)\n",
      "1/1 [==============================] - 0s 20ms/step\n",
      "pred_probs: (1, 10)\n",
      "pred_probs: [0.09519304 0.1139355  0.10321052 0.10217651 0.09816103 0.09068051\n",
      " 0.09674644 0.1091676  0.0937539  0.09697501]\n",
      "Prediction: 1\n"
     ]
    }
   ],
   "source": [
    "# prediction workflow\n",
    "# This gets a random image from the test set and displays it.\n",
    "# Notice that we want the image to come from the test set, containing data the model didn't see during training\n",
    "image = random.choice(x_test)\n",
    "\n",
    "# show the image\n",
    "plt.imshow(image, cmap=plt.get_cmap('gray'))\n",
    "plt.show()\n",
    "\n",
    "# Need to reshape and normalize the image as we did before with the entire train set\n",
    "# pre-process image / build a batch of one image to predict\n",
    "image = (image.reshape((1, 28, 28, 1))).astype('float32') / 255.0\n",
    "print('image.shape', image.shape)\n",
    "\n",
    "# predict\n",
    "pred_probs = model.predict(image)\n",
    "# print out probs of the batch\n",
    "print('pred_probs:', pred_probs.shape)\n",
    "print('pred_probs:', pred_probs[0])\n",
    "\n",
    "# predict the value of the image.\n",
    "\n",
    "# The result is a one-hot-encoded vector.\n",
    "# Nedd to take the argmax value (the position with the highest probability) to get the result.\n",
    "# get index/class of max prob\n",
    "pred = np.argmax(pred_probs, axis=1)\n",
    "print(\"Prediction:\", pred[0])"
   ]
  }
 ],
 "metadata": {
  "kernelspec": {
   "display_name": "Python 3 (ipykernel)",
   "language": "python",
   "name": "python3"
  },
  "language_info": {
   "codemirror_mode": {
    "name": "ipython",
    "version": 3
   },
   "file_extension": ".py",
   "mimetype": "text/x-python",
   "name": "python",
   "nbconvert_exporter": "python",
   "pygments_lexer": "ipython3",
   "version": "3.9.6"
  }
 },
 "nbformat": 4,
 "nbformat_minor": 5
}
