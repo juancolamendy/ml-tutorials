{
 "cells": [
  {
   "cell_type": "code",
   "execution_count": 11,
   "id": "2fff7d07-1fdb-4e23-88c9-bf5b258a535a",
   "metadata": {},
   "outputs": [],
   "source": [
    "# Downloading the dataset\n",
    "# !pwd\n",
    "#ls local_training_data/dogs-cats/train\n",
    "# !ls local_training_data/dogs-cats-small\n",
    "import os, shutil"
   ]
  },
  {
   "cell_type": "code",
   "execution_count": 13,
   "id": "be47a4bf-bf79-4cae-9668-ceeb20257cb8",
   "metadata": {},
   "outputs": [],
   "source": [
    "# define dataset dir\n",
    "original_dataset_dir = 'local_training_data/dogs-cats/train'\n",
    "base_dir = 'local_training_data/dogs-cats-small'"
   ]
  },
  {
   "cell_type": "code",
   "execution_count": 17,
   "id": "fd7fca9b-4fae-4c9b-9c36-a95374c51993",
   "metadata": {},
   "outputs": [
    {
     "name": "stdout",
     "output_type": "stream",
     "text": [
      "train_dir: local_training_data/dogs-cats-small/train\n",
      "validation_dir: local_training_data/dogs-cats-small/validation\n",
      "test_dir: local_training_data/dogs-cats-small/test\n"
     ]
    }
   ],
   "source": [
    "# make directories\n",
    "train_dir = os.path.join(base_dir, 'train')\n",
    "if not os.path.isdir(train_dir):\n",
    "    os.mkdir(train_dir)\n",
    "print('train_dir:', train_dir)\n",
    "\n",
    "validation_dir = os.path.join(base_dir, 'validation')\n",
    "if not os.path.isdir(validation_dir):\n",
    "    os.mkdir(validation_dir)\n",
    "print('validation_dir:', validation_dir)\n",
    "\n",
    "test_dir = os.path.join(base_dir, 'test')\n",
    "if not os.path.isdir(test_dir):\n",
    "    os.mkdir(test_dir)\n",
    "print('test_dir:', test_dir)"
   ]
  },
  {
   "cell_type": "code",
   "execution_count": null,
   "id": "3ad1919b-344f-4076-9b10-c4fb76658308",
   "metadata": {},
   "outputs": [],
   "source": []
  }
 ],
 "metadata": {
  "kernelspec": {
   "display_name": "Python 3 (ipykernel)",
   "language": "python",
   "name": "python3"
  },
  "language_info": {
   "codemirror_mode": {
    "name": "ipython",
    "version": 3
   },
   "file_extension": ".py",
   "mimetype": "text/x-python",
   "name": "python",
   "nbconvert_exporter": "python",
   "pygments_lexer": "ipython3",
   "version": "3.9.6"
  }
 },
 "nbformat": 4,
 "nbformat_minor": 5
}
