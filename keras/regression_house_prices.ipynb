{
 "cells": [
  {
   "cell_type": "code",
   "execution_count": 1,
   "id": "bcd19ae0-7a9a-490c-8db1-1ca5cf8fc318",
   "metadata": {},
   "outputs": [],
   "source": [
    "# dependencies\n",
    "from keras.datasets import boston_housing"
   ]
  },
  {
   "cell_type": "code",
   "execution_count": null,
   "id": "6e0f9b76-c753-42f1-809a-902f4c5a1da0",
   "metadata": {},
   "outputs": [],
   "source": [
    "# Notes:\n",
    "# - Regression is done using different loss functions than what we used for classification.\n",
    "# Mean squared error (MSE) is a loss function commonly used for regres- sion.\n",
    "# - Evaluation metrics to be used for regression differ from those used for classification\n",
    "# Common regression metric is mean absolute error (MAE).\n",
    "# - When features in the input data have values in different ranges, each feature should be scaled independently as a preprocessing step.\n",
    "# - When there is little data available, using K-fold validation is a great way to reliably evaluate a model.\n",
    "# - When little training data is available, it’s preferable to use a small network with few hidden layers (typically only one or two), \n",
    "# in order to avoid severe overfitting"
   ]
  },
  {
   "cell_type": "code",
   "execution_count": 2,
   "id": "ffe44cee-1352-4048-bc20-5a297f855596",
   "metadata": {},
   "outputs": [],
   "source": [
    "(train_data, train_targets), (test_data, test_targets) = boston_housing.load_data()"
   ]
  },
  {
   "cell_type": "code",
   "execution_count": 3,
   "id": "66645e15-30fe-4f40-adf3-613aac371a59",
   "metadata": {},
   "outputs": [
    {
     "name": "stdout",
     "output_type": "stream",
     "text": [
      "(404, 13)\n",
      "(102, 13)\n",
      "(404,)\n",
      "[[1.23247e+00 0.00000e+00 8.14000e+00 0.00000e+00 5.38000e-01 6.14200e+00\n",
      "  9.17000e+01 3.97690e+00 4.00000e+00 3.07000e+02 2.10000e+01 3.96900e+02\n",
      "  1.87200e+01]\n",
      " [2.17700e-02 8.25000e+01 2.03000e+00 0.00000e+00 4.15000e-01 7.61000e+00\n",
      "  1.57000e+01 6.27000e+00 2.00000e+00 3.48000e+02 1.47000e+01 3.95380e+02\n",
      "  3.11000e+00]\n",
      " [4.89822e+00 0.00000e+00 1.81000e+01 0.00000e+00 6.31000e-01 4.97000e+00\n",
      "  1.00000e+02 1.33250e+00 2.40000e+01 6.66000e+02 2.02000e+01 3.75520e+02\n",
      "  3.26000e+00]]\n",
      "[15.2 42.3 50. ]\n"
     ]
    }
   ],
   "source": [
    "print(train_data.shape)\n",
    "print(test_data.shape)\n",
    "print(train_targets.shape)\n",
    "\n",
    "print(train_data[:3])\n",
    "print(train_targets[:3])"
   ]
  },
  {
   "cell_type": "code",
   "execution_count": 4,
   "id": "1be305aa-f415-4378-ade8-130e16515c69",
   "metadata": {},
   "outputs": [
    {
     "name": "stdout",
     "output_type": "stream",
     "text": [
      "[3.74511057e+00 1.14801980e+01 1.11044307e+01 6.18811881e-02\n",
      " 5.57355941e-01 6.26708168e+00 6.90106436e+01 3.74027079e+00\n",
      " 9.44059406e+00 4.05898515e+02 1.84759901e+01 3.54783168e+02\n",
      " 1.27408168e+01]\n",
      "[9.22929073e+00 2.37382770e+01 6.80287253e+00 2.40939633e-01\n",
      " 1.17147847e-01 7.08908627e-01 2.79060634e+01 2.02770050e+00\n",
      " 8.68758849e+00 1.66168506e+02 2.19765689e+00 9.39946015e+01\n",
      " 7.24556085e+00]\n"
     ]
    }
   ],
   "source": [
    "# Preparing the data\n",
    "# It would be problematic to feed into a neural network values that all take wildly differ- ent ranges.\n",
    "# A widespread best practice to deal with such data is to do feature-wise normalization: for each feature in the input data \n",
    "# (a column in the input data matrix), you subtract the mean of the feature and divide by the standard deviation, \n",
    "# so that the feature is centered around 0 and has a unit standard deviation. \n",
    "\n",
    "# normalize train data\n",
    "mean = train_data.mean(axis=0)\n",
    "print(mean)\n",
    "train_data -= mean\n",
    "std = train_data.std(axis=0)\n",
    "print(std)\n",
    "train_data /= std\n",
    "\n",
    "# normalize test data\n",
    "test_data -= mean\n",
    "test_data /= std"
   ]
  },
  {
   "cell_type": "code",
   "execution_count": 5,
   "id": "7679052d-1eed-4bfd-8b77-3fc5619b49f1",
   "metadata": {},
   "outputs": [
    {
     "name": "stdout",
     "output_type": "stream",
     "text": [
      "(404, 13)\n",
      "(102, 13)\n",
      "(404,)\n",
      "[[-0.27224633 -0.48361547 -0.43576161 -0.25683275 -0.1652266  -0.1764426\n",
      "   0.81306188  0.1166983  -0.62624905 -0.59517003  1.14850044  0.44807713\n",
      "   0.8252202 ]\n",
      " [-0.40342651  2.99178419 -1.33391162 -0.25683275 -1.21518188  1.89434613\n",
      "  -1.91036058  1.24758524 -0.85646254 -0.34843254 -1.71818909  0.43190599\n",
      "  -1.32920239]\n",
      " [ 0.1249402  -0.48361547  1.0283258  -0.25683275  0.62864202 -1.82968811\n",
      "   1.11048828 -1.18743907  1.67588577  1.5652875   0.78447637  0.22061726\n",
      "  -1.30850006]]\n",
      "[15.2 42.3 50. ]\n"
     ]
    }
   ],
   "source": [
    "print(train_data.shape)\n",
    "print(test_data.shape)\n",
    "print(train_targets.shape)\n",
    "\n",
    "print(train_data[:3])\n",
    "print(train_targets[:3])"
   ]
  },
  {
   "cell_type": "code",
   "execution_count": 6,
   "id": "de16622b-9e4a-43da-b024-aef1af2cf984",
   "metadata": {},
   "outputs": [
    {
     "name": "stdout",
     "output_type": "stream",
     "text": [
      "13\n"
     ]
    }
   ],
   "source": [
    "# Building your network\n",
    "from keras import models\n",
    "from keras import layers\n",
    "\n",
    "# notes:\n",
    "# the network ends with a single unit and no activation (it will be a linear layer). This is a typical setup for scalar regression\n",
    "# note that you compile the network with the mse loss function—mean squared error, the square of the difference between the predictions \n",
    "# and the targets. This is a widely used loss function for regression problems.\n",
    "# monitor using mean absolute error (MAE).\n",
    "\n",
    "input_shape = train_data.shape[1]\n",
    "print(input_shape)\n",
    "\n",
    "def build_model():\n",
    "    model = models.Sequential()\n",
    "    model.add(layers.Dense(64, activation='relu', input_shape=(input_shape,)))\n",
    "    model.add(layers.Dense(64, activation='relu'))\n",
    "    model.add(layers.Dense(1))\n",
    "    model.compile(optimizer='rmsprop', loss='mse', metrics=['mae'])\n",
    "    return model"
   ]
  },
  {
   "cell_type": "code",
   "execution_count": 7,
   "id": "b2d06140-3d09-4145-9567-08bbc9bde9cf",
   "metadata": {},
   "outputs": [
    {
     "name": "stdout",
     "output_type": "stream",
     "text": [
      "processing fold # 0\n",
      "processing fold # 1\n",
      "processing fold # 2\n",
      "processing fold # 3\n"
     ]
    }
   ],
   "source": [
    "# Validating your approach using K-fold validation\n",
    "import numpy as np\n",
    "\n",
    "k=4\n",
    "num_val_samples = len(train_data) // k\n",
    "num_epochs = 100\n",
    "all_scores = []\n",
    "\n",
    "for i in range(k):\n",
    "    print('processing fold #', i)\n",
    "    # validation data\n",
    "    val_data = train_data[i * num_val_samples: (i + 1) * num_val_samples]\n",
    "    val_targets = train_targets[i * num_val_samples: (i + 1) * num_val_samples]\n",
    "\n",
    "    # training data\n",
    "    partial_train_data = np.concatenate(\n",
    "        [ train_data[:i * num_val_samples],\n",
    "          train_data[(i + 1) * num_val_samples:] ],\n",
    "        axis=0)\n",
    "    partial_train_targets = np.concatenate(\n",
    "        [ train_targets[:i * num_val_samples],\n",
    "          train_targets[(i + 1) * num_val_samples:] ],\n",
    "        axis=0)\n",
    "\n",
    "    # build model already compiled\n",
    "    model = build_model()\n",
    "    # train\n",
    "    model.fit(partial_train_data, partial_train_targets, epochs=num_epochs, batch_size=1, verbose=0)\n",
    "    val_mse, val_mae = model.evaluate(val_data, val_targets, verbose=0)\n",
    "    all_scores.append(val_mae)"
   ]
  },
  {
   "cell_type": "code",
   "execution_count": 12,
   "id": "911888a9-59c1-4dac-a06a-dc4e68820962",
   "metadata": {},
   "outputs": [
    {
     "name": "stdout",
     "output_type": "stream",
     "text": [
      "[2.0383613109588623, 2.3496155738830566, 2.6840782165527344, 2.266479969024658]\n",
      "2.334633767604828\n"
     ]
    }
   ],
   "source": [
    "print(all_scores)\n",
    "print(np.mean(all_scores))"
   ]
  },
  {
   "cell_type": "code",
   "execution_count": 23,
   "id": "3055ac82-87cb-4289-96e7-7c6d527c730d",
   "metadata": {},
   "outputs": [
    {
     "name": "stdout",
     "output_type": "stream",
     "text": [
      "processing fold # 0\n",
      "processing fold # 1\n",
      "processing fold # 2\n",
      "processing fold # 3\n",
      "finish k validation\n"
     ]
    }
   ],
   "source": [
    "# k-fold validation\n",
    "k=4\n",
    "num_val_samples = len(train_data) // k\n",
    "num_epochs = 500\n",
    "train_losses = []\n",
    "train_scores = []\n",
    "val_losses = []\n",
    "val_scores = []\n",
    "\n",
    "for i in range(k):\n",
    "    print('processing fold #', i)\n",
    "    # validation data\n",
    "    val_data = train_data[i * num_val_samples: (i + 1) * num_val_samples]\n",
    "    val_targets = train_targets[i * num_val_samples: (i + 1) * num_val_samples]\n",
    "\n",
    "    # training data\n",
    "    partial_train_data = np.concatenate(\n",
    "        [train_data[:i * num_val_samples],\n",
    "        train_data[(i + 1) * num_val_samples:]],\n",
    "        axis=0)\n",
    "    partial_train_targets = np.concatenate(\n",
    "        [train_targets[:i * num_val_samples],\n",
    "        train_targets[(i + 1) * num_val_samples:]],\n",
    "        axis=0)\n",
    "\n",
    "    # build model already compiled\n",
    "    model = build_model()\n",
    "    # train\n",
    "    history = model.fit(partial_train_data, partial_train_targets, validation_data=(val_data, val_targets), epochs=num_epochs, batch_size=1, verbose=0)\n",
    "\n",
    "    # train history\n",
    "    train_loss = history.history['loss']\n",
    "    train_mae = history.history['mae']\n",
    "    train_losses.append(train_loss)\n",
    "    train_scores.append(train_mae)\n",
    "    # validation history\n",
    "    val_loss = history.history['val_loss']\n",
    "    val_mae = history.history['val_mae']\n",
    "    val_losses.append(val_loss)\n",
    "    val_scores.append(val_mae)\n",
    "\n",
    "print('finish k validation')"
   ]
  },
  {
   "cell_type": "code",
   "execution_count": 28,
   "id": "97fbd45f-88be-4305-b1e4-052f33ae5cee",
   "metadata": {},
   "outputs": [
    {
     "name": "stdout",
     "output_type": "stream",
     "text": [
      "4\n",
      "500\n"
     ]
    }
   ],
   "source": [
    "print(len(val_scores))\n",
    "print(len(val_scores[0]))"
   ]
  },
  {
   "cell_type": "code",
   "execution_count": 30,
   "id": "7a072d27-7e35-44df-932f-4f9907d0c88f",
   "metadata": {},
   "outputs": [],
   "source": [
    "average_val_scores = [\n",
    "    np.mean([x[i] for x in val_scores]) for i in range(num_epochs)\n",
    "]\n",
    "\n",
    "average_train_scores = [\n",
    "    np.mean([x[i] for x in train_scores]) for i in range(num_epochs)\n",
    "]"
   ]
  },
  {
   "cell_type": "code",
   "execution_count": 43,
   "id": "72684661-515d-413c-9341-f91fea5b04e8",
   "metadata": {},
   "outputs": [
    {
     "data": {
      "image/png": "[encoded data removed]",
      "text/plain": [
       "<Figure size 640x480 with 1 Axes>"
      ]
     },
     "metadata": {},
     "output_type": "display_data"
    }
   ],
   "source": [
    "import matplotlib.pyplot as plt\n",
    "\n",
    "plt.plot(range(1, len(average_train_scores) + 1),  average_train_scores, label='Training Scores')\n",
    "plt.plot(range(1, len(average_val_scores) + 1),  average_val_scores, label='Validation Scores')\n",
    "plt.legend()\n",
    "plt.xlabel('Epochs')\n",
    "plt.ylabel('Scores')\n",
    "plt.show()"
   ]
  },
  {
   "cell_type": "code",
   "execution_count": 38,
   "id": "19481243-be2b-42bf-b977-d7969744000c",
   "metadata": {},
   "outputs": [],
   "source": [
    "# It may be a little difficult to see the plot\n",
    "# Plotting validation scores, excluding the first 10 data points\n",
    "def smooth_curve(points, factor=0.9):\n",
    "  smoothed_points = []\n",
    "  for point in points:\n",
    "    if smoothed_points:\n",
    "      previous = smoothed_points[-1]\n",
    "      smoothed_points.append(previous * factor + point * (1 - factor))\n",
    "    else:\n",
    "      smoothed_points.append(point)\n",
    "  return smoothed_points"
   ]
  },
  {
   "cell_type": "code",
   "execution_count": 40,
   "id": "07ee049b-2146-4053-a4f9-9d69a1e42a5c",
   "metadata": {},
   "outputs": [],
   "source": [
    "average_val_scores_smooth = smooth_curve(average_val_scores[10:])\n",
    "average_train_scores_smooth = smooth_curve(average_train_scores[10:])"
   ]
  },
  {
   "cell_type": "code",
   "execution_count": 44,
   "id": "1f5b1b71-0081-4943-868f-5992fc329375",
   "metadata": {},
   "outputs": [
    {
     "data": {
      "image/png": "[encoded data removed]",
      "text/plain": [
       "<Figure size 640x480 with 1 Axes>"
      ]
     },
     "metadata": {},
     "output_type": "display_data"
    }
   ],
   "source": [
    "plt.plot(range(1, len(average_train_scores_smooth) + 1), average_train_scores_smooth, label='Training Scores')\n",
    "plt.plot(range(1, len(average_val_scores_smooth) + 1), average_val_scores_smooth, label='Validation Scores')\n",
    "plt.xlabel('Epochs')\n",
    "plt.ylabel('Scores')\n",
    "plt.legend()\n",
    "plt.show()"
   ]
  },
  {
   "cell_type": "code",
   "execution_count": 45,
   "id": "15f6c3dd-a2fc-4159-a51a-9a8922714988",
   "metadata": {},
   "outputs": [
    {
     "name": "stdout",
     "output_type": "stream",
     "text": [
      "4/4 [==============================] - 0s 786us/step - loss: 18.0489 - mae: 2.5974\n",
      "2.597437620162964\n"
     ]
    }
   ],
   "source": [
    "# Once you’re finished tuning other parameters of the model (in addition to the number of epochs, \n",
    "# you could also adjust the size of the hidden layers), you can train a final production model on all of the training data, \n",
    "# with the best parameters, and then look at its performance on the test data.\n",
    "model = build_model()\n",
    "model.fit(train_data, train_targets, epochs=80, batch_size=16, verbose=0)\n",
    "test_mse_score, test_mae_score = model.evaluate(test_data, test_targets)\n",
    "print(test_mae_score)\n",
    "\n",
    "# Notes\n",
    "# The average (3.0) is a much more reliable metric than any single score—that’s the entire point of K-fold cross-validation. \n",
    "# In this case, you’re off by $3,000 on average, which is significant considering that the prices range from $10,000 to $50,000."
   ]
  }
 ],
 "metadata": {
  "kernelspec": {
   "display_name": "Python 3 (ipykernel)",
   "language": "python",
   "name": "python3"
  },
  "language_info": {
   "codemirror_mode": {
    "name": "ipython",
    "version": 3
   },
   "file_extension": ".py",
   "mimetype": "text/x-python",
   "name": "python",
   "nbconvert_exporter": "python",
   "pygments_lexer": "ipython3",
   "version": "3.9.6"
  }
 },
 "nbformat": 4,
 "nbformat_minor": 5
}
