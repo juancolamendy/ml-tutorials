{
 "cells": [
  {
   "cell_type": "code",
   "execution_count": 44,
   "id": "482bae45-dc12-45b7-b41a-a171fef6df86",
   "metadata": {},
   "outputs": [],
   "source": [
    "# Dependencies\n",
    "# keras\n",
    "from keras.models import Sequential\n",
    "from keras.layers import Conv2D, MaxPooling2D, Flatten, Dense, ReLU, Input, Dropout\n",
    "from keras.datasets import fashion_mnist\n",
    "from tensorflow.keras.utils import to_categorical\n",
    "\n",
    "# import matplotlib for visualization\n",
    "import matplotlib.pyplot as plt\n",
    "\n",
    "# import numpy\n",
    "import numpy as np"
   ]
  },
  {
   "cell_type": "code",
   "execution_count": 4,
   "id": "241cbdc7-f261-4ae4-b81a-4757023b860b",
   "metadata": {},
   "outputs": [
    {
     "name": "stdout",
     "output_type": "stream",
     "text": [
      "Training images shape: (60000, 28, 28)\n",
      "Training labels shape: (60000,)\n",
      "Test images shape: (10000, 28, 28)\n",
      "Test labels shape: (10000,)\n"
     ]
    }
   ],
   "source": [
    "# Load the dataset\n",
    "(x_train, y_train), (x_test, y_test) = fashion_mnist.load_data()\n",
    "\n",
    "# Check the shape of the data\n",
    "print(\"Training images shape:\", x_train.shape)\n",
    "print(\"Training labels shape:\", y_train.shape)\n",
    "print(\"Test images shape:\", x_test.shape)\n",
    "print(\"Test labels shape:\", y_test.shape)"
   ]
  },
  {
   "cell_type": "code",
   "execution_count": 5,
   "id": "28f989ce-c638-4006-9a5b-12bf7f668f6e",
   "metadata": {},
   "outputs": [
    {
     "name": "stdout",
     "output_type": "stream",
     "text": [
      "[[  0   0   0   0   0   0   0   0   0   0   0   0   0   0   0   0   0   0\n",
      "    0   0   0   0   0   0   0   0   0   0]\n",
      " [  0   0   0   0   0   0   0   0   0   0   0   0   0   0   0   0   0   0\n",
      "    0   0   0   0   0   0   0   0   0   0]\n",
      " [  0   0   0   0   0   0   0   0   0   0   0   0   0   0   0   0   0   0\n",
      "    0   0   0   0   0   0   0   0   0   0]\n",
      " [  0   0   0   0   0   0   0   0   0   0   0   0   1   0   0  13  73   0\n",
      "    0   1   4   0   0   0   0   1   1   0]\n",
      " [  0   0   0   0   0   0   0   0   0   0   0   0   3   0  36 136 127  62\n",
      "   54   0   0   0   1   3   4   0   0   3]\n",
      " [  0   0   0   0   0   0   0   0   0   0   0   0   6   0 102 204 176 134\n",
      "  144 123  23   0   0   0   0  12  10   0]\n",
      " [  0   0   0   0   0   0   0   0   0   0   0   0   0   0 155 236 207 178\n",
      "  107 156 161 109  64  23  77 130  72  15]\n",
      " [  0   0   0   0   0   0   0   0   0   0   0   1   0  69 207 223 218 216\n",
      "  216 163 127 121 122 146 141  88 172  66]\n",
      " [  0   0   0   0   0   0   0   0   0   1   1   1   0 200 232 232 233 229\n",
      "  223 223 215 213 164 127 123 196 229   0]\n",
      " [  0   0   0   0   0   0   0   0   0   0   0   0   0 183 225 216 223 228\n",
      "  235 227 224 222 224 221 223 245 173   0]\n",
      " [  0   0   0   0   0   0   0   0   0   0   0   0   0 193 228 218 213 198\n",
      "  180 212 210 211 213 223 220 243 202   0]\n",
      " [  0   0   0   0   0   0   0   0   0   1   3   0  12 219 220 212 218 192\n",
      "  169 227 208 218 224 212 226 197 209  52]\n",
      " [  0   0   0   0   0   0   0   0   0   0   6   0  99 244 222 220 218 203\n",
      "  198 221 215 213 222 220 245 119 167  56]\n",
      " [  0   0   0   0   0   0   0   0   0   4   0   0  55 236 228 230 228 240\n",
      "  232 213 218 223 234 217 217 209  92   0]\n",
      " [  0   0   1   4   6   7   2   0   0   0   0   0 237 226 217 223 222 219\n",
      "  222 221 216 223 229 215 218 255  77   0]\n",
      " [  0   3   0   0   0   0   0   0   0  62 145 204 228 207 213 221 218 208\n",
      "  211 218 224 223 219 215 224 244 159   0]\n",
      " [  0   0   0   0  18  44  82 107 189 228 220 222 217 226 200 205 211 230\n",
      "  224 234 176 188 250 248 233 238 215   0]\n",
      " [  0  57 187 208 224 221 224 208 204 214 208 209 200 159 245 193 206 223\n",
      "  255 255 221 234 221 211 220 232 246   0]\n",
      " [  3 202 228 224 221 211 211 214 205 205 205 220 240  80 150 255 229 221\n",
      "  188 154 191 210 204 209 222 228 225   0]\n",
      " [ 98 233 198 210 222 229 229 234 249 220 194 215 217 241  65  73 106 117\n",
      "  168 219 221 215 217 223 223 224 229  29]\n",
      " [ 75 204 212 204 193 205 211 225 216 185 197 206 198 213 240 195 227 245\n",
      "  239 223 218 212 209 222 220 221 230  67]\n",
      " [ 48 203 183 194 213 197 185 190 194 192 202 214 219 221 220 236 225 216\n",
      "  199 206 186 181 177 172 181 205 206 115]\n",
      " [  0 122 219 193 179 171 183 196 204 210 213 207 211 210 200 196 194 191\n",
      "  195 191 198 192 176 156 167 177 210  92]\n",
      " [  0   0  74 189 212 191 175 172 175 181 185 188 189 188 193 198 204 209\n",
      "  210 210 211 188 188 194 192 216 170   0]\n",
      " [  2   0   0   0  66 200 222 237 239 242 246 243 244 221 220 193 191 179\n",
      "  182 182 181 176 166 168  99  58   0   0]\n",
      " [  0   0   0   0   0   0   0  40  61  44  72  41  35   0   0   0   0   0\n",
      "    0   0   0   0   0   0   0   0   0   0]\n",
      " [  0   0   0   0   0   0   0   0   0   0   0   0   0   0   0   0   0   0\n",
      "    0   0   0   0   0   0   0   0   0   0]\n",
      " [  0   0   0   0   0   0   0   0   0   0   0   0   0   0   0   0   0   0\n",
      "    0   0   0   0   0   0   0   0   0   0]]\n",
      "[[0.         0.         0.         0.         0.         0.\n",
      "  0.         0.         0.         0.         0.         0.\n",
      "  0.         0.         0.         0.         0.         0.\n",
      "  0.         0.         0.         0.         0.         0.\n",
      "  0.         0.         0.         0.        ]\n",
      " [0.         0.         0.         0.         0.         0.\n",
      "  0.         0.         0.         0.         0.         0.\n",
      "  0.         0.         0.         0.         0.         0.\n",
      "  0.         0.         0.         0.         0.         0.\n",
      "  0.         0.         0.         0.        ]\n",
      " [0.         0.         0.         0.         0.         0.\n",
      "  0.         0.         0.         0.         0.         0.\n",
      "  0.         0.         0.         0.         0.         0.\n",
      "  0.         0.         0.         0.         0.         0.\n",
      "  0.         0.         0.         0.        ]\n",
      " [0.         0.         0.         0.         0.         0.\n",
      "  0.         0.         0.         0.         0.         0.\n",
      "  0.00392157 0.         0.         0.05098039 0.28627452 0.\n",
      "  0.         0.00392157 0.01568628 0.         0.         0.\n",
      "  0.         0.00392157 0.00392157 0.        ]\n",
      " [0.         0.         0.         0.         0.         0.\n",
      "  0.         0.         0.         0.         0.         0.\n",
      "  0.01176471 0.         0.14117648 0.53333336 0.49803922 0.24313726\n",
      "  0.21176471 0.         0.         0.         0.00392157 0.01176471\n",
      "  0.01568628 0.         0.         0.01176471]\n",
      " [0.         0.         0.         0.         0.         0.\n",
      "  0.         0.         0.         0.         0.         0.\n",
      "  0.02352941 0.         0.4        0.8        0.6901961  0.5254902\n",
      "  0.5647059  0.48235294 0.09019608 0.         0.         0.\n",
      "  0.         0.04705882 0.03921569 0.        ]\n",
      " [0.         0.         0.         0.         0.         0.\n",
      "  0.         0.         0.         0.         0.         0.\n",
      "  0.         0.         0.60784316 0.9254902  0.8117647  0.69803923\n",
      "  0.41960785 0.6117647  0.6313726  0.42745098 0.2509804  0.09019608\n",
      "  0.3019608  0.50980395 0.28235295 0.05882353]\n",
      " [0.         0.         0.         0.         0.         0.\n",
      "  0.         0.         0.         0.         0.         0.00392157\n",
      "  0.         0.27058825 0.8117647  0.8745098  0.85490197 0.84705883\n",
      "  0.84705883 0.6392157  0.49803922 0.4745098  0.47843137 0.57254905\n",
      "  0.5529412  0.34509805 0.6745098  0.25882354]\n",
      " [0.         0.         0.         0.         0.         0.\n",
      "  0.         0.         0.         0.00392157 0.00392157 0.00392157\n",
      "  0.         0.78431374 0.9098039  0.9098039  0.9137255  0.8980392\n",
      "  0.8745098  0.8745098  0.84313726 0.8352941  0.6431373  0.49803922\n",
      "  0.48235294 0.76862746 0.8980392  0.        ]\n",
      " [0.         0.         0.         0.         0.         0.\n",
      "  0.         0.         0.         0.         0.         0.\n",
      "  0.         0.7176471  0.88235295 0.84705883 0.8745098  0.89411765\n",
      "  0.92156863 0.8901961  0.8784314  0.87058824 0.8784314  0.8666667\n",
      "  0.8745098  0.9607843  0.6784314  0.        ]\n",
      " [0.         0.         0.         0.         0.         0.\n",
      "  0.         0.         0.         0.         0.         0.\n",
      "  0.         0.75686276 0.89411765 0.85490197 0.8352941  0.7764706\n",
      "  0.7058824  0.83137256 0.8235294  0.827451   0.8352941  0.8745098\n",
      "  0.8627451  0.9529412  0.7921569  0.        ]\n",
      " [0.         0.         0.         0.         0.         0.\n",
      "  0.         0.         0.         0.00392157 0.01176471 0.\n",
      "  0.04705882 0.85882354 0.8627451  0.83137256 0.85490197 0.7529412\n",
      "  0.6627451  0.8901961  0.8156863  0.85490197 0.8784314  0.83137256\n",
      "  0.8862745  0.77254903 0.81960785 0.20392157]\n",
      " [0.         0.         0.         0.         0.         0.\n",
      "  0.         0.         0.         0.         0.02352941 0.\n",
      "  0.3882353  0.95686275 0.87058824 0.8627451  0.85490197 0.79607844\n",
      "  0.7764706  0.8666667  0.84313726 0.8352941  0.87058824 0.8627451\n",
      "  0.9607843  0.46666667 0.654902   0.21960784]\n",
      " [0.         0.         0.         0.         0.         0.\n",
      "  0.         0.         0.         0.01568628 0.         0.\n",
      "  0.21568628 0.9254902  0.89411765 0.9019608  0.89411765 0.9411765\n",
      "  0.9098039  0.8352941  0.85490197 0.8745098  0.91764706 0.8509804\n",
      "  0.8509804  0.81960785 0.36078432 0.        ]\n",
      " [0.         0.         0.00392157 0.01568628 0.02352941 0.02745098\n",
      "  0.00784314 0.         0.         0.         0.         0.\n",
      "  0.92941177 0.8862745  0.8509804  0.8745098  0.87058824 0.85882354\n",
      "  0.87058824 0.8666667  0.84705883 0.8745098  0.8980392  0.84313726\n",
      "  0.85490197 1.         0.3019608  0.        ]\n",
      " [0.         0.01176471 0.         0.         0.         0.\n",
      "  0.         0.         0.         0.24313726 0.5686275  0.8\n",
      "  0.89411765 0.8117647  0.8352941  0.8666667  0.85490197 0.8156863\n",
      "  0.827451   0.85490197 0.8784314  0.8745098  0.85882354 0.84313726\n",
      "  0.8784314  0.95686275 0.62352943 0.        ]\n",
      " [0.         0.         0.         0.         0.07058824 0.17254902\n",
      "  0.32156864 0.41960785 0.7411765  0.89411765 0.8627451  0.87058824\n",
      "  0.8509804  0.8862745  0.78431374 0.8039216  0.827451   0.9019608\n",
      "  0.8784314  0.91764706 0.6901961  0.7372549  0.98039216 0.972549\n",
      "  0.9137255  0.93333334 0.84313726 0.        ]\n",
      " [0.         0.22352941 0.73333335 0.8156863  0.8784314  0.8666667\n",
      "  0.8784314  0.8156863  0.8        0.8392157  0.8156863  0.81960785\n",
      "  0.78431374 0.62352943 0.9607843  0.75686276 0.80784315 0.8745098\n",
      "  1.         1.         0.8666667  0.91764706 0.8666667  0.827451\n",
      "  0.8627451  0.9098039  0.9647059  0.        ]\n",
      " [0.01176471 0.7921569  0.89411765 0.8784314  0.8666667  0.827451\n",
      "  0.827451   0.8392157  0.8039216  0.8039216  0.8039216  0.8627451\n",
      "  0.9411765  0.3137255  0.5882353  1.         0.8980392  0.8666667\n",
      "  0.7372549  0.6039216  0.7490196  0.8235294  0.8        0.81960785\n",
      "  0.87058824 0.89411765 0.88235295 0.        ]\n",
      " [0.38431373 0.9137255  0.7764706  0.8235294  0.87058824 0.8980392\n",
      "  0.8980392  0.91764706 0.9764706  0.8627451  0.7607843  0.84313726\n",
      "  0.8509804  0.94509804 0.25490198 0.28627452 0.41568628 0.45882353\n",
      "  0.65882355 0.85882354 0.8666667  0.84313726 0.8509804  0.8745098\n",
      "  0.8745098  0.8784314  0.8980392  0.11372549]\n",
      " [0.29411766 0.8        0.83137256 0.8        0.75686276 0.8039216\n",
      "  0.827451   0.88235295 0.84705883 0.7254902  0.77254903 0.80784315\n",
      "  0.7764706  0.8352941  0.9411765  0.7647059  0.8901961  0.9607843\n",
      "  0.9372549  0.8745098  0.85490197 0.83137256 0.81960785 0.87058824\n",
      "  0.8627451  0.8666667  0.9019608  0.2627451 ]\n",
      " [0.1882353  0.79607844 0.7176471  0.7607843  0.8352941  0.77254903\n",
      "  0.7254902  0.74509805 0.7607843  0.7529412  0.7921569  0.8392157\n",
      "  0.85882354 0.8666667  0.8627451  0.9254902  0.88235295 0.84705883\n",
      "  0.78039217 0.80784315 0.7294118  0.70980394 0.69411767 0.6745098\n",
      "  0.70980394 0.8039216  0.80784315 0.4509804 ]\n",
      " [0.         0.47843137 0.85882354 0.75686276 0.7019608  0.67058825\n",
      "  0.7176471  0.76862746 0.8        0.8235294  0.8352941  0.8117647\n",
      "  0.827451   0.8235294  0.78431374 0.76862746 0.7607843  0.7490196\n",
      "  0.7647059  0.7490196  0.7764706  0.7529412  0.6901961  0.6117647\n",
      "  0.654902   0.69411767 0.8235294  0.36078432]\n",
      " [0.         0.         0.2901961  0.7411765  0.83137256 0.7490196\n",
      "  0.6862745  0.6745098  0.6862745  0.70980394 0.7254902  0.7372549\n",
      "  0.7411765  0.7372549  0.75686276 0.7764706  0.8        0.81960785\n",
      "  0.8235294  0.8235294  0.827451   0.7372549  0.7372549  0.7607843\n",
      "  0.7529412  0.84705883 0.6666667  0.        ]\n",
      " [0.00784314 0.         0.         0.         0.25882354 0.78431374\n",
      "  0.87058824 0.92941177 0.9372549  0.9490196  0.9647059  0.9529412\n",
      "  0.95686275 0.8666667  0.8627451  0.75686276 0.7490196  0.7019608\n",
      "  0.7137255  0.7137255  0.70980394 0.6901961  0.6509804  0.65882355\n",
      "  0.3882353  0.22745098 0.         0.        ]\n",
      " [0.         0.         0.         0.         0.         0.\n",
      "  0.         0.15686275 0.23921569 0.17254902 0.28235295 0.16078432\n",
      "  0.13725491 0.         0.         0.         0.         0.\n",
      "  0.         0.         0.         0.         0.         0.\n",
      "  0.         0.         0.         0.        ]\n",
      " [0.         0.         0.         0.         0.         0.\n",
      "  0.         0.         0.         0.         0.         0.\n",
      "  0.         0.         0.         0.         0.         0.\n",
      "  0.         0.         0.         0.         0.         0.\n",
      "  0.         0.         0.         0.        ]\n",
      " [0.         0.         0.         0.         0.         0.\n",
      "  0.         0.         0.         0.         0.         0.\n",
      "  0.         0.         0.         0.         0.         0.\n",
      "  0.         0.         0.         0.         0.         0.\n",
      "  0.         0.         0.         0.        ]]\n"
     ]
    }
   ],
   "source": [
    "# normalize the input (image)\n",
    "print(x_train[0])\n",
    "x_train = x_train.astype('float32')\n",
    "x_test = x_test.astype('float32')\n",
    "\n",
    "x_train /= 255.0\n",
    "x_test /= 255.0\n",
    "print(x_train[0])"
   ]
  },
  {
   "cell_type": "code",
   "execution_count": 6,
   "id": "c9ddc1f4-9e59-4e3f-aebc-3f0aff90d806",
   "metadata": {},
   "outputs": [
    {
     "name": "stdout",
     "output_type": "stream",
     "text": [
      "<class 'numpy.ndarray'> (60000, 28, 28)\n",
      "<class 'numpy.ndarray'> (10000, 28, 28)\n"
     ]
    }
   ],
   "source": [
    "print(type(x_train), x_train.shape)\n",
    "print(type(x_test), x_test.shape)"
   ]
  },
  {
   "cell_type": "code",
   "execution_count": 12,
   "id": "62d93fcc-2db0-4d39-ae59-51729f13380f",
   "metadata": {},
   "outputs": [],
   "source": [
    "# x_train = x_train.reshape((-1, 28, 28, 1))\n",
    "# x_test = x_test.reshape((-1, 28, 28, 1))\n",
    "x_train = np.expand_dims(x_train, -1)\n",
    "x_test = np.expand_dims(x_test, -1)"
   ]
  },
  {
   "cell_type": "code",
   "execution_count": 14,
   "id": "1887943b-de66-4609-8f3f-e48f906c9b5c",
   "metadata": {},
   "outputs": [
    {
     "name": "stdout",
     "output_type": "stream",
     "text": [
      "<class 'numpy.ndarray'> (60000, 28, 28, 1)\n",
      "<class 'numpy.ndarray'> (10000, 28, 28, 1)\n"
     ]
    }
   ],
   "source": [
    "print(type(x_train), x_train.shape)\n",
    "print(type(x_test), x_test.shape)"
   ]
  },
  {
   "cell_type": "code",
   "execution_count": 15,
   "id": "1421e22f-42c1-4303-8d1e-4b3dbe5ebb99",
   "metadata": {},
   "outputs": [
    {
     "name": "stdout",
     "output_type": "stream",
     "text": [
      "9\n",
      "<class 'numpy.uint8'>\n"
     ]
    }
   ],
   "source": [
    "label = y_train[0]\n",
    "print(label)\n",
    "print(type(label))"
   ]
  },
  {
   "cell_type": "code",
   "execution_count": 16,
   "id": "6d3becd0-4d0e-4ff1-b72b-04e4c8706ed4",
   "metadata": {},
   "outputs": [],
   "source": [
    "# normalize the output (labels)\n",
    "y_train_one_hot = to_categorical(y_train)\n",
    "y_test_one_hot = to_categorical(y_test)"
   ]
  },
  {
   "cell_type": "code",
   "execution_count": 17,
   "id": "e4e16d33-b438-4f84-975a-c61dcade23ea",
   "metadata": {},
   "outputs": [
    {
     "name": "stdout",
     "output_type": "stream",
     "text": [
      "[0. 0. 0. 0. 0. 0. 0. 0. 0. 1.]\n"
     ]
    }
   ],
   "source": [
    "print(y_train_one_hot[0])"
   ]
  },
  {
   "cell_type": "code",
   "execution_count": 19,
   "id": "926b90ea-d76d-43a3-909e-f1089a294aca",
   "metadata": {},
   "outputs": [
    {
     "name": "stdout",
     "output_type": "stream",
     "text": [
      "['T-shirt/top', 'Trouser', 'Pullover', 'Dress', 'Coat', 'Sandal', 'Shirt', 'Sneaker', 'Bag', 'Ankle boot']\n"
     ]
    }
   ],
   "source": [
    "fashion_mnist_classes = ['T-shirt/top', 'Trouser', 'Pullover', 'Dress', 'Coat', \n",
    "                         'Sandal', 'Shirt', 'Sneaker', 'Bag', 'Ankle boot']\n",
    "print(fashion_mnist_classes)"
   ]
  },
  {
   "cell_type": "code",
   "execution_count": 21,
   "id": "40823d2c-4ac2-489e-8c33-0c485691f077",
   "metadata": {},
   "outputs": [],
   "source": [
    "def plot_image(image, title=None, cmap=\"gray\"):\n",
    "    plt.imshow(image, cmap=cmap)\n",
    "    if title:\n",
    "        plt.title(title)\n",
    "    plt.show()"
   ]
  },
  {
   "cell_type": "code",
   "execution_count": 22,
   "id": "3a983699-00cf-4911-bbba-cc0ec36904c0",
   "metadata": {},
   "outputs": [
    {
     "name": "stdout",
     "output_type": "stream",
     "text": [
      "<class 'numpy.ndarray'> (28, 28, 1)\n",
      "<class 'numpy.uint8'>\n"
     ]
    }
   ],
   "source": [
    "# See first training sample\n",
    "image, label = x_train[0], y_train[0]\n",
    "# The shape of the image tensor is [1, 28, 28] or more specifically: [color_channels=1, height=28, width=28]\n",
    "print(type(image), image.shape)\n",
    "print(type(label))"
   ]
  },
  {
   "cell_type": "code",
   "execution_count": 23,
   "id": "8e64e164-e0fb-46f6-ae3b-73abe4f01fad",
   "metadata": {},
   "outputs": [
    {
     "name": "stdout",
     "output_type": "stream",
     "text": [
      "Image shape: (28, 28)\n"
     ]
    },
    {
     "data": {
      "image/png": "[encoded data removed]",
      "text/plain": [
       "<Figure size 640x480 with 1 Axes>"
      ]
     },
     "metadata": {},
     "output_type": "display_data"
    }
   ],
   "source": [
    "# get first sample\n",
    "image, label = x_train[0], y_train[0]\n",
    "image = np.squeeze(image, axis=-1)\n",
    "title = fashion_mnist_classes[label]\n",
    "print(f\"Image shape: {image.shape}\")\n",
    "\n",
    "plot_image(image, title)"
   ]
  },
  {
   "cell_type": "code",
   "execution_count": 43,
   "id": "afffb3e7-25c2-4648-8f52-4d129879ea21",
   "metadata": {},
   "outputs": [
    {
     "name": "stdout",
     "output_type": "stream",
     "text": [
      "Model: \"sequential_6\"\n",
      "_________________________________________________________________\n",
      " Layer (type)                Output Shape              Param #   \n",
      "=================================================================\n",
      " conv2d_5 (Conv2D)           (None, 26, 26, 32)        320       \n",
      "                                                                 \n",
      " max_pooling2d_3 (MaxPoolin  (None, 13, 13, 32)        0         \n",
      " g2D)                                                            \n",
      "                                                                 \n",
      " conv2d_6 (Conv2D)           (None, 11, 11, 64)        18496     \n",
      "                                                                 \n",
      " max_pooling2d_4 (MaxPoolin  (None, 5, 5, 64)          0         \n",
      " g2D)                                                            \n",
      "                                                                 \n",
      " flatten (Flatten)           (None, 1600)              0         \n",
      "                                                                 \n",
      " dropout (Dropout)           (None, 1600)              0         \n",
      "                                                                 \n",
      " dense (Dense)               (None, 10)                16010     \n",
      "                                                                 \n",
      "=================================================================\n",
      "Total params: 34826 (136.04 KB)\n",
      "Trainable params: 34826 (136.04 KB)\n",
      "Non-trainable params: 0 (0.00 Byte)\n",
      "_________________________________________________________________\n"
     ]
    }
   ],
   "source": [
    "def create_fashion_mnist_convnet(input_shape, num_classes):\n",
    "    model = Sequential()\n",
    "\n",
    "    # Input layer\n",
    "    model.add(Input(shape=input_shape))\n",
    "    \n",
    "    # ConvNet Block 1\n",
    "    model.add(Conv2D(32, kernel_size=(3, 3), activation=\"relu\"))\n",
    "    model.add(MaxPooling2D(pool_size=(2, 2)))\n",
    "    \n",
    "    # ConvNet Block 2\n",
    "    model.add(Conv2D(64, kernel_size=(3, 3), activation=\"relu\"))\n",
    "    model.add(MaxPooling2D(pool_size=(2, 2)))\n",
    "\n",
    "    # Classifier\n",
    "    model.add(Flatten())\n",
    "    model.add(Dropout(0.5))\n",
    "    model.add(Dense(units=num_classes, activation='softmax'))\n",
    "    \n",
    "    # return model\n",
    "    return model\n",
    "    \n",
    "\n",
    "# Example usage:\n",
    "input_shape = (28, 28, 1)\n",
    "num_classes = 10  # Number of classes for FashionMNIST\n",
    "\n",
    "model = create_fashion_mnist_convnet(input_shape, num_classes)\n",
    "model.summary()"
   ]
  },
  {
   "cell_type": "code",
   "execution_count": 45,
   "id": "d81af4b5-69be-4ac2-b6fe-d51989226a5d",
   "metadata": {},
   "outputs": [],
   "source": [
    "# Compile the model\n",
    "model.compile(optimizer=\"adam\",\n",
    "              loss='categorical_crossentropy',\n",
    "              metrics=['accuracy'])"
   ]
  },
  {
   "cell_type": "code",
   "execution_count": 46,
   "id": "5fc0e374-9d3f-46c2-8fa2-541a5f432619",
   "metadata": {},
   "outputs": [],
   "source": [
    "# training data\n",
    "x_train_partial = x_train\n",
    "y_train_partial = y_train_one_hot\n",
    "\n",
    "# validation data\n",
    "x_val = x_test\n",
    "y_val = y_test_one_hot"
   ]
  },
  {
   "cell_type": "code",
   "execution_count": 84,
   "id": "2caa9f5f-36bd-4ccd-af6c-5fefa87a1aa2",
   "metadata": {},
   "outputs": [
    {
     "name": "stdout",
     "output_type": "stream",
     "text": [
      "(60000, 28, 28, 1)\n",
      "(60000, 10)\n"
     ]
    }
   ],
   "source": [
    "print(x_train_partial.shape)\n",
    "print(y_train_partial.shape)"
   ]
  },
  {
   "cell_type": "code",
   "execution_count": 47,
   "id": "ddfbbc29-d397-4f5e-a51f-768cc0dbd657",
   "metadata": {},
   "outputs": [
    {
     "name": "stdout",
     "output_type": "stream",
     "text": [
      "Epoch 1/15\n",
      "469/469 [==============================] - 7s 14ms/step - loss: 0.6810 - accuracy: 0.7555 - val_loss: 0.4639 - val_accuracy: 0.8332\n",
      "Epoch 2/15\n",
      "469/469 [==============================] - 6s 14ms/step - loss: 0.4529 - accuracy: 0.8375 - val_loss: 0.4093 - val_accuracy: 0.8531\n",
      "Epoch 3/15\n",
      "469/469 [==============================] - 7s 14ms/step - loss: 0.4016 - accuracy: 0.8552 - val_loss: 0.3628 - val_accuracy: 0.8716\n",
      "Epoch 4/15\n",
      "469/469 [==============================] - 7s 14ms/step - loss: 0.3720 - accuracy: 0.8662 - val_loss: 0.3466 - val_accuracy: 0.8773\n",
      "Epoch 5/15\n",
      "469/469 [==============================] - 7s 14ms/step - loss: 0.3515 - accuracy: 0.8726 - val_loss: 0.3287 - val_accuracy: 0.8842\n",
      "Epoch 6/15\n",
      "469/469 [==============================] - 6s 14ms/step - loss: 0.3349 - accuracy: 0.8792 - val_loss: 0.3191 - val_accuracy: 0.8876\n",
      "Epoch 7/15\n",
      "469/469 [==============================] - 7s 14ms/step - loss: 0.3224 - accuracy: 0.8839 - val_loss: 0.3081 - val_accuracy: 0.8917\n",
      "Epoch 8/15\n",
      "469/469 [==============================] - 7s 14ms/step - loss: 0.3115 - accuracy: 0.8880 - val_loss: 0.3003 - val_accuracy: 0.8914\n",
      "Epoch 9/15\n",
      "469/469 [==============================] - 7s 14ms/step - loss: 0.3021 - accuracy: 0.8899 - val_loss: 0.2906 - val_accuracy: 0.8985\n",
      "Epoch 10/15\n",
      "469/469 [==============================] - 7s 14ms/step - loss: 0.2949 - accuracy: 0.8928 - val_loss: 0.2897 - val_accuracy: 0.8956\n",
      "Epoch 11/15\n",
      "469/469 [==============================] - 7s 14ms/step - loss: 0.2889 - accuracy: 0.8947 - val_loss: 0.2986 - val_accuracy: 0.8925\n",
      "Epoch 12/15\n",
      "469/469 [==============================] - 7s 14ms/step - loss: 0.2831 - accuracy: 0.8977 - val_loss: 0.2766 - val_accuracy: 0.9005\n",
      "Epoch 13/15\n",
      "469/469 [==============================] - 7s 14ms/step - loss: 0.2784 - accuracy: 0.8982 - val_loss: 0.2938 - val_accuracy: 0.8931\n",
      "Epoch 14/15\n",
      "469/469 [==============================] - 7s 14ms/step - loss: 0.2733 - accuracy: 0.9003 - val_loss: 0.2716 - val_accuracy: 0.9039\n",
      "Epoch 15/15\n",
      "469/469 [==============================] - 7s 14ms/step - loss: 0.2706 - accuracy: 0.9013 - val_loss: 0.2622 - val_accuracy: 0.9042\n"
     ]
    }
   ],
   "source": [
    "# Training the model\n",
    "batch_size = 128\n",
    "epochs = 15\n",
    "\n",
    "history = model.fit(x_train_partial,\n",
    "                    y_train_partial,\n",
    "                    epochs=epochs,\n",
    "                    batch_size=batch_size,\n",
    "                    validation_data=(x_val, y_val))"
   ]
  },
  {
   "cell_type": "code",
   "execution_count": 48,
   "id": "6e015886-2a64-4f35-a278-818112af40fe",
   "metadata": {},
   "outputs": [
    {
     "data": {
      "text/plain": [
       "{'loss': [0.6809802055358887,\n",
       "  0.45293673872947693,\n",
       "  0.40157267451286316,\n",
       "  0.37203797698020935,\n",
       "  0.3514755666255951,\n",
       "  0.3348759114742279,\n",
       "  0.3224303722381592,\n",
       "  0.3114989399909973,\n",
       "  0.30209872126579285,\n",
       "  0.2949383556842804,\n",
       "  0.28886276483535767,\n",
       "  0.28311872482299805,\n",
       "  0.27839890122413635,\n",
       "  0.2733011245727539,\n",
       "  0.2705715596675873],\n",
       " 'accuracy': [0.755466639995575,\n",
       "  0.8375333547592163,\n",
       "  0.8551999926567078,\n",
       "  0.8662333488464355,\n",
       "  0.8726166486740112,\n",
       "  0.8792166709899902,\n",
       "  0.8839166760444641,\n",
       "  0.8880333304405212,\n",
       "  0.8898666501045227,\n",
       "  0.8928166627883911,\n",
       "  0.8947166800498962,\n",
       "  0.897683322429657,\n",
       "  0.8981833457946777,\n",
       "  0.9003000259399414,\n",
       "  0.901283323764801],\n",
       " 'val_loss': [0.4639100730419159,\n",
       "  0.4093339145183563,\n",
       "  0.36282166838645935,\n",
       "  0.3465624153614044,\n",
       "  0.32865360379219055,\n",
       "  0.31909260153770447,\n",
       "  0.3080543577671051,\n",
       "  0.30027779936790466,\n",
       "  0.2905649244785309,\n",
       "  0.28969454765319824,\n",
       "  0.29858866333961487,\n",
       "  0.2765721380710602,\n",
       "  0.2937999367713928,\n",
       "  0.2716436982154846,\n",
       "  0.2622016370296478],\n",
       " 'val_accuracy': [0.8331999778747559,\n",
       "  0.8531000018119812,\n",
       "  0.8715999722480774,\n",
       "  0.8773000240325928,\n",
       "  0.8841999769210815,\n",
       "  0.8876000046730042,\n",
       "  0.891700029373169,\n",
       "  0.8913999795913696,\n",
       "  0.8985000252723694,\n",
       "  0.8956000208854675,\n",
       "  0.8924999833106995,\n",
       "  0.9004999995231628,\n",
       "  0.8931000232696533,\n",
       "  0.9039000272750854,\n",
       "  0.90420001745224]}"
      ]
     },
     "execution_count": 48,
     "metadata": {},
     "output_type": "execute_result"
    }
   ],
   "source": [
    "history.history"
   ]
  },
  {
   "cell_type": "code",
   "execution_count": 49,
   "id": "5552d33c-6848-46d0-97a5-1c51a68c0b52",
   "metadata": {},
   "outputs": [
    {
     "data": {
      "text/plain": [
       "dict_keys(['loss', 'accuracy', 'val_loss', 'val_accuracy'])"
      ]
     },
     "execution_count": 49,
     "metadata": {},
     "output_type": "execute_result"
    }
   ],
   "source": [
    "history_dict = history.history\n",
    "history_dict.keys()"
   ]
  },
  {
   "cell_type": "code",
   "execution_count": 50,
   "id": "39c34afd-bf3d-4216-a9e1-b07cd33a5576",
   "metadata": {},
   "outputs": [],
   "source": [
    "def plot_loss(history_dict):\n",
    "    loss_values = history_dict['loss']\n",
    "    val_loss_values = history_dict['val_loss']\n",
    "    epochs = range(1, len(loss_values) + 1)\n",
    "    print(epochs)\n",
    "\n",
    "    # Visualize the loss\n",
    "    plt.plot(epochs, loss_values, 'bo', label='Training loss')\n",
    "    plt.plot(epochs, val_loss_values, 'b', label='Validation loss')\n",
    "    plt.title('Training and validation loss')\n",
    "    plt.xlabel('Epochs')\n",
    "    plt.ylabel('Loss')\n",
    "    plt.legend()\n",
    "    plt.show()\n",
    "\n",
    "def plot_accuracy(history_dict):\n",
    "    acc_values = history_dict['accuracy']\n",
    "    val_acc_values = history_dict['val_accuracy']\n",
    "    epochs = range(1, len(acc_values) + 1)\n",
    "    print(epochs)\n",
    "\n",
    "    plt.plot(epochs, acc_values, 'bo', label='Training acc')\n",
    "    plt.plot(epochs, val_acc_values, 'b', label='Validation acc')\n",
    "    plt.title('Training and validation accuracy')\n",
    "    plt.xlabel('Epochs')\n",
    "    plt.ylabel('Loss')\n",
    "    plt.legend()\n",
    "    plt.show()"
   ]
  },
  {
   "cell_type": "code",
   "execution_count": 51,
   "id": "9058b901-454b-4a11-aedf-91fdc5df2489",
   "metadata": {},
   "outputs": [
    {
     "name": "stdout",
     "output_type": "stream",
     "text": [
      "range(1, 16)\n"
     ]
    },
    {
     "data": {
      "image/png": "[encoded data removed]",
      "text/plain": [
       "<Figure size 640x480 with 1 Axes>"
      ]
     },
     "metadata": {},
     "output_type": "display_data"
    }
   ],
   "source": [
    "plot_loss(history_dict)"
   ]
  },
  {
   "cell_type": "code",
   "execution_count": 52,
   "id": "cf04c4bb-cad4-4cd1-a92d-3966d28bdfb5",
   "metadata": {},
   "outputs": [
    {
     "name": "stdout",
     "output_type": "stream",
     "text": [
      "range(1, 16)\n"
     ]
    },
    {
     "data": {
      "image/png": "[encoded data removed]",
      "text/plain": [
       "<Figure size 640x480 with 1 Axes>"
      ]
     },
     "metadata": {},
     "output_type": "display_data"
    }
   ],
   "source": [
    "plot_accuracy(history_dict)"
   ]
  },
  {
   "cell_type": "code",
   "execution_count": 53,
   "id": "81a09460-697e-44ff-a158-e61228a4199f",
   "metadata": {},
   "outputs": [
    {
     "name": "stdout",
     "output_type": "stream",
     "text": [
      "313/313 [==============================] - 1s 2ms/step - loss: 0.2622 - accuracy: 0.9042\n",
      "[0.262201726436615, 0.90420001745224]\n"
     ]
    }
   ],
   "source": [
    "results = model.evaluate(x_test, y_test_one_hot)\n",
    "print(results)"
   ]
  },
  {
   "cell_type": "code",
   "execution_count": 55,
   "id": "036afcf7-0dcd-4648-a3e8-3cf6e718b430",
   "metadata": {},
   "outputs": [
    {
     "name": "stdout",
     "output_type": "stream",
     "text": [
      "input\n",
      "[9 2 1 1 6 1 4 6 5 7]\n",
      "1/1 [==============================] - 0s 13ms/step\n",
      "prediction\n",
      "(10, 10)\n",
      "[[6.67562631e-07 2.96213587e-09 9.44152418e-08 6.31768913e-08\n",
      "  2.85439370e-07 7.80930102e-04 4.93554467e-07 2.43202737e-03\n",
      "  6.02390792e-05 9.96725261e-01]\n",
      " [3.06739908e-04 3.59542418e-09 9.99507666e-01 1.59441277e-06\n",
      "  3.84005871e-05 5.39462780e-11 1.45529877e-04 1.31605785e-11\n",
      "  3.95046058e-08 4.08738323e-08]\n",
      " [4.54098981e-08 9.99999881e-01 6.88792934e-09 2.85525061e-08\n",
      "  4.31613358e-08 4.10323511e-11 1.07349141e-09 5.33486666e-13\n",
      "  1.17223058e-08 1.52730877e-12]\n",
      " [1.51968209e-07 9.99995232e-01 2.22113883e-08 4.04605817e-06\n",
      "  4.95793643e-07 2.76722734e-08 3.79718408e-08 2.15936297e-10\n",
      "  7.72259270e-08 2.87109364e-10]\n",
      " [1.73580080e-01 5.54184662e-05 2.26737857e-02 1.70975458e-02\n",
      "  6.05633222e-02 6.03696719e-07 7.26002753e-01 2.69736120e-07\n",
      "  2.55816885e-05 6.00995691e-07]\n",
      " [3.74761100e-07 9.99999046e-01 5.87604667e-08 1.53406148e-07\n",
      "  2.73949524e-07 1.07445469e-10 1.61235238e-08 8.20384505e-13\n",
      "  1.69474930e-07 1.54092830e-12]\n",
      " [5.19249763e-04 4.36214832e-05 5.70734590e-02 9.49680631e-04\n",
      "  8.67353082e-01 1.82072000e-07 7.40313157e-02 2.14204487e-11\n",
      "  2.93680259e-05 3.87751831e-09]\n",
      " [4.66205558e-04 4.10486100e-05 1.37427403e-03 1.09724619e-03\n",
      "  3.00395135e-02 2.22010911e-07 9.65539455e-01 2.38685356e-08\n",
      "  1.44189922e-03 1.08449271e-07]\n",
      " [4.68998005e-05 2.47690565e-07 6.18715831e-06 3.82947510e-05\n",
      "  3.01433801e-07 9.98207450e-01 3.48587696e-06 7.16138806e-04\n",
      "  9.80984769e-04 4.20958877e-08]\n",
      " [2.34054437e-06 2.06651496e-09 2.07632820e-06 8.71848556e-07\n",
      "  2.71784928e-09 5.63452137e-04 4.01636306e-08 9.99408841e-01\n",
      "  1.24052831e-05 1.00048674e-05]]\n",
      "[9 2 1 1 6 1 4 6 5 7]\n"
     ]
    }
   ],
   "source": [
    "# predict\n",
    "x_pred = x_test[:10]\n",
    "y_pred = y_test[:10]\n",
    "\n",
    "print('input')\n",
    "# print(x_pred)\n",
    "print(y_pred)\n",
    "\n",
    "predictions = model.predict(x_pred)\n",
    "print('prediction')\n",
    "print(predictions.shape)\n",
    "print(predictions)\n",
    "print(np.argmax(predictions, axis=1))"
   ]
  }
 ],
 "metadata": {
  "kernelspec": {
   "display_name": "Python 3 (ipykernel)",
   "language": "python",
   "name": "python3"
  },
  "language_info": {
   "codemirror_mode": {
    "name": "ipython",
    "version": 3
   },
   "file_extension": ".py",
   "mimetype": "text/x-python",
   "name": "python",
   "nbconvert_exporter": "python",
   "pygments_lexer": "ipython3",
   "version": "3.9.6"
  }
 },
 "nbformat": 4,
 "nbformat_minor": 5
}
