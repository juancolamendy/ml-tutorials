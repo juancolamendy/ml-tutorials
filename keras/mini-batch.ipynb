{
 "cells": [
  {
   "cell_type": "code",
   "execution_count": 1,
   "id": "818378f2-d4a1-4a97-a379-cebe293ffd80",
   "metadata": {},
   "outputs": [
    {
     "name": "stdout",
     "output_type": "stream",
     "text": [
      "Epoch 1/5\n",
      " 115/3125 [>.............................] - ETA: 1s - loss: 1.4727  "
     ]
    },
    {
     "name": "stderr",
     "output_type": "stream",
     "text": [
      "/var/folders/cg/xkrtyvkn46v_d07jqjh0zkp40000gn/T/ipykernel_40391/2353437964.py:46: UserWarning: `Model.fit_generator` is deprecated and will be removed in a future version. Please use `Model.fit`, which supports generators.\n",
      "  model.fit_generator(generator, epochs=epochs, steps_per_epoch=len(generator))\n"
     ]
    },
    {
     "name": "stdout",
     "output_type": "stream",
     "text": [
      "3125/3125 [==============================] - 1s 353us/step - loss: 1.0203\n",
      "Epoch 2/5\n",
      "3125/3125 [==============================] - 1s 340us/step - loss: 1.0017\n",
      "Epoch 3/5\n",
      "3125/3125 [==============================] - 1s 333us/step - loss: 1.0012\n",
      "Epoch 4/5\n",
      "3125/3125 [==============================] - 1s 327us/step - loss: 1.0014\n",
      "Epoch 5/5\n",
      "3125/3125 [==============================] - 1s 328us/step - loss: 1.0012\n",
      "<keras.src.engine.sequential.Sequential object at 0x10523f5e0>\n"
     ]
    }
   ],
   "source": [
    "import numpy as np\n",
    "from tensorflow.keras.models import Sequential\n",
    "from tensorflow.keras.layers import Dense\n",
    "from tensorflow.keras.utils import Sequence\n",
    "\n",
    "# Define a custom data generator\n",
    "class CustomDataGenerator(Sequence):\n",
    "    def __init__(self, num_samples, num_features, batch_size):\n",
    "        self.num_samples = num_samples\n",
    "        self.num_features = num_features\n",
    "        self.batch_size = batch_size\n",
    "        self.X = np.random.randn(self.num_samples, self.num_features)\n",
    "        self.y = np.random.randn(self.num_samples, 1)\n",
    "\n",
    "    def __len__(self):\n",
    "        # Compute the number of batches to cover all samples\n",
    "        return np.ceil(self.num_samples / self.batch_size).astype(int)\n",
    "\n",
    "    def __getitem__(self, idx):\n",
    "         # Calculate start and end indices for the batch\n",
    "        start = idx * self.batch_size\n",
    "        end = min(start + self.batch_size, self.num_samples)\n",
    "        # Slice the dataset to create the batch\n",
    "        batch_x = self.X[start:end]\n",
    "        batch_y = self.y[start:end]\n",
    "        # Return result\n",
    "        return batch_x, batch_y\n",
    "\n",
    "def create_model(num_features):\n",
    "    # Simple neural network model with one dense layer\n",
    "    model = Sequential()\n",
    "    model.add(Dense(1, input_dim=num_features))\n",
    "\n",
    "    # Compile the model\n",
    "    model.compile(optimizer='sgd', loss='mean_squared_error')\n",
    "    return model\n",
    "\n",
    "def train_model(num_samples=100000, num_features=10, batch_size=32, epochs=5):\n",
    "    # Create a data generator\n",
    "    generator = CustomDataGenerator(num_samples, num_features, batch_size)\n",
    "\n",
    "    # Create and compile the model\n",
    "    model = create_model(num_features)\n",
    "\n",
    "    # Train the model using the generator\n",
    "    model.fit_generator(generator, epochs=epochs, steps_per_epoch=len(generator))\n",
    "\n",
    "    return model\n",
    "\n",
    "# Train the model\n",
    "trained_model = train_model()\n",
    "\n",
    "print(trained_model)"
   ]
  }
 ],
 "metadata": {
  "kernelspec": {
   "display_name": "Python 3 (ipykernel)",
   "language": "python",
   "name": "python3"
  },
  "language_info": {
   "codemirror_mode": {
    "name": "ipython",
    "version": 3
   },
   "file_extension": ".py",
   "mimetype": "text/x-python",
   "name": "python",
   "nbconvert_exporter": "python",
   "pygments_lexer": "ipython3",
   "version": "3.9.6"
  }
 },
 "nbformat": 4,
 "nbformat_minor": 5
}
