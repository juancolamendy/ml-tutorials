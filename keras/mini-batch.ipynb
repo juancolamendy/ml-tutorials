{
 "cells": [
  {
   "cell_type": "code",
   "execution_count": 3,
   "id": "818378f2-d4a1-4a97-a379-cebe293ffd80",
   "metadata": {},
   "outputs": [
    {
     "name": "stdout",
     "output_type": "stream",
     "text": [
      "Epoch 1/5\n",
      "\u001b[1m 487/3125\u001b[0m \u001b[32m━━━\u001b[0m\u001b[37m━━━━━━━━━━━━━━━━━\u001b[0m \u001b[1m0s\u001b[0m 309us/step - loss: 1.2838"
     ]
    },
    {
     "name": "stderr",
     "output_type": "stream",
     "text": [
      "/Users/jcolamendy/python/tutorials/ml-tutorials/venv/lib/python3.9/site-packages/keras/src/trainers/data_adapters/py_dataset_adapter.py:120: UserWarning: Your `PyDataset` class should call `super().__init__(**kwargs)` in its constructor. `**kwargs` can include `workers`, `use_multiprocessing`, `max_queue_size`. Do not pass these arguments to `fit()`, as they will be ignored.\n",
      "  self._warn_if_super_not_called()\n"
     ]
    },
    {
     "name": "stdout",
     "output_type": "stream",
     "text": [
      "\u001b[1m3125/3125\u001b[0m \u001b[32m━━━━━━━━━━━━━━━━━━━━\u001b[0m\u001b[37m\u001b[0m \u001b[1m1s\u001b[0m 306us/step - loss: 1.0684\n",
      "Epoch 2/5\n",
      "\u001b[1m3125/3125\u001b[0m \u001b[32m━━━━━━━━━━━━━━━━━━━━\u001b[0m\u001b[37m\u001b[0m \u001b[1m0s\u001b[0m 2us/step - loss: 0.0000e+00\n",
      "Epoch 3/5\n",
      "\u001b[1m 489/3125\u001b[0m \u001b[32m━━━\u001b[0m\u001b[37m━━━━━━━━━━━━━━━━━\u001b[0m \u001b[1m0s\u001b[0m 309us/step - loss: 0.9874"
     ]
    },
    {
     "name": "stderr",
     "output_type": "stream",
     "text": [
      "2024-04-03 16:34:18.112653: W tensorflow/core/framework/local_rendezvous.cc:404] Local rendezvous is aborting with status: OUT_OF_RANGE: End of sequence\n",
      "\t [[{{node IteratorGetNext}}]]\n",
      "/Library/Developer/CommandLineTools/Library/Frameworks/Python3.framework/Versions/3.9/lib/python3.9/contextlib.py:135: UserWarning: Your input ran out of data; interrupting training. Make sure that your dataset or generator can generate at least `steps_per_epoch * epochs` batches. You may need to use the `.repeat()` function when building your dataset.\n",
      "  self.gen.throw(type, value, traceback)\n"
     ]
    },
    {
     "name": "stdout",
     "output_type": "stream",
     "text": [
      "\u001b[1m3125/3125\u001b[0m \u001b[32m━━━━━━━━━━━━━━━━━━━━\u001b[0m\u001b[37m\u001b[0m \u001b[1m1s\u001b[0m 294us/step - loss: 0.9987\n",
      "Epoch 4/5\n",
      "\u001b[1m3125/3125\u001b[0m \u001b[32m━━━━━━━━━━━━━━━━━━━━\u001b[0m\u001b[37m\u001b[0m \u001b[1m0s\u001b[0m 0us/step - loss: 0.0000e+00\n",
      "Epoch 5/5\n",
      "\u001b[1m 533/3125\u001b[0m \u001b[32m━━━\u001b[0m\u001b[37m━━━━━━━━━━━━━━━━━\u001b[0m \u001b[1m0s\u001b[0m 283us/step - loss: 1.0004"
     ]
    },
    {
     "name": "stderr",
     "output_type": "stream",
     "text": [
      "2024-04-03 16:34:19.045113: W tensorflow/core/framework/local_rendezvous.cc:404] Local rendezvous is aborting with status: OUT_OF_RANGE: End of sequence\n",
      "\t [[{{node IteratorGetNext}}]]\n"
     ]
    },
    {
     "name": "stdout",
     "output_type": "stream",
     "text": [
      "\u001b[1m3125/3125\u001b[0m \u001b[32m━━━━━━━━━━━━━━━━━━━━\u001b[0m\u001b[37m\u001b[0m \u001b[1m1s\u001b[0m 294us/step - loss: 1.0025\n",
      "<Sequential name=sequential_2, built=True>\n"
     ]
    }
   ],
   "source": [
    "import numpy as np\n",
    "\n",
    "from keras.models import Sequential\n",
    "from keras.layers import Dense\n",
    "from keras.utils import Sequence\n",
    "\n",
    "# Define a custom data generator\n",
    "class CustomDataGenerator(Sequence):\n",
    "    def __init__(self, num_samples, num_features, batch_size):\n",
    "        self.num_samples = num_samples\n",
    "        self.num_features = num_features\n",
    "        self.batch_size = batch_size\n",
    "        self.X = np.random.randn(self.num_samples, self.num_features)\n",
    "        self.y = np.random.randn(self.num_samples, 1)\n",
    "\n",
    "    def __len__(self):\n",
    "        # Compute the number of batches to cover all samples\n",
    "        return np.ceil(self.num_samples / self.batch_size).astype(int)\n",
    "\n",
    "    def __getitem__(self, idx):\n",
    "         # Calculate start and end indices for the batch\n",
    "        start = idx * self.batch_size\n",
    "        end = min(start + self.batch_size, self.num_samples)\n",
    "        # Slice the dataset to create the batch\n",
    "        batch_x = self.X[start:end]\n",
    "        batch_y = self.y[start:end]\n",
    "        # Return result\n",
    "        return batch_x, batch_y\n",
    "\n",
    "def create_model(num_features):\n",
    "    # Simple neural network model with one dense layer\n",
    "    model = Sequential()\n",
    "    model.add(Dense(1, input_dim=num_features))\n",
    "\n",
    "    # Compile the model\n",
    "    model.compile(optimizer='sgd', loss='mean_squared_error')\n",
    "    return model\n",
    "\n",
    "def train_model(num_samples=100000, num_features=10, batch_size=32, epochs=5):\n",
    "    # Create a data generator\n",
    "    generator = CustomDataGenerator(num_samples, num_features, batch_size)\n",
    "\n",
    "    # Create and compile the model\n",
    "    model = create_model(num_features)\n",
    "\n",
    "    # Train the model using the generator\n",
    "    model.fit(generator, epochs=epochs, steps_per_epoch=len(generator))\n",
    "\n",
    "    return model\n",
    "\n",
    "# Train the model\n",
    "trained_model = train_model()\n",
    "\n",
    "print(trained_model)"
   ]
  }
 ],
 "metadata": {
  "kernelspec": {
   "display_name": "Python 3 (ipykernel)",
   "language": "python",
   "name": "python3"
  },
  "language_info": {
   "codemirror_mode": {
    "name": "ipython",
    "version": 3
   },
   "file_extension": ".py",
   "mimetype": "text/x-python",
   "name": "python",
   "nbconvert_exporter": "python",
   "pygments_lexer": "ipython3",
   "version": "3.9.6"
  }
 },
 "nbformat": 4,
 "nbformat_minor": 5
}
