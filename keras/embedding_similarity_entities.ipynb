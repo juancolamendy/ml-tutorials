{
 "cells": [
  {
   "cell_type": "code",
   "execution_count": 1,
   "id": "1e672424-de67-4f93-8fd7-30a5dfceac54",
   "metadata": {},
   "outputs": [
    {
     "name": "stdout",
     "output_type": "stream",
     "text": [
      "Model: \"model\"\n",
      "__________________________________________________________________________________________________\n",
      " Layer (type)                Output Shape                 Param #   Connected to                  \n",
      "==================================================================================================\n",
      " input_1 (InputLayer)        [(None, 288)]                0         []                            \n",
      "                                                                                                  \n",
      " input_2 (InputLayer)        [(None, 288)]                0         []                            \n",
      "                                                                                                  \n",
      " embedding_layer_1 (Embeddi  (None, 288, 3569)            1027872   ['input_1[0][0]']             \n",
      " ng)                                                                                              \n",
      "                                                                                                  \n",
      " embedding_layer_2 (Embeddi  (None, 288, 3569)            1027872   ['input_2[0][0]']             \n",
      " ng)                                                                                              \n",
      "                                                                                                  \n",
      " flatten (Flatten)           (None, 1027872)              0         ['embedding_layer_1[0][0]']   \n",
      "                                                                                                  \n",
      " flatten_1 (Flatten)         (None, 1027872)              0         ['embedding_layer_2[0][0]']   \n",
      "                                                                                                  \n",
      " dot (Dot)                   (None, 1)                    0         ['flatten[0][0]',             \n",
      "                                                                     'flatten_1[0][0]']           \n",
      "                                                                                                  \n",
      "==================================================================================================\n",
      "Total params: 2055744 (15.68 MB)\n",
      "Trainable params: 2055744 (15.68 MB)\n",
      "Non-trainable params: 0 (0.00 Byte)\n",
      "__________________________________________________________________________________________________\n"
     ]
    }
   ],
   "source": [
    "import tensorflow as tf\n",
    "from tensorflow.keras import Model\n",
    "from tensorflow.keras.layers import Dot, Embedding, Flatten, Input\n",
    "from tensorflow.keras.optimizers import Adam\n",
    "\n",
    "import numpy as np\n",
    "\n",
    "# Defining Input and Output Dimensions\n",
    "input_dim=288\n",
    "output_dim=3569\n",
    "\n",
    "# Building the Model\n",
    "# Define the input\n",
    "in1 = Input(input_dim)\n",
    "in2 = Input(input_dim)\n",
    "\n",
    "# Define embedding\n",
    "# Embedding layers are used for converting input integers into dense vectors of fixed size\n",
    "embedding_layer_1 = Embedding(input_dim=input_dim, output_dim=output_dim, name='embedding_layer_1', \n",
    "                              dtype='float64', trainable=True,  input_length=1)(in1)\n",
    "embedding_layer_2 = Embedding(input_dim=input_dim, output_dim=output_dim, name='embedding_layer_2',\n",
    "                              dtype='float64', trainable=True,  input_length=1)(in2)\n",
    "\n",
    "# Define the Flattening Layers\n",
    "# Flattening is the process of converting all the resultant 2D arrays \n",
    "# into a single long continuous linear vector.\n",
    "flat1 = Flatten()(embedding_layer_1)\n",
    "flat2 = Flatten()(embedding_layer_2)\n",
    "\n",
    "# Define the Dot Product Layer\n",
    "# The dot product is a measure of similarity between the two embeddings.\n",
    "dot_product = Dot(axes=-1)([flat1, flat2])\n",
    "\n",
    "# Create the model\n",
    "model = Model(inputs=[in1, in2], outputs=[dot_product])\n",
    "model.summary()"
   ]
  },
  {
   "cell_type": "code",
   "execution_count": 2,
   "id": "166ab486-f5d7-45f8-8426-d97dfeac0144",
   "metadata": {},
   "outputs": [
    {
     "name": "stderr",
     "output_type": "stream",
     "text": [
      "WARNING:absl:At this time, the v2.11+ optimizer `tf.keras.optimizers.Adam` runs slowly on M1/M2 Macs, please use the legacy Keras optimizer instead, located at `tf.keras.optimizers.legacy.Adam`.\n",
      "WARNING:absl:There is a known slowdown when using v2.11+ Keras optimizers on M1/M2 Macs. Falling back to the legacy Keras optimizer, i.e., `tf.keras.optimizers.legacy.Adam`.\n"
     ]
    }
   ],
   "source": [
    "# Compiling the Model\n",
    "model.compile(optimizer=Adam(learning_rate=0.001),  # Using Adam optimizer with a learning rate of 0.001\n",
    "              loss='mean_squared_error',  # Using Mean Squared Error as the loss function\n",
    "              metrics=['accuracy'])  # Using accuracy as a metric to observe while training"
   ]
  },
  {
   "cell_type": "code",
   "execution_count": 3,
   "id": "4069357a-9b75-4f47-8977-08988bb247a7",
   "metadata": {},
   "outputs": [
    {
     "name": "stdout",
     "output_type": "stream",
     "text": [
      "Epoch 1/10\n",
      "3/3 [==============================] - 0s 9ms/step - loss: 0.2878 - accuracy: 0.0000e+00\n",
      "Epoch 2/10\n",
      "3/3 [==============================] - 0s 7ms/step - loss: 0.0909 - accuracy: 0.0000e+00\n",
      "Epoch 3/10\n",
      "3/3 [==============================] - 0s 7ms/step - loss: 0.0146 - accuracy: 0.0000e+00\n",
      "Epoch 4/10\n",
      "3/3 [==============================] - 0s 7ms/step - loss: 0.0196 - accuracy: 0.0000e+00\n",
      "Epoch 5/10\n",
      "3/3 [==============================] - 0s 7ms/step - loss: 0.0381 - accuracy: 0.0000e+00\n",
      "Epoch 6/10\n",
      "3/3 [==============================] - 0s 7ms/step - loss: 0.0221 - accuracy: 0.0000e+00\n",
      "Epoch 7/10\n",
      "3/3 [==============================] - 0s 7ms/step - loss: 0.0045 - accuracy: 0.0000e+00\n",
      "Epoch 8/10\n",
      "3/3 [==============================] - 0s 8ms/step - loss: 0.0023 - accuracy: 0.0000e+00\n",
      "Epoch 9/10\n",
      "3/3 [==============================] - 0s 8ms/step - loss: 0.0078 - accuracy: 0.0000e+00\n",
      "Epoch 10/10\n",
      "3/3 [==============================] - 0s 8ms/step - loss: 0.0104 - accuracy: 0.0000e+00\n"
     ]
    },
    {
     "data": {
      "text/plain": [
       "<keras.src.callbacks.History at 0x289581eb0>"
      ]
     },
     "execution_count": 3,
     "metadata": {},
     "output_type": "execute_result"
    }
   ],
   "source": [
    "# Entity IDs for input 1\n",
    "input_data_1 = np.array([5,   28, 100, 200, 50])\n",
    "# Entity IDs for input 2\n",
    "input_data_2 = np.array([150, 2,  250, 10,  80])\n",
    "\n",
    "# Similarity or interaction scores\n",
    "# A list of target values representing the interaction or similarity score between the entities.\n",
    "target_values = np.array([0.2, 0.5, 0.8, 0.1, 0.6])\n",
    "\n",
    "model.fit([input_data_1, input_data_2], target_values, epochs=10, batch_size=2)"
   ]
  },
  {
   "cell_type": "code",
   "execution_count": 11,
   "id": "7bc57d62-d9d1-474e-baad-d16f32c68eb2",
   "metadata": {},
   "outputs": [
    {
     "name": "stdout",
     "output_type": "stream",
     "text": [
      "1/1 [==============================] - 0s 14ms/step\n",
      "[[-0.04592602]\n",
      " [ 0.05190716]\n",
      " [ 0.27870026]\n",
      " [ 0.48477754]]\n"
     ]
    }
   ],
   "source": [
    "# Pairs of integers representing the new entities for which \n",
    "# you want to predict the similarity or interaction\n",
    "# New entity IDs for input 1\n",
    "new_input_data_1 = np.array([15, 80, 5, 28])\n",
    "# New entity IDs for input 2\n",
    "new_input_data_2 = np.array([45, 22, 150, 2])\n",
    "\n",
    "# Make predictions\n",
    "# Get the similarity or interaction scores for the new pairs of entities\n",
    "predictions = model.predict([new_input_data_1, new_input_data_2])\n",
    "\n",
    "# The output is a list of predicted similarity or interaction scores corresponding to each pair of new entities\n",
    "print(predictions)\n",
    "# [[-0.04592602]\n",
    "#  [ 0.05190716]]"
   ]
  }
 ],
 "metadata": {
  "kernelspec": {
   "display_name": "Python 3 (ipykernel)",
   "language": "python",
   "name": "python3"
  },
  "language_info": {
   "codemirror_mode": {
    "name": "ipython",
    "version": 3
   },
   "file_extension": ".py",
   "mimetype": "text/x-python",
   "name": "python",
   "nbconvert_exporter": "python",
   "pygments_lexer": "ipython3",
   "version": "3.9.6"
  }
 },
 "nbformat": 4,
 "nbformat_minor": 5
}
