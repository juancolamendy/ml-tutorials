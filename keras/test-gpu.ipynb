{
 "cells": [
  {
   "cell_type": "code",
   "execution_count": 4,
   "id": "e7ad9f1c-9050-4bff-8045-170a51bda5ea",
   "metadata": {},
   "outputs": [
    {
     "name": "stdout",
     "output_type": "stream",
     "text": [
      "TensorFlow version: 2.13.0\n",
      "Num GPUs Available:  1\n",
      "WARNING:tensorflow:AutoGraph could not transform <function normalize_img at 0x2bef03f70> and will run it as-is.\n",
      "Cause: Unable to locate the source code of <function normalize_img at 0x2bef03f70>. Note that functions defined in certain environments, like the interactive Python shell, do not expose their source code. If that is the case, you should define them in a .py source file. If you are certain the code is graph-compatible, wrap the call using @tf.autograph.experimental.do_not_convert. Original error: could not get source code\n",
      "To silence this warning, decorate the function with @tf.autograph.experimental.do_not_convert\n"
     ]
    },
    {
     "name": "stderr",
     "output_type": "stream",
     "text": [
      "WARNING:tensorflow:AutoGraph could not transform <function normalize_img at 0x2bef03f70> and will run it as-is.\n",
      "Cause: Unable to locate the source code of <function normalize_img at 0x2bef03f70>. Note that functions defined in certain environments, like the interactive Python shell, do not expose their source code. If that is the case, you should define them in a .py source file. If you are certain the code is graph-compatible, wrap the call using @tf.autograph.experimental.do_not_convert. Original error: could not get source code\n",
      "To silence this warning, decorate the function with @tf.autograph.experimental.do_not_convert\n"
     ]
    },
    {
     "name": "stdout",
     "output_type": "stream",
     "text": [
      "WARNING: AutoGraph could not transform <function normalize_img at 0x2bef03f70> and will run it as-is.\n",
      "Cause: Unable to locate the source code of <function normalize_img at 0x2bef03f70>. Note that functions defined in certain environments, like the interactive Python shell, do not expose their source code. If that is the case, you should define them in a .py source file. If you are certain the code is graph-compatible, wrap the call using @tf.autograph.experimental.do_not_convert. Original error: could not get source code\n",
      "To silence this warning, decorate the function with @tf.autograph.experimental.do_not_convert\n"
     ]
    },
    {
     "name": "stderr",
     "output_type": "stream",
     "text": [
      "WARNING:absl:At this time, the v2.11+ optimizer `tf.keras.optimizers.Adam` runs slowly on M1/M2 Macs, please use the legacy Keras optimizer instead, located at `tf.keras.optimizers.legacy.Adam`.\n",
      "WARNING:absl:There is a known slowdown when using v2.11+ Keras optimizers on M1/M2 Macs. Falling back to the legacy Keras optimizer, i.e., `tf.keras.optimizers.legacy.Adam`.\n"
     ]
    },
    {
     "name": "stdout",
     "output_type": "stream",
     "text": [
      "Epoch 1/12\n"
     ]
    },
    {
     "name": "stderr",
     "output_type": "stream",
     "text": [
      "2023-10-06 17:22:55.143286: I tensorflow/core/grappler/optimizers/custom_graph_optimizer_registry.cc:114] Plugin optimizer for device_type GPU is enabled.\n"
     ]
    },
    {
     "name": "stdout",
     "output_type": "stream",
     "text": [
      "469/469 [==============================] - ETA: 0s - loss: 0.1689 - accuracy: 0.9493"
     ]
    },
    {
     "name": "stderr",
     "output_type": "stream",
     "text": [
      "2023-10-06 17:23:02.713256: I tensorflow/core/grappler/optimizers/custom_graph_optimizer_registry.cc:114] Plugin optimizer for device_type GPU is enabled.\n"
     ]
    },
    {
     "name": "stdout",
     "output_type": "stream",
     "text": [
      "469/469 [==============================] - 8s 15ms/step - loss: 0.1689 - accuracy: 0.9493 - val_loss: 0.0546 - val_accuracy: 0.9819\n",
      "Epoch 2/12\n",
      "469/469 [==============================] - 7s 14ms/step - loss: 0.0604 - accuracy: 0.9822 - val_loss: 0.0453 - val_accuracy: 0.9851\n",
      "Epoch 3/12\n",
      "469/469 [==============================] - 7s 14ms/step - loss: 0.0617 - accuracy: 0.9840 - val_loss: 0.0855 - val_accuracy: 0.9784\n",
      "Epoch 4/12\n",
      "469/469 [==============================] - 7s 14ms/step - loss: 0.0926 - accuracy: 0.9823 - val_loss: 0.1258 - val_accuracy: 0.9819\n",
      "Epoch 5/12\n",
      "469/469 [==============================] - 7s 15ms/step - loss: 0.2068 - accuracy: 0.9805 - val_loss: 0.3613 - val_accuracy: 0.9789\n",
      "Epoch 6/12\n",
      "469/469 [==============================] - 7s 14ms/step - loss: 0.9061 - accuracy: 0.9744 - val_loss: 2.1110 - val_accuracy: 0.9711\n",
      "Epoch 7/12\n",
      "469/469 [==============================] - 7s 14ms/step - loss: 3.3573 - accuracy: 0.9732 - val_loss: 6.3041 - val_accuracy: 0.9703\n",
      "Epoch 8/12\n",
      "469/469 [==============================] - 7s 15ms/step - loss: 11.8672 - accuracy: 0.9693 - val_loss: 16.2272 - val_accuracy: 0.9734\n",
      "Epoch 9/12\n",
      "469/469 [==============================] - 7s 14ms/step - loss: 28.4370 - accuracy: 0.9684 - val_loss: 51.7389 - val_accuracy: 0.9581\n",
      "Epoch 10/12\n",
      "469/469 [==============================] - 7s 15ms/step - loss: 46.8066 - accuracy: 0.9703 - val_loss: 74.6570 - val_accuracy: 0.9595\n",
      "Epoch 11/12\n",
      "469/469 [==============================] - 7s 15ms/step - loss: 80.0369 - accuracy: 0.9701 - val_loss: 102.3017 - val_accuracy: 0.9690\n",
      "Epoch 12/12\n",
      "469/469 [==============================] - 7s 15ms/step - loss: 122.6631 - accuracy: 0.9680 - val_loss: 131.5051 - val_accuracy: 0.9717\n",
      "CPU times: user 40.4 s, sys: 24.9 s, total: 1min 5s\n",
      "Wall time: 1min 23s\n"
     ]
    },
    {
     "data": {
      "text/plain": [
       "<keras.src.callbacks.History at 0x2bd1b51f0>"
      ]
     },
     "execution_count": 4,
     "metadata": {},
     "output_type": "execute_result"
    }
   ],
   "source": [
    "%%time\n",
    "import tensorflow as tf\n",
    "import tensorflow_datasets as tfds\n",
    "\n",
    "print(\"TensorFlow version:\", tf.__version__)\n",
    "print(\"Num GPUs Available: \", len(tf.config.experimental.list_physical_devices('GPU')))\n",
    "tf.config.list_physical_devices('GPU')\n",
    "\n",
    "(ds_train, ds_test), ds_info = tfds.load(\n",
    "    'mnist',\n",
    "    split=['train', 'test'],\n",
    "    shuffle_files=True,\n",
    "    as_supervised=True,\n",
    "    with_info=True,\n",
    ")\n",
    "\n",
    "def normalize_img(image, label):\n",
    "  \"\"\"Normalizes images: `uint8` -> `float32`.\"\"\"\n",
    "  return tf.cast(image, tf.float32) / 255., label\n",
    "\n",
    "batch_size = 128\n",
    "ds_train = ds_train.map(normalize_img, num_parallel_calls=tf.data.experimental.AUTOTUNE)\n",
    "\n",
    "ds_train = ds_train.cache()\n",
    "ds_train = ds_train.shuffle(ds_info.splits['train'].num_examples)\n",
    "ds_train = ds_train.batch(batch_size)\n",
    "ds_train = ds_train.prefetch(tf.data.experimental.AUTOTUNE)\n",
    "\n",
    "ds_test = ds_test.map(normalize_img, num_parallel_calls=tf.data.experimental.AUTOTUNE)\n",
    "ds_test = ds_test.batch(batch_size)\n",
    "ds_test = ds_test.cache()\n",
    "ds_test = ds_test.prefetch(tf.data.experimental.AUTOTUNE)\n",
    "\n",
    "model = tf.keras.models.Sequential([\n",
    "  tf.keras.layers.Conv2D(32, kernel_size=(3, 3), activation='relu'),\n",
    "  tf.keras.layers.Conv2D(64, kernel_size=(3, 3), activation='relu'),\n",
    "  tf.keras.layers.MaxPooling2D(pool_size=(2, 2)),\n",
    "#   tf.keras.layers.Dropout(0.25),\n",
    "  tf.keras.layers.Flatten(),\n",
    "  tf.keras.layers.Dense(128, activation='relu'),\n",
    "#   tf.keras.layers.Dropout(0.5),\n",
    "  tf.keras.layers.Dense(10, activation='softmax')\n",
    "])\n",
    "\n",
    "model.compile(\n",
    "    loss='sparse_categorical_crossentropy',\n",
    "    optimizer=tf.keras.optimizers.Adam(0.001),\n",
    "    metrics=['accuracy'],\n",
    ")\n",
    "\n",
    "model.fit(\n",
    "    ds_train,\n",
    "    epochs=12,\n",
    "    validation_data=ds_test,\n",
    ")"
   ]
  }
 ],
 "metadata": {
  "kernelspec": {
   "display_name": "Python 3 (ipykernel)",
   "language": "python",
   "name": "python3"
  },
  "language_info": {
   "codemirror_mode": {
    "name": "ipython",
    "version": 3
   },
   "file_extension": ".py",
   "mimetype": "text/x-python",
   "name": "python",
   "nbconvert_exporter": "python",
   "pygments_lexer": "ipython3",
   "version": "3.9.6"
  }
 },
 "nbformat": 4,
 "nbformat_minor": 5
}
