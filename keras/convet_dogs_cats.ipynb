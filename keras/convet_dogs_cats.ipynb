{
 "cells": [
  {
   "cell_type": "code",
   "execution_count": 1,
   "id": "2fff7d07-1fdb-4e23-88c9-bf5b258a535a",
   "metadata": {},
   "outputs": [],
   "source": [
    "# Downloading the dataset\n",
    "# !pwd\n",
    "#ls local_training_data/dogs-cats/train\n",
    "# !ls local_training_data/dogs-cats-small\n",
    "import os, shutil"
   ]
  },
  {
   "cell_type": "code",
   "execution_count": 2,
   "id": "be47a4bf-bf79-4cae-9668-ceeb20257cb8",
   "metadata": {},
   "outputs": [],
   "source": [
    "# define dataset dir\n",
    "original_dataset_dir = 'local_training_data/dogs-cats/train'\n",
    "base_dir = 'local_training_data/dogs-cats-small'"
   ]
  },
  {
   "cell_type": "code",
   "execution_count": 3,
   "id": "fd7fca9b-4fae-4c9b-9c36-a95374c51993",
   "metadata": {},
   "outputs": [
    {
     "name": "stdout",
     "output_type": "stream",
     "text": [
      "train_dir: local_training_data/dogs-cats-small/train\n",
      "validation_dir: local_training_data/dogs-cats-small/validation\n",
      "test_dir: local_training_data/dogs-cats-small/test\n",
      "train_cats_dir: local_training_data/dogs-cats-small/train/cats\n",
      "train_dogs_dir: local_training_data/dogs-cats-small/train/dogs\n",
      "validation_cats_dir: local_training_data/dogs-cats-small/validation/cats\n",
      "validation_dogs_dir: local_training_data/dogs-cats-small/validation/dogs\n",
      "test_cats_dir: local_training_data/dogs-cats-small/test/cats\n",
      "test_dogs_dir: local_training_data/dogs-cats-small/test/dogs\n"
     ]
    }
   ],
   "source": [
    "# make directories\n",
    "train_dir = os.path.join(base_dir, 'train')\n",
    "if not os.path.exists(train_dir):\n",
    "    os.mkdir(train_dir)\n",
    "print('train_dir:', train_dir)\n",
    "\n",
    "validation_dir = os.path.join(base_dir, 'validation')\n",
    "if not os.path.exists(validation_dir):\n",
    "    os.mkdir(validation_dir)\n",
    "print('validation_dir:', validation_dir)\n",
    "\n",
    "test_dir = os.path.join(base_dir, 'test')\n",
    "if not os.path.exists(test_dir):\n",
    "    os.mkdir(test_dir)\n",
    "print('test_dir:', test_dir)\n",
    "\n",
    "train_cats_dir = os.path.join(train_dir, 'cats')\n",
    "if not os.path.exists(train_cats_dir):\n",
    "    os.mkdir(train_cats_dir)\n",
    "print('train_cats_dir:', train_cats_dir)\n",
    "\n",
    "train_dogs_dir = os.path.join(train_dir, 'dogs')\n",
    "if not os.path.exists(train_dogs_dir):\n",
    "    os.mkdir(train_dogs_dir)\n",
    "print('train_dogs_dir:', train_dogs_dir)\n",
    "\n",
    "validation_cats_dir = os.path.join(validation_dir, 'cats')\n",
    "if not os.path.exists(validation_cats_dir):\n",
    "    os.mkdir(validation_cats_dir)\n",
    "print('validation_cats_dir:', validation_cats_dir)\n",
    "\n",
    "validation_dogs_dir = os.path.join(validation_dir, 'dogs')\n",
    "if not os.path.exists(validation_dogs_dir):\n",
    "    os.mkdir(validation_dogs_dir)\n",
    "print('validation_dogs_dir:', validation_dogs_dir)\n",
    "\n",
    "test_cats_dir = os.path.join(test_dir, 'cats')\n",
    "if not os.path.exists(test_cats_dir):\n",
    "    os.mkdir(test_cats_dir)\n",
    "print('test_cats_dir:', test_cats_dir)\n",
    "\n",
    "test_dogs_dir = os.path.join(test_dir, 'dogs')\n",
    "if not os.path.exists(test_dogs_dir):\n",
    "    os.mkdir(test_dogs_dir)\n",
    "print('test_dogs_dir:', test_dogs_dir)"
   ]
  },
  {
   "cell_type": "code",
   "execution_count": 4,
   "id": "b1d799a8-cf74-43c4-815e-c01726c0878b",
   "metadata": {},
   "outputs": [],
   "source": [
    "# Copies the first 1,000 cat images to train_cats_dir\n",
    "fnames = ['cat.{}.jpg'.format(i) for i in range(1000)]\n",
    "for fname in fnames:\n",
    "    src = os.path.join(original_dataset_dir, fname)\n",
    "    dst = os.path.join(train_cats_dir, fname)\n",
    "    shutil.copyfile(src, dst)"
   ]
  },
  {
   "cell_type": "code",
   "execution_count": 5,
   "id": "a8e6ac2a-a050-44fb-8704-10f0221bc453",
   "metadata": {},
   "outputs": [],
   "source": [
    "# Copies the next 500 cat images to validation_cats_dir\n",
    "fnames = ['cat.{}.jpg'.format(i) for i in range(1000, 1500)]\n",
    "for fname in fnames:\n",
    "    src = os.path.join(original_dataset_dir, fname)\n",
    "    dst = os.path.join(validation_cats_dir, fname)\n",
    "    shutil.copyfile(src, dst)"
   ]
  },
  {
   "cell_type": "code",
   "execution_count": 6,
   "id": "3ad1919b-344f-4076-9b10-c4fb76658308",
   "metadata": {},
   "outputs": [],
   "source": [
    "# Copies the next 500 cat images to test_cats_dir\n",
    "fnames = ['cat.{}.jpg'.format(i) for i in range(1500, 2000)]\n",
    "for fname in fnames:\n",
    "    src = os.path.join(original_dataset_dir, fname)\n",
    "    dst = os.path.join(test_cats_dir, fname)\n",
    "    shutil.copyfile(src, dst)"
   ]
  },
  {
   "cell_type": "code",
   "execution_count": 7,
   "id": "7acbf276-8596-46a3-81d7-6c52f659fd1f",
   "metadata": {},
   "outputs": [],
   "source": [
    "# Copies the first 1,000 dog images to train_dogs_dir\n",
    "fnames = ['dog.{}.jpg'.format(i) for i in range(1000)]\n",
    "for fname in fnames:\n",
    "    src = os.path.join(original_dataset_dir, fname)\n",
    "    dst = os.path.join(train_dogs_dir, fname)\n",
    "    shutil.copyfile(src, dst)"
   ]
  },
  {
   "cell_type": "code",
   "execution_count": 8,
   "id": "41aa88ca-120e-427a-a629-8599f23144b0",
   "metadata": {},
   "outputs": [],
   "source": [
    "# Copies the next 500 dog images to validation_dogs_dir\n",
    "fnames = ['dog.{}.jpg'.format(i) for i in range(1000, 1500)]\n",
    "for fname in fnames:\n",
    "    src = os.path.join(original_dataset_dir, fname)\n",
    "    dst = os.path.join(validation_dogs_dir, fname)\n",
    "    shutil.copyfile(src, dst)"
   ]
  },
  {
   "cell_type": "code",
   "execution_count": 9,
   "id": "763cf0f0-8b77-4c75-a3a5-94970acb48f6",
   "metadata": {},
   "outputs": [],
   "source": [
    "# Copies the next 500 dog images to test_dogs_dir\n",
    "fnames = ['dog.{}.jpg'.format(i) for i in range(1500, 2000)]\n",
    "for fname in fnames:\n",
    "    src = os.path.join(original_dataset_dir, fname)\n",
    "    dst = os.path.join(test_dogs_dir, fname)\n",
    "    shutil.copyfile(src, dst)"
   ]
  },
  {
   "cell_type": "code",
   "execution_count": 11,
   "id": "40f3faef-2793-4222-819e-60a99afe400b",
   "metadata": {},
   "outputs": [
    {
     "name": "stdout",
     "output_type": "stream",
     "text": [
      "total training cat images: 1000\n",
      "total training dog images: 1000\n",
      "total validation cat images: 500\n",
      "total validation dog images: 500\n",
      "total test cat images: 500\n",
      "total test dog images: 500\n"
     ]
    }
   ],
   "source": [
    "# do sanity check\n",
    "print('total training cat images:', len(os.listdir(train_cats_dir)))\n",
    "print('total training dog images:', len(os.listdir(train_dogs_dir)))\n",
    "print('total validation cat images:', len(os.listdir(validation_cats_dir)))\n",
    "print('total validation dog images:', len(os.listdir(validation_dogs_dir)))\n",
    "print('total test cat images:', len(os.listdir(test_cats_dir)))\n",
    "print('total test dog images:', len(os.listdir(test_dogs_dir)))"
   ]
  },
  {
   "cell_type": "code",
   "execution_count": 12,
   "id": "4cdc3f16-d71d-41a7-993e-2a9f03040c02",
   "metadata": {},
   "outputs": [
    {
     "name": "stdout",
     "output_type": "stream",
     "text": [
      "Model: \"sequential\"\n",
      "_________________________________________________________________\n",
      " Layer (type)                Output Shape              Param #   \n",
      "=================================================================\n",
      " conv2d (Conv2D)             (None, 148, 148, 32)      896       \n",
      "                                                                 \n",
      " max_pooling2d (MaxPooling2  (None, 74, 74, 32)        0         \n",
      " D)                                                              \n",
      "                                                                 \n",
      " conv2d_1 (Conv2D)           (None, 72, 72, 64)        18496     \n",
      "                                                                 \n",
      " max_pooling2d_1 (MaxPoolin  (None, 36, 36, 64)        0         \n",
      " g2D)                                                            \n",
      "                                                                 \n",
      " conv2d_2 (Conv2D)           (None, 34, 34, 128)       73856     \n",
      "                                                                 \n",
      " max_pooling2d_2 (MaxPoolin  (None, 17, 17, 128)       0         \n",
      " g2D)                                                            \n",
      "                                                                 \n",
      " conv2d_3 (Conv2D)           (None, 15, 15, 128)       147584    \n",
      "                                                                 \n",
      " max_pooling2d_3 (MaxPoolin  (None, 7, 7, 128)         0         \n",
      " g2D)                                                            \n",
      "                                                                 \n",
      " flatten (Flatten)           (None, 6272)              0         \n",
      "                                                                 \n",
      " dense (Dense)               (None, 512)               3211776   \n",
      "                                                                 \n",
      " dense_1 (Dense)             (None, 1)                 513       \n",
      "                                                                 \n",
      "=================================================================\n",
      "Total params: 3453121 (13.17 MB)\n",
      "Trainable params: 3453121 (13.17 MB)\n",
      "Non-trainable params: 0 (0.00 Byte)\n",
      "_________________________________________________________________\n"
     ]
    }
   ],
   "source": [
    "# Building your network\n",
    "from keras import layers\n",
    "from keras import models\n",
    "\n",
    "# define the model\n",
    "model = models.Sequential()\n",
    "model.add(layers.Conv2D(32, (3, 3), activation='relu', input_shape=(150, 150, 3)))\n",
    "model.add(layers.MaxPooling2D((2, 2)))\n",
    "model.add(layers.Conv2D(64, (3, 3), activation='relu'))\n",
    "model.add(layers.MaxPooling2D((2, 2)))\n",
    "model.add(layers.Conv2D(128, (3, 3), activation='relu'))\n",
    "model.add(layers.MaxPooling2D((2, 2)))\n",
    "model.add(layers.Conv2D(128, (3, 3), activation='relu'))\n",
    "model.add(layers.MaxPooling2D((2, 2)))\n",
    "model.add(layers.Flatten())\n",
    "model.add(layers.Dense(512, activation='relu'))\n",
    "model.add(layers.Dense(1, activation='sigmoid'))\n",
    "\n",
    "# summary\n",
    "model.summary()"
   ]
  },
  {
   "cell_type": "code",
   "execution_count": 13,
   "id": "a0d92bed-d61a-40fc-9fe3-49752875ba60",
   "metadata": {},
   "outputs": [
    {
     "name": "stderr",
     "output_type": "stream",
     "text": [
      "WARNING:absl:At this time, the v2.11+ optimizer `tf.keras.optimizers.RMSprop` runs slowly on M1/M2 Macs, please use the legacy Keras optimizer instead, located at `tf.keras.optimizers.legacy.RMSprop`.\n",
      "WARNING:absl:`lr` is deprecated in Keras optimizer, please use `learning_rate` or use the legacy optimizer, e.g.,tf.keras.optimizers.legacy.RMSprop.\n",
      "WARNING:absl:There is a known slowdown when using v2.11+ Keras optimizers on M1/M2 Macs. Falling back to the legacy Keras optimizer, i.e., `tf.keras.optimizers.legacy.RMSprop`.\n"
     ]
    }
   ],
   "source": [
    "# compile the model\n",
    "from keras import optimizers\n",
    "\n",
    "model.compile(loss='binary_crossentropy',\n",
    "              optimizer=optimizers.RMSprop(lr=1e-4),\n",
    "              metrics=['acc'])"
   ]
  },
  {
   "cell_type": "code",
   "execution_count": 14,
   "id": "1664c780-83e0-465d-8154-eff2e91d6a98",
   "metadata": {},
   "outputs": [
    {
     "name": "stdout",
     "output_type": "stream",
     "text": [
      "Found 2000 images belonging to 2 classes.\n",
      "Found 1000 images belonging to 2 classes.\n"
     ]
    }
   ],
   "source": [
    "# Data preprocessing\n",
    "# ImageDataGenerator to read images from directories\n",
    "from keras.preprocessing.image import ImageDataGenerator\n",
    "\n",
    "# create data generator\n",
    "# rescales all images by 1/255\n",
    "train_datagen = ImageDataGenerator(rescale=1./255)\n",
    "test_datagen = ImageDataGenerator(rescale=1./255)\n",
    "\n",
    "train_generator = train_datagen.flow_from_directory(\n",
    "    train_dir, # target directory\n",
    "    target_size=(150, 150), # Resizes all images to 150 × 150\n",
    "    batch_size=20,\n",
    "    class_mode='binary')\n",
    "\n",
    "validation_generator = test_datagen.flow_from_directory(\n",
    "    validation_dir,\n",
    "    target_size=(150, 150),\n",
    "    batch_size=20,\n",
    "    class_mode='binary')"
   ]
  },
  {
   "cell_type": "code",
   "execution_count": 15,
   "id": "ad11e31c-e06a-47cd-9ea1-27fb0e9b4e02",
   "metadata": {},
   "outputs": [
    {
     "name": "stdout",
     "output_type": "stream",
     "text": [
      "data batch shape: (20, 150, 150, 3)\n",
      "labels batch shape: (20,)\n"
     ]
    }
   ],
   "source": [
    "# test generator\n",
    "for data_batch, labels_batch in train_generator:\n",
    "    print('data batch shape:', data_batch.shape)\n",
    "    print('labels batch shape:', labels_batch.shape)\n",
    "    break"
   ]
  },
  {
   "cell_type": "code",
   "execution_count": 16,
   "id": "5aaf074d-6987-49dc-9f08-a7f7bf1892b3",
   "metadata": {},
   "outputs": [
    {
     "name": "stdout",
     "output_type": "stream",
     "text": [
      "Epoch 1/30\n"
     ]
    },
    {
     "name": "stderr",
     "output_type": "stream",
     "text": [
      "/var/folders/cg/xkrtyvkn46v_d07jqjh0zkp40000gn/T/ipykernel_92499/1374918029.py:5: UserWarning: `Model.fit_generator` is deprecated and will be removed in a future version. Please use `Model.fit`, which supports generators.\n",
      "  history = model.fit_generator(\n"
     ]
    },
    {
     "name": "stdout",
     "output_type": "stream",
     "text": [
      "100/100 [==============================] - 13s 126ms/step - loss: 0.7334 - acc: 0.5210 - val_loss: 0.6920 - val_acc: 0.5030\n",
      "Epoch 2/30\n",
      "100/100 [==============================] - 12s 124ms/step - loss: 0.6943 - acc: 0.5535 - val_loss: 0.6556 - val_acc: 0.6470\n",
      "Epoch 3/30\n",
      "100/100 [==============================] - 13s 126ms/step - loss: 0.6275 - acc: 0.6580 - val_loss: 0.5996 - val_acc: 0.6700\n",
      "Epoch 4/30\n",
      "100/100 [==============================] - 13s 128ms/step - loss: 0.5807 - acc: 0.6870 - val_loss: 0.9340 - val_acc: 0.5950\n",
      "Epoch 5/30\n",
      "100/100 [==============================] - 13s 126ms/step - loss: 0.5389 - acc: 0.7310 - val_loss: 0.5882 - val_acc: 0.6790\n",
      "Epoch 6/30\n",
      "100/100 [==============================] - 13s 125ms/step - loss: 0.5030 - acc: 0.7650 - val_loss: 0.5704 - val_acc: 0.7380\n",
      "Epoch 7/30\n",
      "100/100 [==============================] - 13s 126ms/step - loss: 0.4428 - acc: 0.7930 - val_loss: 0.5540 - val_acc: 0.7410\n",
      "Epoch 8/30\n",
      "100/100 [==============================] - 13s 127ms/step - loss: 0.3880 - acc: 0.8185 - val_loss: 0.6348 - val_acc: 0.6960\n",
      "Epoch 9/30\n",
      "100/100 [==============================] - 13s 126ms/step - loss: 0.3494 - acc: 0.8555 - val_loss: 0.6233 - val_acc: 0.7080\n",
      "Epoch 10/30\n",
      "100/100 [==============================] - 13s 133ms/step - loss: 0.3068 - acc: 0.8750 - val_loss: 0.6830 - val_acc: 0.7370\n",
      "Epoch 11/30\n",
      "100/100 [==============================] - 14s 137ms/step - loss: 0.2226 - acc: 0.9115 - val_loss: 0.8166 - val_acc: 0.7130\n",
      "Epoch 12/30\n",
      "100/100 [==============================] - 12s 124ms/step - loss: 0.1828 - acc: 0.9305 - val_loss: 0.9164 - val_acc: 0.7260\n",
      "Epoch 13/30\n",
      "100/100 [==============================] - 13s 126ms/step - loss: 0.1614 - acc: 0.9325 - val_loss: 0.9187 - val_acc: 0.7410\n",
      "Epoch 14/30\n",
      "100/100 [==============================] - 14s 137ms/step - loss: 0.1162 - acc: 0.9555 - val_loss: 1.4576 - val_acc: 0.7260\n",
      "Epoch 15/30\n",
      "100/100 [==============================] - 14s 135ms/step - loss: 0.1073 - acc: 0.9620 - val_loss: 1.4967 - val_acc: 0.7190\n",
      "Epoch 16/30\n",
      "100/100 [==============================] - 13s 129ms/step - loss: 0.1006 - acc: 0.9690 - val_loss: 1.6994 - val_acc: 0.7160\n",
      "Epoch 17/30\n",
      "100/100 [==============================] - 13s 133ms/step - loss: 0.0926 - acc: 0.9695 - val_loss: 1.4442 - val_acc: 0.7080\n",
      "Epoch 18/30\n",
      "100/100 [==============================] - 13s 126ms/step - loss: 0.0697 - acc: 0.9805 - val_loss: 2.0597 - val_acc: 0.7130\n",
      "Epoch 19/30\n",
      "100/100 [==============================] - 13s 131ms/step - loss: 0.0676 - acc: 0.9785 - val_loss: 1.7889 - val_acc: 0.7280\n",
      "Epoch 20/30\n",
      "100/100 [==============================] - 14s 138ms/step - loss: 0.0557 - acc: 0.9860 - val_loss: 1.6780 - val_acc: 0.7100\n",
      "Epoch 21/30\n",
      "100/100 [==============================] - 13s 131ms/step - loss: 0.0421 - acc: 0.9860 - val_loss: 2.3458 - val_acc: 0.7100\n",
      "Epoch 22/30\n",
      "100/100 [==============================] - 13s 129ms/step - loss: 0.0672 - acc: 0.9825 - val_loss: 2.1408 - val_acc: 0.7400\n",
      "Epoch 23/30\n",
      "100/100 [==============================] - 13s 125ms/step - loss: 0.0512 - acc: 0.9870 - val_loss: 1.7120 - val_acc: 0.7220\n",
      "Epoch 24/30\n",
      "100/100 [==============================] - 13s 129ms/step - loss: 0.0472 - acc: 0.9900 - val_loss: 2.4767 - val_acc: 0.7400\n",
      "Epoch 25/30\n",
      "100/100 [==============================] - 13s 130ms/step - loss: 0.0626 - acc: 0.9890 - val_loss: 2.2722 - val_acc: 0.7280\n",
      "Epoch 26/30\n",
      "100/100 [==============================] - 13s 129ms/step - loss: 0.0509 - acc: 0.9865 - val_loss: 2.9706 - val_acc: 0.7350\n",
      "Epoch 27/30\n",
      "100/100 [==============================] - 13s 128ms/step - loss: 0.0208 - acc: 0.9935 - val_loss: 2.9564 - val_acc: 0.7340\n",
      "Epoch 28/30\n",
      "100/100 [==============================] - 13s 134ms/step - loss: 0.0585 - acc: 0.9855 - val_loss: 3.0836 - val_acc: 0.7310\n",
      "Epoch 29/30\n",
      "100/100 [==============================] - 13s 131ms/step - loss: 0.0674 - acc: 0.9870 - val_loss: 2.8674 - val_acc: 0.7240\n",
      "Epoch 30/30\n",
      "100/100 [==============================] - 13s 128ms/step - loss: 0.0594 - acc: 0.9860 - val_loss: 2.6301 - val_acc: 0.7120\n"
     ]
    }
   ],
   "source": [
    "# fit the model\n",
    "# calculate: steps_per_epoch => number of batches fetched\n",
    "# batches = 20 samples, steps_per_epoch/batches = 100, then  2,000 samples\n",
    "# steps_per_epoch = total_samples / batch_size\n",
    "history = model.fit_generator(\n",
    "    train_generator,\n",
    "    steps_per_epoch=100,\n",
    "    epochs=30,\n",
    "    validation_data=validation_generator,\n",
    "    validation_steps=50)"
   ]
  },
  {
   "cell_type": "code",
   "execution_count": 17,
   "id": "b4d0aae9-8da4-490d-851f-de9000296985",
   "metadata": {},
   "outputs": [
    {
     "name": "stderr",
     "output_type": "stream",
     "text": [
      "/Users/jcolamendy/python/ml-tutorials/venv/lib/python3.9/site-packages/keras/src/engine/training.py:3000: UserWarning: You are saving your model as an HDF5 file via `model.save()`. This file format is considered legacy. We recommend using instead the native Keras format, e.g. `model.save('my_model.keras')`.\n",
      "  saving_api.save_model(\n"
     ]
    }
   ],
   "source": [
    "model.save('trained_models/cats_and_dogs_small_1.h5')"
   ]
  },
  {
   "cell_type": "code",
   "execution_count": 20,
   "id": "6d58628c-63d6-4463-bfc6-d800268ebb0d",
   "metadata": {},
   "outputs": [
    {
     "data": {
      "text/plain": [
       "dict_keys(['loss', 'acc', 'val_loss', 'val_acc'])"
      ]
     },
     "execution_count": 20,
     "metadata": {},
     "output_type": "execute_result"
    }
   ],
   "source": [
    "import matplotlib.pyplot as plt\n",
    "\n",
    "history.history.keys()"
   ]
  },
  {
   "cell_type": "code",
   "execution_count": 21,
   "id": "592064bf-15cf-4e4d-9c25-7e956b88419d",
   "metadata": {},
   "outputs": [
    {
     "data": {
      "image/png": "[encoded data removed]",
      "text/plain": [
       "<Figure size 640x480 with 1 Axes>"
      ]
     },
     "metadata": {},
     "output_type": "display_data"
    },
    {
     "data": {
      "image/png": "[encoded data removed]",
      "text/plain": [
       "<Figure size 640x480 with 1 Axes>"
      ]
     },
     "metadata": {},
     "output_type": "display_data"
    }
   ],
   "source": [
    "acc = history.history['acc']\n",
    "val_acc = history.history['val_acc']\n",
    "\n",
    "loss = history.history['loss']\n",
    "val_loss = history.history['val_loss']\n",
    "\n",
    "epochs = range(1, len(acc) + 1)\n",
    "\n",
    "plt.plot(epochs, acc, 'bo', label='Training acc')\n",
    "plt.plot(epochs, val_acc, 'b', label='Validation acc')\n",
    "plt.title('Training and validation accuracy')\n",
    "plt.legend()\n",
    "plt.figure()\n",
    "\n",
    "plt.plot(epochs, loss, 'bo', label='Training loss')\n",
    "plt.plot(epochs, val_loss, 'b', label='Validation loss')\n",
    "plt.title('Training and validation loss')\n",
    "plt.legend()\n",
    "\n",
    "plt.show()\n",
    "\n",
    "# The training accuracy increases linearly over time, until it reaches nearly 100%, whereas the validation accuracy stalls at 70–72%.\n",
    "# The validation loss reaches its minimum after only five epochs and then stalls, whereas the training loss keeps decreasing linearly until it reaches nearly 0."
   ]
  }
 ],
 "metadata": {
  "kernelspec": {
   "display_name": "Python 3 (ipykernel)",
   "language": "python",
   "name": "python3"
  },
  "language_info": {
   "codemirror_mode": {
    "name": "ipython",
    "version": 3
   },
   "file_extension": ".py",
   "mimetype": "text/x-python",
   "name": "python",
   "nbconvert_exporter": "python",
   "pygments_lexer": "ipython3",
   "version": "3.9.6"
  }
 },
 "nbformat": 4,
 "nbformat_minor": 5
}
